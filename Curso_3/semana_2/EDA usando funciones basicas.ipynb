{
 "cells": [
  {
   "cell_type": "markdown",
   "metadata": {},
   "source": [
    "# EDA usando funciones basicas con Python"
   ]
  },
  {
   "cell_type": "markdown",
   "metadata": {
    "id": "LRoMZaMGM40L"
   },
   "source": [
    "A lo largo de este cuaderno, implementaremos la detección de habilidades en un conjunto de datos. Antes de comenzar, mira el video instructivo asociado y responde la pregunta en el video. Todo el código que implementaremos y las instrucciones relacionadas se encuentran en este cuaderno."
   ]
  },
  {
   "cell_type": "markdown",
   "metadata": {},
   "source": [
    "## Resumen\n",
    "\n",
    "En este cuaderno, utilizaremos pandas para examinar los datos de los rayos recopilados por la Administración Nacional Oceánica y Atmosférica (NOAA) en 2018. Luego, calcularemos el número total de rayos por cada mes y representaremos esta información en un gráfico de barras."
   ]
  },
  {
   "cell_type": "markdown",
   "metadata": {},
   "source": [
    "## Importar paquetes y bibliotecas\n",
    "\n",
    "Antes de comenzar, necesitaremos importar todas las bibliotecas y extensiones necesarias. A lo largo del curso, utilizaremos pandas, numpy y datetime para realizar operaciones, y matplotlib, pyplot y seaborn para crear gráficos."
   ]
  },
  {
   "cell_type": "code",
   "execution_count": 1,
   "metadata": {
    "id": "N0E8KXV4M40Q"
   },
   "outputs": [],
   "source": [
    "import pandas as pd\n",
    "import numpy as np\n",
    "import datetime as dt\n",
    "import matplotlib.pyplot as plt"
   ]
  },
  {
   "cell_type": "code",
   "execution_count": 2,
   "metadata": {
    "id": "klv0Mx6Tx8f0"
   },
   "outputs": [],
   "source": [
    "# Read in the 2018 lightning strike dataset.\n",
    "df = pd.read_csv('eda_using_basic_data_functions_in_python_dataset1.csv')"
   ]
  },
  {
   "cell_type": "code",
   "execution_count": 3,
   "metadata": {
    "colab": {
     "base_uri": "https://localhost:8080/",
     "height": 363
    },
    "id": "hEYIhPvAKtAd",
    "outputId": "462fa3fc-020b-4d16-b3ff-d4848de12658"
   },
   "outputs": [
    {
     "data": {
      "text/html": [
       "<div>\n",
       "<style scoped>\n",
       "    .dataframe tbody tr th:only-of-type {\n",
       "        vertical-align: middle;\n",
       "    }\n",
       "\n",
       "    .dataframe tbody tr th {\n",
       "        vertical-align: top;\n",
       "    }\n",
       "\n",
       "    .dataframe thead th {\n",
       "        text-align: right;\n",
       "    }\n",
       "</style>\n",
       "<table border=\"1\" class=\"dataframe\">\n",
       "  <thead>\n",
       "    <tr style=\"text-align: right;\">\n",
       "      <th></th>\n",
       "      <th>date</th>\n",
       "      <th>number_of_strikes</th>\n",
       "      <th>center_point_geom</th>\n",
       "    </tr>\n",
       "  </thead>\n",
       "  <tbody>\n",
       "    <tr>\n",
       "      <th>0</th>\n",
       "      <td>2018-01-03</td>\n",
       "      <td>194</td>\n",
       "      <td>POINT(-75 27)</td>\n",
       "    </tr>\n",
       "    <tr>\n",
       "      <th>1</th>\n",
       "      <td>2018-01-03</td>\n",
       "      <td>41</td>\n",
       "      <td>POINT(-78.4 29)</td>\n",
       "    </tr>\n",
       "    <tr>\n",
       "      <th>2</th>\n",
       "      <td>2018-01-03</td>\n",
       "      <td>33</td>\n",
       "      <td>POINT(-73.9 27)</td>\n",
       "    </tr>\n",
       "    <tr>\n",
       "      <th>3</th>\n",
       "      <td>2018-01-03</td>\n",
       "      <td>38</td>\n",
       "      <td>POINT(-73.8 27)</td>\n",
       "    </tr>\n",
       "    <tr>\n",
       "      <th>4</th>\n",
       "      <td>2018-01-03</td>\n",
       "      <td>92</td>\n",
       "      <td>POINT(-79 28)</td>\n",
       "    </tr>\n",
       "    <tr>\n",
       "      <th>5</th>\n",
       "      <td>2018-01-03</td>\n",
       "      <td>119</td>\n",
       "      <td>POINT(-78 28)</td>\n",
       "    </tr>\n",
       "    <tr>\n",
       "      <th>6</th>\n",
       "      <td>2018-01-03</td>\n",
       "      <td>35</td>\n",
       "      <td>POINT(-79.3 28)</td>\n",
       "    </tr>\n",
       "    <tr>\n",
       "      <th>7</th>\n",
       "      <td>2018-01-03</td>\n",
       "      <td>60</td>\n",
       "      <td>POINT(-79.1 28)</td>\n",
       "    </tr>\n",
       "    <tr>\n",
       "      <th>8</th>\n",
       "      <td>2018-01-03</td>\n",
       "      <td>41</td>\n",
       "      <td>POINT(-78.7 28)</td>\n",
       "    </tr>\n",
       "    <tr>\n",
       "      <th>9</th>\n",
       "      <td>2018-01-03</td>\n",
       "      <td>119</td>\n",
       "      <td>POINT(-78.6 28)</td>\n",
       "    </tr>\n",
       "  </tbody>\n",
       "</table>\n",
       "</div>"
      ],
      "text/plain": [
       "         date  number_of_strikes center_point_geom\n",
       "0  2018-01-03                194     POINT(-75 27)\n",
       "1  2018-01-03                 41   POINT(-78.4 29)\n",
       "2  2018-01-03                 33   POINT(-73.9 27)\n",
       "3  2018-01-03                 38   POINT(-73.8 27)\n",
       "4  2018-01-03                 92     POINT(-79 28)\n",
       "5  2018-01-03                119     POINT(-78 28)\n",
       "6  2018-01-03                 35   POINT(-79.3 28)\n",
       "7  2018-01-03                 60   POINT(-79.1 28)\n",
       "8  2018-01-03                 41   POINT(-78.7 28)\n",
       "9  2018-01-03                119   POINT(-78.6 28)"
      ]
     },
     "execution_count": 3,
     "metadata": {},
     "output_type": "execute_result"
    }
   ],
   "source": [
    "# Inspect the first 10 rows.\n",
    "df.head(10)"
   ]
  },
  {
   "cell_type": "markdown",
   "metadata": {
    "id": "XlLl6X7LM40T"
   },
   "source": [
    "Ten en cuenta que los datos están estructurados como una fila por día junto con la ubicación geométrica del impacto.  \n",
    "\n",
    " Una forma rápida de determinar cuántas filas y columnas de datos hay en total es usar  `df.shape` . La información se mostrará como: ([filas], [columnas])."
   ]
  },
  {
   "cell_type": "markdown",
   "metadata": {
    "id": "_ukbCDA_M40U"
   },
   "source": []
  },
  {
   "cell_type": "code",
   "execution_count": 4,
   "metadata": {
    "colab": {
     "base_uri": "https://localhost:8080/"
    },
    "id": "o83OWkEarGpC",
    "outputId": "c15eab2d-47e7-441b-8526-a2c801af0657"
   },
   "outputs": [
    {
     "data": {
      "text/plain": [
       "(3401012, 3)"
      ]
     },
     "execution_count": 4,
     "metadata": {},
     "output_type": "execute_result"
    }
   ],
   "source": [
    "df.shape"
   ]
  },
  {
   "cell_type": "markdown",
   "metadata": {
    "id": "dxyDE7J9M40V"
   },
   "source": [
    "The total number of rows is 3,401,012, and there are three columns. "
   ]
  },
  {
   "cell_type": "code",
   "execution_count": 5,
   "metadata": {},
   "outputs": [
    {
     "data": {
      "text/html": [
       "<div>\n",
       "<style scoped>\n",
       "    .dataframe tbody tr th:only-of-type {\n",
       "        vertical-align: middle;\n",
       "    }\n",
       "\n",
       "    .dataframe tbody tr th {\n",
       "        vertical-align: top;\n",
       "    }\n",
       "\n",
       "    .dataframe thead th {\n",
       "        text-align: right;\n",
       "    }\n",
       "</style>\n",
       "<table border=\"1\" class=\"dataframe\">\n",
       "  <thead>\n",
       "    <tr style=\"text-align: right;\">\n",
       "      <th></th>\n",
       "      <th>date</th>\n",
       "      <th>number_of_strikes</th>\n",
       "      <th>center_point_geom</th>\n",
       "    </tr>\n",
       "  </thead>\n",
       "  <tbody>\n",
       "    <tr>\n",
       "      <th>3401002</th>\n",
       "      <td>2018-12-27</td>\n",
       "      <td>30</td>\n",
       "      <td>POINT(-97.6 30.4)</td>\n",
       "    </tr>\n",
       "    <tr>\n",
       "      <th>3401003</th>\n",
       "      <td>2018-12-27</td>\n",
       "      <td>30</td>\n",
       "      <td>POINT(-97.5 30.4)</td>\n",
       "    </tr>\n",
       "    <tr>\n",
       "      <th>3401004</th>\n",
       "      <td>2018-12-27</td>\n",
       "      <td>30</td>\n",
       "      <td>POINT(-94.5 32.7)</td>\n",
       "    </tr>\n",
       "    <tr>\n",
       "      <th>3401005</th>\n",
       "      <td>2018-12-28</td>\n",
       "      <td>30</td>\n",
       "      <td>POINT(-90.4 28.9)</td>\n",
       "    </tr>\n",
       "    <tr>\n",
       "      <th>3401006</th>\n",
       "      <td>2018-12-28</td>\n",
       "      <td>30</td>\n",
       "      <td>POINT(-90.2 29.1)</td>\n",
       "    </tr>\n",
       "    <tr>\n",
       "      <th>3401007</th>\n",
       "      <td>2018-12-28</td>\n",
       "      <td>30</td>\n",
       "      <td>POINT(-90.6 28.7)</td>\n",
       "    </tr>\n",
       "    <tr>\n",
       "      <th>3401008</th>\n",
       "      <td>2018-12-28</td>\n",
       "      <td>30</td>\n",
       "      <td>POINT(-89.4 30.9)</td>\n",
       "    </tr>\n",
       "    <tr>\n",
       "      <th>3401009</th>\n",
       "      <td>2018-12-28</td>\n",
       "      <td>30</td>\n",
       "      <td>POINT(-89.5 31.4)</td>\n",
       "    </tr>\n",
       "    <tr>\n",
       "      <th>3401010</th>\n",
       "      <td>2018-12-28</td>\n",
       "      <td>30</td>\n",
       "      <td>POINT(-88.3 31.6)</td>\n",
       "    </tr>\n",
       "    <tr>\n",
       "      <th>3401011</th>\n",
       "      <td>2018-12-28</td>\n",
       "      <td>30</td>\n",
       "      <td>POINT(-88.4 32.1)</td>\n",
       "    </tr>\n",
       "  </tbody>\n",
       "</table>\n",
       "</div>"
      ],
      "text/plain": [
       "               date  number_of_strikes  center_point_geom\n",
       "3401002  2018-12-27                 30  POINT(-97.6 30.4)\n",
       "3401003  2018-12-27                 30  POINT(-97.5 30.4)\n",
       "3401004  2018-12-27                 30  POINT(-94.5 32.7)\n",
       "3401005  2018-12-28                 30  POINT(-90.4 28.9)\n",
       "3401006  2018-12-28                 30  POINT(-90.2 29.1)\n",
       "3401007  2018-12-28                 30  POINT(-90.6 28.7)\n",
       "3401008  2018-12-28                 30  POINT(-89.4 30.9)\n",
       "3401009  2018-12-28                 30  POINT(-89.5 31.4)\n",
       "3401010  2018-12-28                 30  POINT(-88.3 31.6)\n",
       "3401011  2018-12-28                 30  POINT(-88.4 32.1)"
      ]
     },
     "execution_count": 5,
     "metadata": {},
     "output_type": "execute_result"
    }
   ],
   "source": [
    "df.tail(10) # ver los ultimos 10 registros"
   ]
  },
  {
   "cell_type": "code",
   "execution_count": 6,
   "metadata": {
    "colab": {
     "base_uri": "https://localhost:8080/"
    },
    "id": "7mknP-mavtAU",
    "outputId": "b7165bb2-e88c-43a3-c49f-0af71f4b7909"
   },
   "outputs": [
    {
     "name": "stdout",
     "output_type": "stream",
     "text": [
      "<class 'pandas.core.frame.DataFrame'>\n",
      "RangeIndex: 3401012 entries, 0 to 3401011\n",
      "Data columns (total 3 columns):\n",
      " #   Column             Dtype \n",
      "---  ------             ----- \n",
      " 0   date               object\n",
      " 1   number_of_strikes  int64 \n",
      " 2   center_point_geom  object\n",
      "dtypes: int64(1), object(2)\n",
      "memory usage: 77.8+ MB\n"
     ]
    }
   ],
   "source": [
    "# Get more information about the data, including data types of each column\n",
    "# obtiene mas informacion sobre la data, incluido el tipo de dato de cada columna\n",
    "df.info()"
   ]
  },
  {
   "cell_type": "markdown",
   "metadata": {},
   "source": [
    "### Convierte la columna date en un tipo de dato datetime"
   ]
  },
  {
   "cell_type": "markdown",
   "metadata": {
    "id": "cyRd3WcsM40V"
   },
   "source": [
    "`info`  proporcionará el número total de filas (3,401,012) y columnas (3). También mostrará los nombres y tipos de datos de cada columna, así como el tamaño del dataframe en memoria. \n",
    "\n",
    "\n",
    "En este caso, observa que la columna  `date`  es de tipo 'object' en lugar de ser de tipo 'date'. Los objetos son cadenas de texto. Cuando las fechas se codifican como cadenas de texto, no se pueden manipular tan fácilmente. Convertir las fechas de cadena de texto a datetime te permitirá trabajar con ellas de manera más sencilla.\n",
    "\n",
    "amos a convertirlas a datetime utilizando la función  `to_datetime()`  de pandas."
   ]
  },
  {
   "cell_type": "code",
   "execution_count": 7,
   "metadata": {
    "id": "lT3Hrf7zlD_h"
   },
   "outputs": [],
   "source": [
    "# Convert date column to datetime\n",
    "df['date']= pd.to_datetime(df['date'])\n"
   ]
  },
  {
   "cell_type": "code",
   "execution_count": 8,
   "metadata": {},
   "outputs": [
    {
     "name": "stdout",
     "output_type": "stream",
     "text": [
      "<class 'pandas.core.frame.DataFrame'>\n",
      "RangeIndex: 3401012 entries, 0 to 3401011\n",
      "Data columns (total 3 columns):\n",
      " #   Column             Dtype         \n",
      "---  ------             -----         \n",
      " 0   date               datetime64[ns]\n",
      " 1   number_of_strikes  int64         \n",
      " 2   center_point_geom  object        \n",
      "dtypes: datetime64[ns](1), int64(1), object(1)\n",
      "memory usage: 77.8+ MB\n"
     ]
    }
   ],
   "source": [
    "df.info()"
   ]
  },
  {
   "cell_type": "code",
   "execution_count": 9,
   "metadata": {},
   "outputs": [
    {
     "data": {
      "text/html": [
       "<div>\n",
       "<style scoped>\n",
       "    .dataframe tbody tr th:only-of-type {\n",
       "        vertical-align: middle;\n",
       "    }\n",
       "\n",
       "    .dataframe tbody tr th {\n",
       "        vertical-align: top;\n",
       "    }\n",
       "\n",
       "    .dataframe thead th {\n",
       "        text-align: right;\n",
       "    }\n",
       "</style>\n",
       "<table border=\"1\" class=\"dataframe\">\n",
       "  <thead>\n",
       "    <tr style=\"text-align: right;\">\n",
       "      <th></th>\n",
       "      <th>date</th>\n",
       "      <th>number_of_strikes</th>\n",
       "      <th>center_point_geom</th>\n",
       "    </tr>\n",
       "  </thead>\n",
       "  <tbody>\n",
       "    <tr>\n",
       "      <th>1599892</th>\n",
       "      <td>2018-09-13</td>\n",
       "      <td>2</td>\n",
       "      <td>POINT(-103.9 23)</td>\n",
       "    </tr>\n",
       "    <tr>\n",
       "      <th>1523380</th>\n",
       "      <td>2018-08-01</td>\n",
       "      <td>2</td>\n",
       "      <td>POINT(-96.5 27.4)</td>\n",
       "    </tr>\n",
       "    <tr>\n",
       "      <th>1801772</th>\n",
       "      <td>2018-07-08</td>\n",
       "      <td>3</td>\n",
       "      <td>POINT(-83.5 32.8)</td>\n",
       "    </tr>\n",
       "    <tr>\n",
       "      <th>2761098</th>\n",
       "      <td>2018-06-17</td>\n",
       "      <td>9</td>\n",
       "      <td>POINT(-109.2 30.5)</td>\n",
       "    </tr>\n",
       "    <tr>\n",
       "      <th>314144</th>\n",
       "      <td>2018-08-23</td>\n",
       "      <td>36</td>\n",
       "      <td>POINT(-108.2 31)</td>\n",
       "    </tr>\n",
       "    <tr>\n",
       "      <th>2261881</th>\n",
       "      <td>2018-05-13</td>\n",
       "      <td>5</td>\n",
       "      <td>POINT(-96.7 42.4)</td>\n",
       "    </tr>\n",
       "    <tr>\n",
       "      <th>2477809</th>\n",
       "      <td>2018-08-11</td>\n",
       "      <td>6</td>\n",
       "      <td>POINT(-86.1 27.7)</td>\n",
       "    </tr>\n",
       "    <tr>\n",
       "      <th>1688935</th>\n",
       "      <td>2018-03-25</td>\n",
       "      <td>3</td>\n",
       "      <td>POINT(-75.8 32.6)</td>\n",
       "    </tr>\n",
       "    <tr>\n",
       "      <th>1622753</th>\n",
       "      <td>2018-09-30</td>\n",
       "      <td>2</td>\n",
       "      <td>POINT(-77.3 18.6)</td>\n",
       "    </tr>\n",
       "    <tr>\n",
       "      <th>749048</th>\n",
       "      <td>2018-06-30</td>\n",
       "      <td>1</td>\n",
       "      <td>POINT(-98.8 33.9)</td>\n",
       "    </tr>\n",
       "  </tbody>\n",
       "</table>\n",
       "</div>"
      ],
      "text/plain": [
       "              date  number_of_strikes   center_point_geom\n",
       "1599892 2018-09-13                  2    POINT(-103.9 23)\n",
       "1523380 2018-08-01                  2   POINT(-96.5 27.4)\n",
       "1801772 2018-07-08                  3   POINT(-83.5 32.8)\n",
       "2761098 2018-06-17                  9  POINT(-109.2 30.5)\n",
       "314144  2018-08-23                 36    POINT(-108.2 31)\n",
       "2261881 2018-05-13                  5   POINT(-96.7 42.4)\n",
       "2477809 2018-08-11                  6   POINT(-86.1 27.7)\n",
       "1688935 2018-03-25                  3   POINT(-75.8 32.6)\n",
       "1622753 2018-09-30                  2   POINT(-77.3 18.6)\n",
       "749048  2018-06-30                  1   POINT(-98.8 33.9)"
      ]
     },
     "execution_count": 9,
     "metadata": {},
     "output_type": "execute_result"
    }
   ],
   "source": [
    "df.sample(10)"
   ]
  },
  {
   "cell_type": "markdown",
   "metadata": {},
   "source": [
    "### Calcula los dias con la mayor cantidad de rayos"
   ]
  },
  {
   "cell_type": "markdown",
   "metadata": {
    "collapsed": true,
    "id": "dgTZFl95M40W"
   },
   "source": [
    "Como parte del análisis, deseas tener una idea de los puntos de datos más altos. Para este conjunto de datos, podemos calcular los 10 días de 2018 con la mayor cantidad de rayos utilizando las funciones  `groupby()` ,  `sum()`  y  `sort_values()`  de pandas.\n",
    "\n",
    "Al usar  `groupby()`  en la columna de fecha, la función combina todas las filas con la misma fecha en una sola fila.  \n",
    "\n",
    "Luego, al usar  `sum()` , se realiza un cálculo de suma en todas las demás columnas que se pueden sumar. En este caso, estamos sumando todos los rayos que ocurrieron en cada día. Observa que la columna  `center_point_geom`  no se incluye en la salida. Esto se debe a que, al ser un objeto de tipo cadena de texto, esta columna no se puede sumar.\n",
    "\n",
    "Finalmente,  `sort_values()`  devuelve los resultados en orden descendente de la cantidad total de rayos para cada día en los datos."
   ]
  },
  {
   "cell_type": "code",
   "execution_count": 10,
   "metadata": {
    "colab": {
     "base_uri": "https://localhost:8080/",
     "height": 394
    },
    "id": "HeVAybaRwwTw",
    "outputId": "bec0bb3a-3089-4931-edf3-d9b51f165219"
   },
   "outputs": [
    {
     "data": {
      "text/html": [
       "<div>\n",
       "<style scoped>\n",
       "    .dataframe tbody tr th:only-of-type {\n",
       "        vertical-align: middle;\n",
       "    }\n",
       "\n",
       "    .dataframe tbody tr th {\n",
       "        vertical-align: top;\n",
       "    }\n",
       "\n",
       "    .dataframe thead th {\n",
       "        text-align: right;\n",
       "    }\n",
       "</style>\n",
       "<table border=\"1\" class=\"dataframe\">\n",
       "  <thead>\n",
       "    <tr style=\"text-align: right;\">\n",
       "      <th></th>\n",
       "      <th>number_of_strikes</th>\n",
       "    </tr>\n",
       "    <tr>\n",
       "      <th>date</th>\n",
       "      <th></th>\n",
       "    </tr>\n",
       "  </thead>\n",
       "  <tbody>\n",
       "    <tr>\n",
       "      <th>2018-08-29</th>\n",
       "      <td>1070457</td>\n",
       "    </tr>\n",
       "    <tr>\n",
       "      <th>2018-08-17</th>\n",
       "      <td>969774</td>\n",
       "    </tr>\n",
       "    <tr>\n",
       "      <th>2018-08-28</th>\n",
       "      <td>917199</td>\n",
       "    </tr>\n",
       "    <tr>\n",
       "      <th>2018-08-27</th>\n",
       "      <td>824589</td>\n",
       "    </tr>\n",
       "    <tr>\n",
       "      <th>2018-08-30</th>\n",
       "      <td>802170</td>\n",
       "    </tr>\n",
       "    <tr>\n",
       "      <th>2018-08-19</th>\n",
       "      <td>786225</td>\n",
       "    </tr>\n",
       "    <tr>\n",
       "      <th>2018-08-18</th>\n",
       "      <td>741180</td>\n",
       "    </tr>\n",
       "    <tr>\n",
       "      <th>2018-08-16</th>\n",
       "      <td>734475</td>\n",
       "    </tr>\n",
       "    <tr>\n",
       "      <th>2018-08-31</th>\n",
       "      <td>723624</td>\n",
       "    </tr>\n",
       "    <tr>\n",
       "      <th>2018-08-15</th>\n",
       "      <td>673455</td>\n",
       "    </tr>\n",
       "  </tbody>\n",
       "</table>\n",
       "</div>"
      ],
      "text/plain": [
       "            number_of_strikes\n",
       "date                         \n",
       "2018-08-29            1070457\n",
       "2018-08-17             969774\n",
       "2018-08-28             917199\n",
       "2018-08-27             824589\n",
       "2018-08-30             802170\n",
       "2018-08-19             786225\n",
       "2018-08-18             741180\n",
       "2018-08-16             734475\n",
       "2018-08-31             723624\n",
       "2018-08-15             673455"
      ]
     },
     "execution_count": 10,
     "metadata": {},
     "output_type": "execute_result"
    }
   ],
   "source": [
    "# Calculate days with most lightning strikes.\n",
    "df.groupby(['date']).sum(numeric_only = True) \\\n",
    "    .sort_values('number_of_strikes', ascending=False).head(10) "
   ]
  },
  {
   "cell_type": "markdown",
   "metadata": {
    "id": "runnFUe4M40X"
   },
   "source": [
    "Un error común entre los profesionales de datos es usar  `count()`  en lugar de  `sum()` , y viceversa. En este caso,  `count()`  devolvería el número de ocurrencias de cada fecha en el conjunto de datos, lo cual no es el resultado deseado."
   ]
  },
  {
   "cell_type": "markdown",
   "metadata": {},
   "source": [
    "### Extraer el numero del mes"
   ]
  },
  {
   "cell_type": "markdown",
   "metadata": {
    "id": "hbbj6CkMM40X"
   },
   "source": [
    "A continuación, extraeremos los datos del mes de la columna  `date`  y agregaremos esos datos de mes extraídos en una nueva columna llamada  `month` .  `dt.month`  extrae solo la información del mes (como un valor numérico) de la fecha. Por eso, convertir la columna  `date`  a datetime es muy útil."
   ]
  },
  {
   "cell_type": "code",
   "execution_count": 11,
   "metadata": {
    "id": "GS1_-o0zyUff"
   },
   "outputs": [
    {
     "data": {
      "text/html": [
       "<div>\n",
       "<style scoped>\n",
       "    .dataframe tbody tr th:only-of-type {\n",
       "        vertical-align: middle;\n",
       "    }\n",
       "\n",
       "    .dataframe tbody tr th {\n",
       "        vertical-align: top;\n",
       "    }\n",
       "\n",
       "    .dataframe thead th {\n",
       "        text-align: right;\n",
       "    }\n",
       "</style>\n",
       "<table border=\"1\" class=\"dataframe\">\n",
       "  <thead>\n",
       "    <tr style=\"text-align: right;\">\n",
       "      <th></th>\n",
       "      <th>date</th>\n",
       "      <th>number_of_strikes</th>\n",
       "      <th>center_point_geom</th>\n",
       "      <th>month</th>\n",
       "    </tr>\n",
       "  </thead>\n",
       "  <tbody>\n",
       "    <tr>\n",
       "      <th>2461217</th>\n",
       "      <td>2018-07-26</td>\n",
       "      <td>6</td>\n",
       "      <td>POINT(-106.8 36)</td>\n",
       "      <td>7</td>\n",
       "    </tr>\n",
       "    <tr>\n",
       "      <th>395444</th>\n",
       "      <td>2018-10-08</td>\n",
       "      <td>26</td>\n",
       "      <td>POINT(-101.8 34.7)</td>\n",
       "      <td>10</td>\n",
       "    </tr>\n",
       "    <tr>\n",
       "      <th>3230354</th>\n",
       "      <td>2018-08-21</td>\n",
       "      <td>18</td>\n",
       "      <td>POINT(-88.7 27.4)</td>\n",
       "      <td>8</td>\n",
       "    </tr>\n",
       "    <tr>\n",
       "      <th>2963784</th>\n",
       "      <td>2018-06-08</td>\n",
       "      <td>12</td>\n",
       "      <td>POINT(-104.8 47.8)</td>\n",
       "      <td>6</td>\n",
       "    </tr>\n",
       "    <tr>\n",
       "      <th>3148690</th>\n",
       "      <td>2018-12-03</td>\n",
       "      <td>15</td>\n",
       "      <td>POINT(-76.8 32)</td>\n",
       "      <td>12</td>\n",
       "    </tr>\n",
       "    <tr>\n",
       "      <th>68617</th>\n",
       "      <td>2018-05-19</td>\n",
       "      <td>57</td>\n",
       "      <td>POINT(-102.2 39.5)</td>\n",
       "      <td>5</td>\n",
       "    </tr>\n",
       "    <tr>\n",
       "      <th>1960685</th>\n",
       "      <td>2018-08-28</td>\n",
       "      <td>3</td>\n",
       "      <td>POINT(-89.8 42.3)</td>\n",
       "      <td>8</td>\n",
       "    </tr>\n",
       "    <tr>\n",
       "      <th>1473846</th>\n",
       "      <td>2018-07-15</td>\n",
       "      <td>2</td>\n",
       "      <td>POINT(-97.4 50.4)</td>\n",
       "      <td>7</td>\n",
       "    </tr>\n",
       "    <tr>\n",
       "      <th>377086</th>\n",
       "      <td>2018-09-06</td>\n",
       "      <td>25</td>\n",
       "      <td>POINT(-99.5 26.4)</td>\n",
       "      <td>9</td>\n",
       "    </tr>\n",
       "    <tr>\n",
       "      <th>2613403</th>\n",
       "      <td>2018-07-17</td>\n",
       "      <td>7</td>\n",
       "      <td>POINT(-72.2 43)</td>\n",
       "      <td>7</td>\n",
       "    </tr>\n",
       "  </tbody>\n",
       "</table>\n",
       "</div>"
      ],
      "text/plain": [
       "              date  number_of_strikes   center_point_geom  month\n",
       "2461217 2018-07-26                  6    POINT(-106.8 36)      7\n",
       "395444  2018-10-08                 26  POINT(-101.8 34.7)     10\n",
       "3230354 2018-08-21                 18   POINT(-88.7 27.4)      8\n",
       "2963784 2018-06-08                 12  POINT(-104.8 47.8)      6\n",
       "3148690 2018-12-03                 15     POINT(-76.8 32)     12\n",
       "68617   2018-05-19                 57  POINT(-102.2 39.5)      5\n",
       "1960685 2018-08-28                  3   POINT(-89.8 42.3)      8\n",
       "1473846 2018-07-15                  2   POINT(-97.4 50.4)      7\n",
       "377086  2018-09-06                 25   POINT(-99.5 26.4)      9\n",
       "2613403 2018-07-17                  7     POINT(-72.2 43)      7"
      ]
     },
     "execution_count": 11,
     "metadata": {},
     "output_type": "execute_result"
    }
   ],
   "source": [
    "# Create a new `month` column\n",
    "df['month'] = df['date'].dt.month\n",
    "df.sample(10)"
   ]
  },
  {
   "cell_type": "markdown",
   "metadata": {},
   "source": [
    "### Calcular el numeros de rayos por mes"
   ]
  },
  {
   "cell_type": "markdown",
   "metadata": {
    "id": "IgL66VK2M40X"
   },
   "source": [
    "Ahora, ordenaremos nuestros valores por la cantidad de strikes por mes. Utiliza  `groupby()` ,  `sum()`  y  `sort_values()`  de pandas de nuevo."
   ]
  },
  {
   "cell_type": "code",
   "execution_count": 12,
   "metadata": {
    "colab": {
     "base_uri": "https://localhost:8080/",
     "height": 457
    },
    "id": "NTI2N5WgyxO9",
    "outputId": "2c63e22e-2a05-4baa-e0e9-5f22b0cec049"
   },
   "outputs": [
    {
     "data": {
      "text/html": [
       "<div>\n",
       "<style scoped>\n",
       "    .dataframe tbody tr th:only-of-type {\n",
       "        vertical-align: middle;\n",
       "    }\n",
       "\n",
       "    .dataframe tbody tr th {\n",
       "        vertical-align: top;\n",
       "    }\n",
       "\n",
       "    .dataframe thead th {\n",
       "        text-align: right;\n",
       "    }\n",
       "</style>\n",
       "<table border=\"1\" class=\"dataframe\">\n",
       "  <thead>\n",
       "    <tr style=\"text-align: right;\">\n",
       "      <th></th>\n",
       "      <th>number_of_strikes</th>\n",
       "    </tr>\n",
       "    <tr>\n",
       "      <th>month</th>\n",
       "      <th></th>\n",
       "    </tr>\n",
       "  </thead>\n",
       "  <tbody>\n",
       "    <tr>\n",
       "      <th>8</th>\n",
       "      <td>15525255</td>\n",
       "    </tr>\n",
       "    <tr>\n",
       "      <th>7</th>\n",
       "      <td>8320400</td>\n",
       "    </tr>\n",
       "    <tr>\n",
       "      <th>6</th>\n",
       "      <td>6445083</td>\n",
       "    </tr>\n",
       "    <tr>\n",
       "      <th>5</th>\n",
       "      <td>4166726</td>\n",
       "    </tr>\n",
       "    <tr>\n",
       "      <th>9</th>\n",
       "      <td>3018336</td>\n",
       "    </tr>\n",
       "    <tr>\n",
       "      <th>2</th>\n",
       "      <td>2071315</td>\n",
       "    </tr>\n",
       "    <tr>\n",
       "      <th>4</th>\n",
       "      <td>1524339</td>\n",
       "    </tr>\n",
       "    <tr>\n",
       "      <th>10</th>\n",
       "      <td>1093962</td>\n",
       "    </tr>\n",
       "    <tr>\n",
       "      <th>1</th>\n",
       "      <td>860045</td>\n",
       "    </tr>\n",
       "    <tr>\n",
       "      <th>3</th>\n",
       "      <td>854168</td>\n",
       "    </tr>\n",
       "    <tr>\n",
       "      <th>11</th>\n",
       "      <td>409263</td>\n",
       "    </tr>\n",
       "    <tr>\n",
       "      <th>12</th>\n",
       "      <td>312097</td>\n",
       "    </tr>\n",
       "  </tbody>\n",
       "</table>\n",
       "</div>"
      ],
      "text/plain": [
       "       number_of_strikes\n",
       "month                   \n",
       "8               15525255\n",
       "7                8320400\n",
       "6                6445083\n",
       "5                4166726\n",
       "9                3018336\n",
       "2                2071315\n",
       "4                1524339\n",
       "10               1093962\n",
       "1                 860045\n",
       "3                 854168\n",
       "11                409263\n",
       "12                312097"
      ]
     },
     "execution_count": 12,
     "metadata": {},
     "output_type": "execute_result"
    }
   ],
   "source": [
    "# Calculate total number of strikes per month\n",
    "df.groupby(['month']).sum(numeric_only=True)\\\n",
    "    .sort_values('number_of_strikes', ascending=False).head(12)"
   ]
  },
  {
   "cell_type": "markdown",
   "metadata": {},
   "source": [
    "### Convierte el número del mes a texto\n",
    "\n",
    "Para facilitar la lectura de los datos, convirtamos el número del mes a texto utilizando la función  `dt.month_name()`  de datetime y agreguémoslo como una nueva columna en el dataframe.  `str.slice`  omitirá el texto después de las primeras tres letras."
   ]
  },
  {
   "cell_type": "code",
   "execution_count": 13,
   "metadata": {
    "id": "85r56K2EzPNH"
   },
   "outputs": [
    {
     "data": {
      "text/html": [
       "<div>\n",
       "<style scoped>\n",
       "    .dataframe tbody tr th:only-of-type {\n",
       "        vertical-align: middle;\n",
       "    }\n",
       "\n",
       "    .dataframe tbody tr th {\n",
       "        vertical-align: top;\n",
       "    }\n",
       "\n",
       "    .dataframe thead th {\n",
       "        text-align: right;\n",
       "    }\n",
       "</style>\n",
       "<table border=\"1\" class=\"dataframe\">\n",
       "  <thead>\n",
       "    <tr style=\"text-align: right;\">\n",
       "      <th></th>\n",
       "      <th>date</th>\n",
       "      <th>number_of_strikes</th>\n",
       "      <th>center_point_geom</th>\n",
       "      <th>month</th>\n",
       "      <th>month_txt</th>\n",
       "    </tr>\n",
       "  </thead>\n",
       "  <tbody>\n",
       "    <tr>\n",
       "      <th>0</th>\n",
       "      <td>2018-01-03</td>\n",
       "      <td>194</td>\n",
       "      <td>POINT(-75 27)</td>\n",
       "      <td>1</td>\n",
       "      <td>Jan</td>\n",
       "    </tr>\n",
       "    <tr>\n",
       "      <th>1</th>\n",
       "      <td>2018-01-03</td>\n",
       "      <td>41</td>\n",
       "      <td>POINT(-78.4 29)</td>\n",
       "      <td>1</td>\n",
       "      <td>Jan</td>\n",
       "    </tr>\n",
       "    <tr>\n",
       "      <th>2</th>\n",
       "      <td>2018-01-03</td>\n",
       "      <td>33</td>\n",
       "      <td>POINT(-73.9 27)</td>\n",
       "      <td>1</td>\n",
       "      <td>Jan</td>\n",
       "    </tr>\n",
       "    <tr>\n",
       "      <th>3</th>\n",
       "      <td>2018-01-03</td>\n",
       "      <td>38</td>\n",
       "      <td>POINT(-73.8 27)</td>\n",
       "      <td>1</td>\n",
       "      <td>Jan</td>\n",
       "    </tr>\n",
       "    <tr>\n",
       "      <th>4</th>\n",
       "      <td>2018-01-03</td>\n",
       "      <td>92</td>\n",
       "      <td>POINT(-79 28)</td>\n",
       "      <td>1</td>\n",
       "      <td>Jan</td>\n",
       "    </tr>\n",
       "  </tbody>\n",
       "</table>\n",
       "</div>"
      ],
      "text/plain": [
       "        date  number_of_strikes center_point_geom  month month_txt\n",
       "0 2018-01-03                194     POINT(-75 27)      1       Jan\n",
       "1 2018-01-03                 41   POINT(-78.4 29)      1       Jan\n",
       "2 2018-01-03                 33   POINT(-73.9 27)      1       Jan\n",
       "3 2018-01-03                 38   POINT(-73.8 27)      1       Jan\n",
       "4 2018-01-03                 92     POINT(-79 28)      1       Jan"
      ]
     },
     "execution_count": 13,
     "metadata": {},
     "output_type": "execute_result"
    }
   ],
   "source": [
    "# Crear una nueva columna `month_txt`.\n",
    "df['month_txt'] = df['date'].dt.month_name().str.slice(stop=3)\n",
    "df.head()"
   ]
  },
  {
   "cell_type": "code",
   "execution_count": 28,
   "metadata": {},
   "outputs": [],
   "source": [
    "def mes_en_español(numero):\n",
    "    meses = \"enero febrero marzo abril mayo junio julio agosto septiembre octubre noviembre diciembre\".title().split()\n",
    "    return meses[numero - 1]"
   ]
  },
  {
   "cell_type": "code",
   "execution_count": 35,
   "metadata": {},
   "outputs": [
    {
     "data": {
      "text/html": [
       "<div>\n",
       "<style scoped>\n",
       "    .dataframe tbody tr th:only-of-type {\n",
       "        vertical-align: middle;\n",
       "    }\n",
       "\n",
       "    .dataframe tbody tr th {\n",
       "        vertical-align: top;\n",
       "    }\n",
       "\n",
       "    .dataframe thead th {\n",
       "        text-align: right;\n",
       "    }\n",
       "</style>\n",
       "<table border=\"1\" class=\"dataframe\">\n",
       "  <thead>\n",
       "    <tr style=\"text-align: right;\">\n",
       "      <th></th>\n",
       "      <th>date</th>\n",
       "      <th>number_of_strikes</th>\n",
       "      <th>center_point_geom</th>\n",
       "      <th>month</th>\n",
       "      <th>month_txt</th>\n",
       "      <th>mes_en</th>\n",
       "      <th>mes_es</th>\n",
       "    </tr>\n",
       "  </thead>\n",
       "  <tbody>\n",
       "    <tr>\n",
       "      <th>1299916</th>\n",
       "      <td>2018-04-25</td>\n",
       "      <td>2</td>\n",
       "      <td>POINT(-98.8 21.6)</td>\n",
       "      <td>4</td>\n",
       "      <td>Apr</td>\n",
       "      <td>Abril</td>\n",
       "      <td>Abril</td>\n",
       "    </tr>\n",
       "    <tr>\n",
       "      <th>1847524</th>\n",
       "      <td>2018-07-31</td>\n",
       "      <td>3</td>\n",
       "      <td>POINT(-72.1 36.6)</td>\n",
       "      <td>7</td>\n",
       "      <td>Jul</td>\n",
       "      <td>Julio</td>\n",
       "      <td>Julio</td>\n",
       "    </tr>\n",
       "    <tr>\n",
       "      <th>850253</th>\n",
       "      <td>2018-07-17</td>\n",
       "      <td>1</td>\n",
       "      <td>POINT(-55.2 40.1)</td>\n",
       "      <td>7</td>\n",
       "      <td>Jul</td>\n",
       "      <td>Julio</td>\n",
       "      <td>Julio</td>\n",
       "    </tr>\n",
       "    <tr>\n",
       "      <th>508596</th>\n",
       "      <td>2018-04-27</td>\n",
       "      <td>1</td>\n",
       "      <td>POINT(-76.7 30.7)</td>\n",
       "      <td>4</td>\n",
       "      <td>Apr</td>\n",
       "      <td>Abril</td>\n",
       "      <td>Abril</td>\n",
       "    </tr>\n",
       "    <tr>\n",
       "      <th>2093976</th>\n",
       "      <td>2018-05-29</td>\n",
       "      <td>4</td>\n",
       "      <td>POINT(-104.1 43.4)</td>\n",
       "      <td>5</td>\n",
       "      <td>May</td>\n",
       "      <td>Mayo</td>\n",
       "      <td>Mayo</td>\n",
       "    </tr>\n",
       "    <tr>\n",
       "      <th>2936928</th>\n",
       "      <td>2018-08-07</td>\n",
       "      <td>11</td>\n",
       "      <td>POINT(-82.7 35.3)</td>\n",
       "      <td>8</td>\n",
       "      <td>Aug</td>\n",
       "      <td>Agosto</td>\n",
       "      <td>Agosto</td>\n",
       "    </tr>\n",
       "    <tr>\n",
       "      <th>546505</th>\n",
       "      <td>2018-05-12</td>\n",
       "      <td>1</td>\n",
       "      <td>POINT(-84 42.4)</td>\n",
       "      <td>5</td>\n",
       "      <td>May</td>\n",
       "      <td>Mayo</td>\n",
       "      <td>Mayo</td>\n",
       "    </tr>\n",
       "    <tr>\n",
       "      <th>1344961</th>\n",
       "      <td>2018-05-23</td>\n",
       "      <td>2</td>\n",
       "      <td>POINT(-88.4 32.4)</td>\n",
       "      <td>5</td>\n",
       "      <td>May</td>\n",
       "      <td>Mayo</td>\n",
       "      <td>Mayo</td>\n",
       "    </tr>\n",
       "    <tr>\n",
       "      <th>3265763</th>\n",
       "      <td>2018-11-07</td>\n",
       "      <td>19</td>\n",
       "      <td>POINT(-71.6 37.1)</td>\n",
       "      <td>11</td>\n",
       "      <td>Nov</td>\n",
       "      <td>Noviembre</td>\n",
       "      <td>Noviembre</td>\n",
       "    </tr>\n",
       "    <tr>\n",
       "      <th>1975374</th>\n",
       "      <td>2018-08-31</td>\n",
       "      <td>3</td>\n",
       "      <td>POINT(-108.7 50.7)</td>\n",
       "      <td>8</td>\n",
       "      <td>Aug</td>\n",
       "      <td>Agosto</td>\n",
       "      <td>Agosto</td>\n",
       "    </tr>\n",
       "  </tbody>\n",
       "</table>\n",
       "</div>"
      ],
      "text/plain": [
       "              date  number_of_strikes   center_point_geom  month month_txt  \\\n",
       "1299916 2018-04-25                  2   POINT(-98.8 21.6)      4       Apr   \n",
       "1847524 2018-07-31                  3   POINT(-72.1 36.6)      7       Jul   \n",
       "850253  2018-07-17                  1   POINT(-55.2 40.1)      7       Jul   \n",
       "508596  2018-04-27                  1   POINT(-76.7 30.7)      4       Apr   \n",
       "2093976 2018-05-29                  4  POINT(-104.1 43.4)      5       May   \n",
       "2936928 2018-08-07                 11   POINT(-82.7 35.3)      8       Aug   \n",
       "546505  2018-05-12                  1     POINT(-84 42.4)      5       May   \n",
       "1344961 2018-05-23                  2   POINT(-88.4 32.4)      5       May   \n",
       "3265763 2018-11-07                 19   POINT(-71.6 37.1)     11       Nov   \n",
       "1975374 2018-08-31                  3  POINT(-108.7 50.7)      8       Aug   \n",
       "\n",
       "            mes_en     mes_es  \n",
       "1299916      Abril      Abril  \n",
       "1847524      Julio      Julio  \n",
       "850253       Julio      Julio  \n",
       "508596       Abril      Abril  \n",
       "2093976       Mayo       Mayo  \n",
       "2936928     Agosto     Agosto  \n",
       "546505        Mayo       Mayo  \n",
       "1344961       Mayo       Mayo  \n",
       "3265763  Noviembre  Noviembre  \n",
       "1975374     Agosto     Agosto  "
      ]
     },
     "execution_count": 35,
     "metadata": {},
     "output_type": "execute_result"
    }
   ],
   "source": [
    "df['mes_es'] = df['date'].dt.month.apply(mes_en_español)\n",
    "df.sample(10)"
   ]
  },
  {
   "cell_type": "markdown",
   "metadata": {
    "id": "xo9cPFhiM40Y"
   },
   "source": [
    "El objetivo es graficar el número total de huelgas por mes como un gráfico de barras. Para ayudar con la graficación, crearemos un nuevo dataframe llamado  `df_por_mes` . Esto nos permitirá acceder fácilmente al mes, el texto del mes y el número total de huelgas para cada mes. "
   ]
  },
  {
   "cell_type": "code",
   "execution_count": 37,
   "metadata": {
    "colab": {
     "base_uri": "https://localhost:8080/",
     "height": 426
    },
    "id": "pnfRpm2eyPzM",
    "outputId": "00d4dcec-6f99-4448-a178-2b832eafb2f6"
   },
   "outputs": [
    {
     "data": {
      "text/html": [
       "<div>\n",
       "<style scoped>\n",
       "    .dataframe tbody tr th:only-of-type {\n",
       "        vertical-align: middle;\n",
       "    }\n",
       "\n",
       "    .dataframe tbody tr th {\n",
       "        vertical-align: top;\n",
       "    }\n",
       "\n",
       "    .dataframe thead th {\n",
       "        text-align: right;\n",
       "    }\n",
       "</style>\n",
       "<table border=\"1\" class=\"dataframe\">\n",
       "  <thead>\n",
       "    <tr style=\"text-align: right;\">\n",
       "      <th></th>\n",
       "      <th>month</th>\n",
       "      <th>mes_es</th>\n",
       "      <th>number_of_strikes</th>\n",
       "    </tr>\n",
       "  </thead>\n",
       "  <tbody>\n",
       "    <tr>\n",
       "      <th>0</th>\n",
       "      <td>1</td>\n",
       "      <td>Enero</td>\n",
       "      <td>860045</td>\n",
       "    </tr>\n",
       "    <tr>\n",
       "      <th>1</th>\n",
       "      <td>2</td>\n",
       "      <td>Febrero</td>\n",
       "      <td>2071315</td>\n",
       "    </tr>\n",
       "    <tr>\n",
       "      <th>2</th>\n",
       "      <td>3</td>\n",
       "      <td>Marzo</td>\n",
       "      <td>854168</td>\n",
       "    </tr>\n",
       "    <tr>\n",
       "      <th>3</th>\n",
       "      <td>4</td>\n",
       "      <td>Abril</td>\n",
       "      <td>1524339</td>\n",
       "    </tr>\n",
       "    <tr>\n",
       "      <th>4</th>\n",
       "      <td>5</td>\n",
       "      <td>Mayo</td>\n",
       "      <td>4166726</td>\n",
       "    </tr>\n",
       "    <tr>\n",
       "      <th>5</th>\n",
       "      <td>6</td>\n",
       "      <td>Junio</td>\n",
       "      <td>6445083</td>\n",
       "    </tr>\n",
       "    <tr>\n",
       "      <th>6</th>\n",
       "      <td>7</td>\n",
       "      <td>Julio</td>\n",
       "      <td>8320400</td>\n",
       "    </tr>\n",
       "    <tr>\n",
       "      <th>7</th>\n",
       "      <td>8</td>\n",
       "      <td>Agosto</td>\n",
       "      <td>15525255</td>\n",
       "    </tr>\n",
       "    <tr>\n",
       "      <th>8</th>\n",
       "      <td>9</td>\n",
       "      <td>Septiembre</td>\n",
       "      <td>3018336</td>\n",
       "    </tr>\n",
       "    <tr>\n",
       "      <th>9</th>\n",
       "      <td>10</td>\n",
       "      <td>Octubre</td>\n",
       "      <td>1093962</td>\n",
       "    </tr>\n",
       "    <tr>\n",
       "      <th>10</th>\n",
       "      <td>11</td>\n",
       "      <td>Noviembre</td>\n",
       "      <td>409263</td>\n",
       "    </tr>\n",
       "    <tr>\n",
       "      <th>11</th>\n",
       "      <td>12</td>\n",
       "      <td>Diciembre</td>\n",
       "      <td>312097</td>\n",
       "    </tr>\n",
       "  </tbody>\n",
       "</table>\n",
       "</div>"
      ],
      "text/plain": [
       "    month      mes_es  number_of_strikes\n",
       "0       1       Enero             860045\n",
       "1       2     Febrero            2071315\n",
       "2       3       Marzo             854168\n",
       "3       4       Abril            1524339\n",
       "4       5        Mayo            4166726\n",
       "5       6       Junio            6445083\n",
       "6       7       Julio            8320400\n",
       "7       8      Agosto           15525255\n",
       "8       9  Septiembre            3018336\n",
       "9      10     Octubre            1093962\n",
       "10     11   Noviembre             409263\n",
       "11     12   Diciembre             312097"
      ]
     },
     "execution_count": 37,
     "metadata": {},
     "output_type": "execute_result"
    }
   ],
   "source": [
    "# Create a new helper dataframe for plotting.\n",
    "df_by_month = df.groupby(['month','mes_es']).sum(numeric_only=True).sort_values('month', ascending=True).head(12).reset_index()\n",
    "df_by_month"
   ]
  },
  {
   "cell_type": "markdown",
   "metadata": {},
   "source": [
    "### Construir un grafico de barras"
   ]
  },
  {
   "cell_type": "markdown",
   "metadata": {
    "id": "bZv4MenQpYOF",
    "outputId": "45d57593-f29a-4f2f-de78-b0d51abcdba9"
   },
   "source": [
    "Ahora, hagamos un gráfico de barras. La función  `plt.bar()`  de Pyplot toma argumentos posicionales de  `x`  y  `height` , que representan los datos utilizados para los ejes x e y, respectivamente. El eje x representará los meses y el eje y representará el conteo de huelgas."
   ]
  },
  {
   "cell_type": "code",
   "execution_count": 48,
   "metadata": {
    "colab": {
     "base_uri": "https://localhost:8080/",
     "height": 295
    },
    "id": "Y_UW4D-NM40Z",
    "outputId": "45d57593-f29a-4f2f-de78-b0d51abcdba9"
   },
   "outputs": [
    {
     "data": {
      "image/png": "[encoded data removed]",
      "text/plain": [
       "<Figure size 640x480 with 1 Axes>"
      ]
     },
     "metadata": {},
     "output_type": "display_data"
    }
   ],
   "source": [
    "plt.bar(x=df_by_month['mes_es'],height= df_by_month['number_of_strikes'], label=\"Number of strikes\")\n",
    "plt.plot()\n",
    "\n",
    "plt.xlabel(\"Months(2018)\")\n",
    "plt.ylabel(\"Number of lightning strikes\")\n",
    "plt.title(\"Number of lightning strikes in 2018 by months\")\n",
    "plt.xticks(rotation=75)\n",
    "plt.legend()\n",
    "plt.show()"
   ]
  },
  {
   "cell_type": "code",
   "execution_count": null,
   "metadata": {},
   "outputs": [],
   "source": []
  }
 ],
 "metadata": {
  "colab": {
   "collapsed_sections": [],
   "provenance": [
    {
     "file_id": "11wjoaCc4dEVYQJkwURBnlJMKK1LR5QT6",
     "timestamp": 1662663002669
    }
   ]
  },
  "kernelspec": {
   "display_name": "Py_Global",
   "language": "python",
   "name": "py_global"
  },
  "language_info": {
   "codemirror_mode": {
    "name": "ipython",
    "version": 3
   },
   "file_extension": ".py",
   "mimetype": "text/x-python",
   "name": "python",
   "nbconvert_exporter": "python",
   "pygments_lexer": "ipython3",
   "version": "3.8.10"
  }
 },
 "nbformat": 4,
 "nbformat_minor": 1
}
