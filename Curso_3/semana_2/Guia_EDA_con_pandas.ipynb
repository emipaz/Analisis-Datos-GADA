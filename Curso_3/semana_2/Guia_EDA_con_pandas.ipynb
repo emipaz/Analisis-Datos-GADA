{
 "cells": [
  {
   "cell_type": "markdown",
   "metadata": {
    "id": "Su8Yo0FbD6Fd"
   },
   "source": [
    "# guia EDA con Python"
   ]
  },
  {
   "cell_type": "markdown",
   "metadata": {},
   "source": [
    "En este cuaderno, examinaremos los datos de los rayos recopilados por la Administración Nacional Oceánica y Atmosférica (NOAA, por sus siglas en inglés) para el año 2018. Para completar este cuaderno, haremos lo siguiente:\n",
    "\n",
    "* Encontraremos las ubicaciones con el mayor número de rayos en un solo día.\n",
    "* Examinaremos las ubicaciones que tuvieron el mayor número de días con al menos un rayo.\n",
    "* Determinaremos si ciertos días de la semana tuvieron más rayos que otros.\n",
    "* Agregaremos datos de 2016 y 2017 y, para cada mes, calcularemos el porcentaje de rayos totales para ese año que ocurrieron en ese mes.\n",
    "* Representaremos estos datos en un gráfico de barras."
   ]
  },
  {
   "cell_type": "code",
   "execution_count": 1,
   "metadata": {
    "executionInfo": {
     "elapsed": 516,
     "status": "ok",
     "timestamp": 1665680661918,
     "user": {
      "displayName": "Jim McCoy",
      "userId": "05540602321492626965"
     },
     "user_tz": 300
    },
    "id": "2406K3ewQavA"
   },
   "outputs": [],
   "source": [
    "# Import statements\n",
    "import pandas as pd\n",
    "import numpy as np\n",
    "import seaborn as sns\n",
    "import datetime\n",
    "from matplotlib import pyplot as plt"
   ]
  },
  {
   "cell_type": "code",
   "execution_count": 3,
   "metadata": {
    "colab": {
     "base_uri": "https://localhost:8080/",
     "height": 338
    },
    "executionInfo": {
     "elapsed": 202,
     "status": "error",
     "timestamp": 1665680665778,
     "user": {
      "displayName": "Jim McCoy",
      "userId": "05540602321492626965"
     },
     "user_tz": 300
    },
    "id": "Rk80B0j0M0ye",
    "outputId": "72c2c661-7e69-4dc8-dea8-5e98b18ce60f"
   },
   "outputs": [
    {
     "data": {
      "text/html": [
       "<div>\n",
       "<style scoped>\n",
       "    .dataframe tbody tr th:only-of-type {\n",
       "        vertical-align: middle;\n",
       "    }\n",
       "\n",
       "    .dataframe tbody tr th {\n",
       "        vertical-align: top;\n",
       "    }\n",
       "\n",
       "    .dataframe thead th {\n",
       "        text-align: right;\n",
       "    }\n",
       "</style>\n",
       "<table border=\"1\" class=\"dataframe\">\n",
       "  <thead>\n",
       "    <tr style=\"text-align: right;\">\n",
       "      <th></th>\n",
       "      <th>date</th>\n",
       "      <th>number_of_strikes</th>\n",
       "      <th>center_point_geom</th>\n",
       "    </tr>\n",
       "  </thead>\n",
       "  <tbody>\n",
       "    <tr>\n",
       "      <th>0</th>\n",
       "      <td>2018-01-03</td>\n",
       "      <td>194</td>\n",
       "      <td>POINT(-75 27)</td>\n",
       "    </tr>\n",
       "    <tr>\n",
       "      <th>1</th>\n",
       "      <td>2018-01-03</td>\n",
       "      <td>41</td>\n",
       "      <td>POINT(-78.4 29)</td>\n",
       "    </tr>\n",
       "    <tr>\n",
       "      <th>2</th>\n",
       "      <td>2018-01-03</td>\n",
       "      <td>33</td>\n",
       "      <td>POINT(-73.9 27)</td>\n",
       "    </tr>\n",
       "    <tr>\n",
       "      <th>3</th>\n",
       "      <td>2018-01-03</td>\n",
       "      <td>38</td>\n",
       "      <td>POINT(-73.8 27)</td>\n",
       "    </tr>\n",
       "    <tr>\n",
       "      <th>4</th>\n",
       "      <td>2018-01-03</td>\n",
       "      <td>92</td>\n",
       "      <td>POINT(-79 28)</td>\n",
       "    </tr>\n",
       "  </tbody>\n",
       "</table>\n",
       "</div>"
      ],
      "text/plain": [
       "         date  number_of_strikes center_point_geom\n",
       "0  2018-01-03                194     POINT(-75 27)\n",
       "1  2018-01-03                 41   POINT(-78.4 29)\n",
       "2  2018-01-03                 33   POINT(-73.9 27)\n",
       "3  2018-01-03                 38   POINT(-73.8 27)\n",
       "4  2018-01-03                 92     POINT(-79 28)"
      ]
     },
     "execution_count": 3,
     "metadata": {},
     "output_type": "execute_result"
    }
   ],
   "source": [
    "df = pd.read_csv('eda_structuring_with_python_dataset1.csv') \n",
    "df.head()"
   ]
  },
  {
   "cell_type": "code",
   "execution_count": 4,
   "metadata": {},
   "outputs": [
    {
     "data": {
      "text/plain": [
       "date                 object\n",
       "number_of_strikes     int64\n",
       "center_point_geom    object\n",
       "dtype: object"
      ]
     },
     "execution_count": 4,
     "metadata": {},
     "output_type": "execute_result"
    }
   ],
   "source": [
    "df.dtypes"
   ]
  },
  {
   "cell_type": "markdown",
   "metadata": {
    "id": "JWw1_Mnjq1HI",
    "outputId": "a7917f94-c78b-4350-d464-1a703051d010"
   },
   "source": [
    "Este conjunto de datos tiene tres columnas:  `date` ,  `number_of_strikes`  y  `center_point_geom` . Comienzamos por convertir la columna  `date`  a formato datetime."
   ]
  },
  {
   "cell_type": "code",
   "execution_count": 5,
   "metadata": {
    "colab": {
     "base_uri": "https://localhost:8080/",
     "height": 206
    },
    "id": "3v1-HdDqD6Fg",
    "outputId": "a7917f94-c78b-4350-d464-1a703051d010"
   },
   "outputs": [
    {
     "data": {
      "text/html": [
       "<div>\n",
       "<style scoped>\n",
       "    .dataframe tbody tr th:only-of-type {\n",
       "        vertical-align: middle;\n",
       "    }\n",
       "\n",
       "    .dataframe tbody tr th {\n",
       "        vertical-align: top;\n",
       "    }\n",
       "\n",
       "    .dataframe thead th {\n",
       "        text-align: right;\n",
       "    }\n",
       "</style>\n",
       "<table border=\"1\" class=\"dataframe\">\n",
       "  <thead>\n",
       "    <tr style=\"text-align: right;\">\n",
       "      <th></th>\n",
       "      <th>date</th>\n",
       "      <th>number_of_strikes</th>\n",
       "      <th>center_point_geom</th>\n",
       "    </tr>\n",
       "  </thead>\n",
       "  <tbody>\n",
       "    <tr>\n",
       "      <th>0</th>\n",
       "      <td>2018-01-03</td>\n",
       "      <td>194</td>\n",
       "      <td>POINT(-75 27)</td>\n",
       "    </tr>\n",
       "    <tr>\n",
       "      <th>1</th>\n",
       "      <td>2018-01-03</td>\n",
       "      <td>41</td>\n",
       "      <td>POINT(-78.4 29)</td>\n",
       "    </tr>\n",
       "    <tr>\n",
       "      <th>2</th>\n",
       "      <td>2018-01-03</td>\n",
       "      <td>33</td>\n",
       "      <td>POINT(-73.9 27)</td>\n",
       "    </tr>\n",
       "    <tr>\n",
       "      <th>3</th>\n",
       "      <td>2018-01-03</td>\n",
       "      <td>38</td>\n",
       "      <td>POINT(-73.8 27)</td>\n",
       "    </tr>\n",
       "    <tr>\n",
       "      <th>4</th>\n",
       "      <td>2018-01-03</td>\n",
       "      <td>92</td>\n",
       "      <td>POINT(-79 28)</td>\n",
       "    </tr>\n",
       "  </tbody>\n",
       "</table>\n",
       "</div>"
      ],
      "text/plain": [
       "        date  number_of_strikes center_point_geom\n",
       "0 2018-01-03                194     POINT(-75 27)\n",
       "1 2018-01-03                 41   POINT(-78.4 29)\n",
       "2 2018-01-03                 33   POINT(-73.9 27)\n",
       "3 2018-01-03                 38   POINT(-73.8 27)\n",
       "4 2018-01-03                 92     POINT(-79 28)"
      ]
     },
     "execution_count": 5,
     "metadata": {},
     "output_type": "execute_result"
    }
   ],
   "source": [
    "# Convert the `date` column to datetime.\n",
    "df['date'] = pd.to_datetime(df['date']) \n",
    "df.head()"
   ]
  },
  {
   "cell_type": "code",
   "execution_count": 6,
   "metadata": {},
   "outputs": [
    {
     "data": {
      "text/plain": [
       "date                 datetime64[ns]\n",
       "number_of_strikes             int64\n",
       "center_point_geom            object\n",
       "dtype: object"
      ]
     },
     "execution_count": 6,
     "metadata": {},
     "output_type": "execute_result"
    }
   ],
   "source": [
    "df.dtypes"
   ]
  },
  {
   "cell_type": "code",
   "execution_count": 7,
   "metadata": {
    "id": "mSFH86kvK1a_"
   },
   "outputs": [
    {
     "data": {
      "text/plain": [
       "(3401012, 3)"
      ]
     },
     "execution_count": 7,
     "metadata": {},
     "output_type": "execute_result"
    }
   ],
   "source": [
    "df.shape"
   ]
  },
  {
   "cell_type": "markdown",
   "metadata": {},
   "source": [
    "Verifica duplicados. Si la forma de los datos es diferente después de ejecutar este código, sabrás que había filas duplicadas."
   ]
  },
  {
   "cell_type": "code",
   "execution_count": 8,
   "metadata": {},
   "outputs": [
    {
     "data": {
      "text/plain": [
       "False    3401012\n",
       "dtype: int64"
      ]
     },
     "execution_count": 8,
     "metadata": {},
     "output_type": "execute_result"
    }
   ],
   "source": [
    "df.duplicated().value_counts()"
   ]
  },
  {
   "cell_type": "code",
   "execution_count": 9,
   "metadata": {
    "colab": {
     "base_uri": "https://localhost:8080/"
    },
    "id": "BOCB5KD-M8ZE",
    "outputId": "1a8f49e5-ad57-44a8-876f-fa12fdfb0def"
   },
   "outputs": [
    {
     "data": {
      "text/plain": [
       "(3401012, 3)"
      ]
     },
     "execution_count": 9,
     "metadata": {},
     "output_type": "execute_result"
    }
   ],
   "source": [
    "df.drop_duplicates().shape"
   ]
  },
  {
   "cell_type": "markdown",
   "metadata": {
    "id": "73HBuSeCD6Fj",
    "outputId": "1a8f49e5-ad57-44a8-876f-fa12fdfb0def"
   },
   "source": [
    "La forma del conjunto de datos después de eliminar los duplicados es la misma, por lo que puedes asumir que no hay duplicados. Por lo tanto, hay como máximo una fila por fecha, por área y por número de huelgas."
   ]
  },
  {
   "cell_type": "markdown",
   "metadata": {},
   "source": [
    "## Cambio de nombres de las columnas"
   ]
  },
  {
   "cell_type": "code",
   "execution_count": 10,
   "metadata": {},
   "outputs": [
    {
     "data": {
      "text/plain": [
       "Index(['date', 'number_of_strikes', 'center_point_geom'], dtype='object')"
      ]
     },
     "execution_count": 10,
     "metadata": {},
     "output_type": "execute_result"
    }
   ],
   "source": [
    "df.columns"
   ]
  },
  {
   "cell_type": "code",
   "execution_count": 11,
   "metadata": {},
   "outputs": [
    {
     "data": {
      "text/html": [
       "<div>\n",
       "<style scoped>\n",
       "    .dataframe tbody tr th:only-of-type {\n",
       "        vertical-align: middle;\n",
       "    }\n",
       "\n",
       "    .dataframe tbody tr th {\n",
       "        vertical-align: top;\n",
       "    }\n",
       "\n",
       "    .dataframe thead th {\n",
       "        text-align: right;\n",
       "    }\n",
       "</style>\n",
       "<table border=\"1\" class=\"dataframe\">\n",
       "  <thead>\n",
       "    <tr style=\"text-align: right;\">\n",
       "      <th></th>\n",
       "      <th>fecha</th>\n",
       "      <th>rayos</th>\n",
       "      <th>coordenadas</th>\n",
       "    </tr>\n",
       "  </thead>\n",
       "  <tbody>\n",
       "    <tr>\n",
       "      <th>0</th>\n",
       "      <td>2018-01-03</td>\n",
       "      <td>194</td>\n",
       "      <td>POINT(-75 27)</td>\n",
       "    </tr>\n",
       "    <tr>\n",
       "      <th>1</th>\n",
       "      <td>2018-01-03</td>\n",
       "      <td>41</td>\n",
       "      <td>POINT(-78.4 29)</td>\n",
       "    </tr>\n",
       "    <tr>\n",
       "      <th>2</th>\n",
       "      <td>2018-01-03</td>\n",
       "      <td>33</td>\n",
       "      <td>POINT(-73.9 27)</td>\n",
       "    </tr>\n",
       "    <tr>\n",
       "      <th>3</th>\n",
       "      <td>2018-01-03</td>\n",
       "      <td>38</td>\n",
       "      <td>POINT(-73.8 27)</td>\n",
       "    </tr>\n",
       "    <tr>\n",
       "      <th>4</th>\n",
       "      <td>2018-01-03</td>\n",
       "      <td>92</td>\n",
       "      <td>POINT(-79 28)</td>\n",
       "    </tr>\n",
       "    <tr>\n",
       "      <th>...</th>\n",
       "      <td>...</td>\n",
       "      <td>...</td>\n",
       "      <td>...</td>\n",
       "    </tr>\n",
       "    <tr>\n",
       "      <th>3401007</th>\n",
       "      <td>2018-12-28</td>\n",
       "      <td>30</td>\n",
       "      <td>POINT(-90.6 28.7)</td>\n",
       "    </tr>\n",
       "    <tr>\n",
       "      <th>3401008</th>\n",
       "      <td>2018-12-28</td>\n",
       "      <td>30</td>\n",
       "      <td>POINT(-89.4 30.9)</td>\n",
       "    </tr>\n",
       "    <tr>\n",
       "      <th>3401009</th>\n",
       "      <td>2018-12-28</td>\n",
       "      <td>30</td>\n",
       "      <td>POINT(-89.5 31.4)</td>\n",
       "    </tr>\n",
       "    <tr>\n",
       "      <th>3401010</th>\n",
       "      <td>2018-12-28</td>\n",
       "      <td>30</td>\n",
       "      <td>POINT(-88.3 31.6)</td>\n",
       "    </tr>\n",
       "    <tr>\n",
       "      <th>3401011</th>\n",
       "      <td>2018-12-28</td>\n",
       "      <td>30</td>\n",
       "      <td>POINT(-88.4 32.1)</td>\n",
       "    </tr>\n",
       "  </tbody>\n",
       "</table>\n",
       "<p>3401012 rows × 3 columns</p>\n",
       "</div>"
      ],
      "text/plain": [
       "             fecha  rayos        coordenadas\n",
       "0       2018-01-03    194      POINT(-75 27)\n",
       "1       2018-01-03     41    POINT(-78.4 29)\n",
       "2       2018-01-03     33    POINT(-73.9 27)\n",
       "3       2018-01-03     38    POINT(-73.8 27)\n",
       "4       2018-01-03     92      POINT(-79 28)\n",
       "...            ...    ...                ...\n",
       "3401007 2018-12-28     30  POINT(-90.6 28.7)\n",
       "3401008 2018-12-28     30  POINT(-89.4 30.9)\n",
       "3401009 2018-12-28     30  POINT(-89.5 31.4)\n",
       "3401010 2018-12-28     30  POINT(-88.3 31.6)\n",
       "3401011 2018-12-28     30  POINT(-88.4 32.1)\n",
       "\n",
       "[3401012 rows x 3 columns]"
      ]
     },
     "execution_count": 11,
     "metadata": {},
     "output_type": "execute_result"
    }
   ],
   "source": [
    "columnas = [\"fecha\", \"rayos\", \"coordenadas\"]\n",
    "df.columns = columnas\n",
    "df"
   ]
  },
  {
   "cell_type": "markdown",
   "metadata": {},
   "source": [
    "### Ubicaciones con la mayor cantidad de rayos en un solo día\n",
    "\n",
    "Para identificar las ubicaciones con la mayor cantidad de huelgas en un solo día, ordenaremos la columna  `number_of_strikes`  de forma descendente, es decir, de mayor a menor cantidad de huelgas."
   ]
  },
  {
   "cell_type": "code",
   "execution_count": 12,
   "metadata": {
    "colab": {
     "base_uri": "https://localhost:8080/",
     "height": 363
    },
    "id": "wsITNVF9D6Fk",
    "outputId": "d5cd8be8-c613-420c-96e1-7ddc8b68dcf8"
   },
   "outputs": [
    {
     "data": {
      "text/html": [
       "<div>\n",
       "<style scoped>\n",
       "    .dataframe tbody tr th:only-of-type {\n",
       "        vertical-align: middle;\n",
       "    }\n",
       "\n",
       "    .dataframe tbody tr th {\n",
       "        vertical-align: top;\n",
       "    }\n",
       "\n",
       "    .dataframe thead th {\n",
       "        text-align: right;\n",
       "    }\n",
       "</style>\n",
       "<table border=\"1\" class=\"dataframe\">\n",
       "  <thead>\n",
       "    <tr style=\"text-align: right;\">\n",
       "      <th></th>\n",
       "      <th>fecha</th>\n",
       "      <th>rayos</th>\n",
       "      <th>coordenadas</th>\n",
       "    </tr>\n",
       "  </thead>\n",
       "  <tbody>\n",
       "    <tr>\n",
       "      <th>302758</th>\n",
       "      <td>2018-08-20</td>\n",
       "      <td>2211</td>\n",
       "      <td>POINT(-92.5 35.5)</td>\n",
       "    </tr>\n",
       "    <tr>\n",
       "      <th>278383</th>\n",
       "      <td>2018-08-16</td>\n",
       "      <td>2142</td>\n",
       "      <td>POINT(-96.1 36.1)</td>\n",
       "    </tr>\n",
       "    <tr>\n",
       "      <th>280830</th>\n",
       "      <td>2018-08-17</td>\n",
       "      <td>2061</td>\n",
       "      <td>POINT(-90.2 36.1)</td>\n",
       "    </tr>\n",
       "    <tr>\n",
       "      <th>280453</th>\n",
       "      <td>2018-08-17</td>\n",
       "      <td>2031</td>\n",
       "      <td>POINT(-89.9 35.9)</td>\n",
       "    </tr>\n",
       "    <tr>\n",
       "      <th>278382</th>\n",
       "      <td>2018-08-16</td>\n",
       "      <td>1902</td>\n",
       "      <td>POINT(-96.2 36.1)</td>\n",
       "    </tr>\n",
       "    <tr>\n",
       "      <th>11517</th>\n",
       "      <td>2018-02-10</td>\n",
       "      <td>1899</td>\n",
       "      <td>POINT(-95.5 28.1)</td>\n",
       "    </tr>\n",
       "    <tr>\n",
       "      <th>277506</th>\n",
       "      <td>2018-08-16</td>\n",
       "      <td>1878</td>\n",
       "      <td>POINT(-89.7 31.5)</td>\n",
       "    </tr>\n",
       "    <tr>\n",
       "      <th>24906</th>\n",
       "      <td>2018-02-25</td>\n",
       "      <td>1833</td>\n",
       "      <td>POINT(-98.7 28.9)</td>\n",
       "    </tr>\n",
       "    <tr>\n",
       "      <th>284320</th>\n",
       "      <td>2018-08-17</td>\n",
       "      <td>1767</td>\n",
       "      <td>POINT(-90.1 36)</td>\n",
       "    </tr>\n",
       "    <tr>\n",
       "      <th>24825</th>\n",
       "      <td>2018-02-25</td>\n",
       "      <td>1741</td>\n",
       "      <td>POINT(-98 29)</td>\n",
       "    </tr>\n",
       "  </tbody>\n",
       "</table>\n",
       "</div>"
      ],
      "text/plain": [
       "            fecha  rayos        coordenadas\n",
       "302758 2018-08-20   2211  POINT(-92.5 35.5)\n",
       "278383 2018-08-16   2142  POINT(-96.1 36.1)\n",
       "280830 2018-08-17   2061  POINT(-90.2 36.1)\n",
       "280453 2018-08-17   2031  POINT(-89.9 35.9)\n",
       "278382 2018-08-16   1902  POINT(-96.2 36.1)\n",
       "11517  2018-02-10   1899  POINT(-95.5 28.1)\n",
       "277506 2018-08-16   1878  POINT(-89.7 31.5)\n",
       "24906  2018-02-25   1833  POINT(-98.7 28.9)\n",
       "284320 2018-08-17   1767    POINT(-90.1 36)\n",
       "24825  2018-02-25   1741      POINT(-98 29)"
      ]
     },
     "execution_count": 12,
     "metadata": {},
     "output_type": "execute_result"
    }
   ],
   "source": [
    "# Oedenamos por numeros de rayos en orden descendente.\n",
    "df.sort_values(by='rayos', ascending=False).head(10)"
   ]
  },
  {
   "cell_type": "markdown",
   "metadata": {},
   "source": [
    "Ubicaciones con la mayoría de los días con al menos un rayo eléctrico.\n",
    "\n"
   ]
  },
  {
   "cell_type": "markdown",
   "metadata": {
    "id": "H0GIPTT_D6Fk"
   },
   "source": [
    "Para encontrar el número de días en los que una ubicación geográfica determinada tuvo al menos un rayo, utilizaremos la función  `value_counts()`  en la columna  `coordenadas` . La lógica es que si cada fila representa una ubicación-día, contar la cantidad de veces que aparece cada ubicación en los datos te dará el número de días en los que esa ubicación tuvo rayos."
   ]
  },
  {
   "cell_type": "code",
   "execution_count": 13,
   "metadata": {
    "colab": {
     "base_uri": "https://localhost:8080/"
    },
    "id": "rGldHFeoL-H3",
    "outputId": "a72ec9d6-e140-4df5-d0a5-54b1116cd6dc"
   },
   "outputs": [
    {
     "data": {
      "text/plain": [
       "POINT(-81.5 22.5)     108\n",
       "POINT(-84.1 22.4)     108\n",
       "POINT(-82.5 22.9)     107\n",
       "POINT(-82.7 22.9)     107\n",
       "POINT(-82.5 22.8)     106\n",
       "                     ... \n",
       "POINT(-119.3 35.1)      1\n",
       "POINT(-119.3 35)        1\n",
       "POINT(-119.6 35.6)      1\n",
       "POINT(-119.4 35.6)      1\n",
       "POINT(-58.5 45.3)       1\n",
       "Name: coordenadas, Length: 170855, dtype: int64"
      ]
     },
     "execution_count": 13,
     "metadata": {},
     "output_type": "execute_result"
    }
   ],
   "source": [
    "# Idintificar los puntos donde se registraron los rayos\n",
    "df.coordenadas.value_counts()"
   ]
  },
  {
   "cell_type": "markdown",
   "metadata": {
    "id": "HFpTZzqK85Kw",
    "outputId": "e69e6c7f-e5ef-4577-82d9-9a37c729670f"
   },
   "source": [
    "Las ubicaciones con la mayor cantidad de días con rayos tuvieron al menos un rayo en 108 días, casi uno de cada tres días del año. Estas ubicaciones están bastante cerca geográficamente entre sí. Observa también que la función  `value_counts()`  ordena automáticamente los resultados en orden descendente.\n",
    "\n",
    "Ahora examinaremos si hay una distribución uniforme de valores o si 108 rayos es un número inusualmente alto de días con rayos. Utilizaremos nuevamente la función  `value_counts()` , pero esta vez mostraremos los 20 resultados principales. También cambiaremos el nombre de las columnas y aplicaremos un gradiente de color."
   ]
  },
  {
   "cell_type": "code",
   "execution_count": 14,
   "metadata": {},
   "outputs": [
    {
     "name": "stdout",
     "output_type": "stream",
     "text": [
      "['__class__', '__copy__', '__deepcopy__', '__delattr__', '__dict__', '__dir__', '__doc__', '__eq__', '__format__', '__ge__', '__getattribute__', '__gt__', '__hash__', '__init__', '__init_subclass__', '__le__', '__lt__', '__module__', '__ne__', '__new__', '__reduce__', '__reduce_ex__', '__repr__', '__setattr__', '__sizeof__', '__str__', '__subclasshook__', '__weakref__', '_apply', '_apply_index', '_applymap', '_check_trim', '_compute', '_copy', '_display_funcs', '_display_funcs_columns', '_display_funcs_index', '_generate_body_row', '_generate_col_header_row', '_generate_index_names_row', '_generate_trimmed_row', '_get_numeric_subset_default', '_render', '_render_html', '_render_latex', '_render_string', '_repr_html_', '_repr_latex_', '_todo', '_translate', '_translate_body', '_translate_header', '_translate_latex', '_update_ctx', '_update_ctx_header', 'apply', 'apply_index', 'applymap', 'applymap_index', 'background_gradient', 'bar', 'caption', 'cell_context', 'cell_ids', 'clear', 'columns', 'concat', 'concatenated', 'css', 'ctx', 'ctx_columns', 'ctx_index', 'data', 'env', 'export', 'format', 'format_index', 'from_custom_template', 'hidden_columns', 'hidden_rows', 'hide', 'hide_column_names', 'hide_columns', 'hide_columns_', 'hide_index', 'hide_index_', 'hide_index_names', 'highlight_between', 'highlight_max', 'highlight_min', 'highlight_null', 'highlight_quantile', 'index', 'loader', 'na_rep', 'pipe', 'precision', 'relabel_index', 'render', 'set_caption', 'set_na_rep', 'set_precision', 'set_properties', 'set_sticky', 'set_table_attributes', 'set_table_styles', 'set_td_classes', 'set_tooltips', 'set_uuid', 'table_attributes', 'table_styles', 'template_html', 'template_html_style', 'template_html_table', 'template_latex', 'template_string', 'text_gradient', 'to_excel', 'to_html', 'to_latex', 'to_string', 'tooltips', 'use', 'uuid', 'uuid_len', 'where']\n"
     ]
    }
   ],
   "source": [
    "print(dir(df.style))"
   ]
  },
  {
   "cell_type": "code",
   "execution_count": 15,
   "metadata": {
    "colab": {
     "base_uri": "https://localhost:8080/",
     "height": 677
    },
    "id": "VDRgCWyVD6Fl",
    "outputId": "e69e6c7f-e5ef-4577-82d9-9a37c729670f"
   },
   "outputs": [
    {
     "data": {
      "text/html": [
       "<style type=\"text/css\">\n",
       "#T_bcdca_row0_col1, #T_bcdca_row1_col1 {\n",
       "  background-color: #3f007d;\n",
       "  color: #f1f1f1;\n",
       "}\n",
       "#T_bcdca_row2_col1, #T_bcdca_row3_col1 {\n",
       "  background-color: #572c92;\n",
       "  color: #f1f1f1;\n",
       "}\n",
       "#T_bcdca_row4_col1, #T_bcdca_row5_col1 {\n",
       "  background-color: #705eaa;\n",
       "  color: #f1f1f1;\n",
       "}\n",
       "#T_bcdca_row6_col1, #T_bcdca_row7_col1 {\n",
       "  background-color: #8d89c0;\n",
       "  color: #f1f1f1;\n",
       "}\n",
       "#T_bcdca_row8_col1, #T_bcdca_row9_col1 {\n",
       "  background-color: #afaed4;\n",
       "  color: #000000;\n",
       "}\n",
       "#T_bcdca_row10_col1 {\n",
       "  background-color: #d1d2e7;\n",
       "  color: #000000;\n",
       "}\n",
       "#T_bcdca_row11_col1, #T_bcdca_row12_col1, #T_bcdca_row13_col1, #T_bcdca_row14_col1, #T_bcdca_row15_col1 {\n",
       "  background-color: #ecebf4;\n",
       "  color: #000000;\n",
       "}\n",
       "#T_bcdca_row16_col1, #T_bcdca_row17_col1, #T_bcdca_row18_col1, #T_bcdca_row19_col1 {\n",
       "  background-color: #fcfbfd;\n",
       "  color: #000000;\n",
       "}\n",
       "</style>\n",
       "<table id=\"T_bcdca\">\n",
       "  <thead>\n",
       "    <tr>\n",
       "      <th class=\"blank level0\" >&nbsp;</th>\n",
       "      <th id=\"T_bcdca_level0_col0\" class=\"col_heading level0 col0\" >valores_unicos</th>\n",
       "      <th id=\"T_bcdca_level0_col1\" class=\"col_heading level0 col1\" >cantidad</th>\n",
       "    </tr>\n",
       "  </thead>\n",
       "  <tbody>\n",
       "    <tr>\n",
       "      <th id=\"T_bcdca_level0_row0\" class=\"row_heading level0 row0\" >0</th>\n",
       "      <td id=\"T_bcdca_row0_col0\" class=\"data row0 col0\" >POINT(-81.5 22.5)</td>\n",
       "      <td id=\"T_bcdca_row0_col1\" class=\"data row0 col1\" >108</td>\n",
       "    </tr>\n",
       "    <tr>\n",
       "      <th id=\"T_bcdca_level0_row1\" class=\"row_heading level0 row1\" >1</th>\n",
       "      <td id=\"T_bcdca_row1_col0\" class=\"data row1 col0\" >POINT(-84.1 22.4)</td>\n",
       "      <td id=\"T_bcdca_row1_col1\" class=\"data row1 col1\" >108</td>\n",
       "    </tr>\n",
       "    <tr>\n",
       "      <th id=\"T_bcdca_level0_row2\" class=\"row_heading level0 row2\" >2</th>\n",
       "      <td id=\"T_bcdca_row2_col0\" class=\"data row2 col0\" >POINT(-82.5 22.9)</td>\n",
       "      <td id=\"T_bcdca_row2_col1\" class=\"data row2 col1\" >107</td>\n",
       "    </tr>\n",
       "    <tr>\n",
       "      <th id=\"T_bcdca_level0_row3\" class=\"row_heading level0 row3\" >3</th>\n",
       "      <td id=\"T_bcdca_row3_col0\" class=\"data row3 col0\" >POINT(-82.7 22.9)</td>\n",
       "      <td id=\"T_bcdca_row3_col1\" class=\"data row3 col1\" >107</td>\n",
       "    </tr>\n",
       "    <tr>\n",
       "      <th id=\"T_bcdca_level0_row4\" class=\"row_heading level0 row4\" >4</th>\n",
       "      <td id=\"T_bcdca_row4_col0\" class=\"data row4 col0\" >POINT(-82.5 22.8)</td>\n",
       "      <td id=\"T_bcdca_row4_col1\" class=\"data row4 col1\" >106</td>\n",
       "    </tr>\n",
       "    <tr>\n",
       "      <th id=\"T_bcdca_level0_row5\" class=\"row_heading level0 row5\" >5</th>\n",
       "      <td id=\"T_bcdca_row5_col0\" class=\"data row5 col0\" >POINT(-84.2 22.3)</td>\n",
       "      <td id=\"T_bcdca_row5_col1\" class=\"data row5 col1\" >106</td>\n",
       "    </tr>\n",
       "    <tr>\n",
       "      <th id=\"T_bcdca_level0_row6\" class=\"row_heading level0 row6\" >6</th>\n",
       "      <td id=\"T_bcdca_row6_col0\" class=\"data row6 col0\" >POINT(-76 20.5)</td>\n",
       "      <td id=\"T_bcdca_row6_col1\" class=\"data row6 col1\" >105</td>\n",
       "    </tr>\n",
       "    <tr>\n",
       "      <th id=\"T_bcdca_level0_row7\" class=\"row_heading level0 row7\" >7</th>\n",
       "      <td id=\"T_bcdca_row7_col0\" class=\"data row7 col0\" >POINT(-75.9 20.4)</td>\n",
       "      <td id=\"T_bcdca_row7_col1\" class=\"data row7 col1\" >105</td>\n",
       "    </tr>\n",
       "    <tr>\n",
       "      <th id=\"T_bcdca_level0_row8\" class=\"row_heading level0 row8\" >8</th>\n",
       "      <td id=\"T_bcdca_row8_col0\" class=\"data row8 col0\" >POINT(-82.2 22.9)</td>\n",
       "      <td id=\"T_bcdca_row8_col1\" class=\"data row8 col1\" >104</td>\n",
       "    </tr>\n",
       "    <tr>\n",
       "      <th id=\"T_bcdca_level0_row9\" class=\"row_heading level0 row9\" >9</th>\n",
       "      <td id=\"T_bcdca_row9_col0\" class=\"data row9 col0\" >POINT(-78 18.2)</td>\n",
       "      <td id=\"T_bcdca_row9_col1\" class=\"data row9 col1\" >104</td>\n",
       "    </tr>\n",
       "    <tr>\n",
       "      <th id=\"T_bcdca_level0_row10\" class=\"row_heading level0 row10\" >10</th>\n",
       "      <td id=\"T_bcdca_row10_col0\" class=\"data row10 col0\" >POINT(-83.9 22.5)</td>\n",
       "      <td id=\"T_bcdca_row10_col1\" class=\"data row10 col1\" >103</td>\n",
       "    </tr>\n",
       "    <tr>\n",
       "      <th id=\"T_bcdca_level0_row11\" class=\"row_heading level0 row11\" >11</th>\n",
       "      <td id=\"T_bcdca_row11_col0\" class=\"data row11 col0\" >POINT(-84 22.4)</td>\n",
       "      <td id=\"T_bcdca_row11_col1\" class=\"data row11 col1\" >102</td>\n",
       "    </tr>\n",
       "    <tr>\n",
       "      <th id=\"T_bcdca_level0_row12\" class=\"row_heading level0 row12\" >12</th>\n",
       "      <td id=\"T_bcdca_row12_col0\" class=\"data row12 col0\" >POINT(-82 22.8)</td>\n",
       "      <td id=\"T_bcdca_row12_col1\" class=\"data row12 col1\" >102</td>\n",
       "    </tr>\n",
       "    <tr>\n",
       "      <th id=\"T_bcdca_level0_row13\" class=\"row_heading level0 row13\" >13</th>\n",
       "      <td id=\"T_bcdca_row13_col0\" class=\"data row13 col0\" >POINT(-82 22.4)</td>\n",
       "      <td id=\"T_bcdca_row13_col1\" class=\"data row13 col1\" >102</td>\n",
       "    </tr>\n",
       "    <tr>\n",
       "      <th id=\"T_bcdca_level0_row14\" class=\"row_heading level0 row14\" >14</th>\n",
       "      <td id=\"T_bcdca_row14_col0\" class=\"data row14 col0\" >POINT(-82.3 22.9)</td>\n",
       "      <td id=\"T_bcdca_row14_col1\" class=\"data row14 col1\" >102</td>\n",
       "    </tr>\n",
       "    <tr>\n",
       "      <th id=\"T_bcdca_level0_row15\" class=\"row_heading level0 row15\" >15</th>\n",
       "      <td id=\"T_bcdca_row15_col0\" class=\"data row15 col0\" >POINT(-78 18.3)</td>\n",
       "      <td id=\"T_bcdca_row15_col1\" class=\"data row15 col1\" >102</td>\n",
       "    </tr>\n",
       "    <tr>\n",
       "      <th id=\"T_bcdca_level0_row16\" class=\"row_heading level0 row16\" >16</th>\n",
       "      <td id=\"T_bcdca_row16_col0\" class=\"data row16 col0\" >POINT(-84.1 22.5)</td>\n",
       "      <td id=\"T_bcdca_row16_col1\" class=\"data row16 col1\" >101</td>\n",
       "    </tr>\n",
       "    <tr>\n",
       "      <th id=\"T_bcdca_level0_row17\" class=\"row_heading level0 row17\" >17</th>\n",
       "      <td id=\"T_bcdca_row17_col0\" class=\"data row17 col0\" >POINT(-75.5 20.6)</td>\n",
       "      <td id=\"T_bcdca_row17_col1\" class=\"data row17 col1\" >101</td>\n",
       "    </tr>\n",
       "    <tr>\n",
       "      <th id=\"T_bcdca_level0_row18\" class=\"row_heading level0 row18\" >18</th>\n",
       "      <td id=\"T_bcdca_row18_col0\" class=\"data row18 col0\" >POINT(-84.2 22.4)</td>\n",
       "      <td id=\"T_bcdca_row18_col1\" class=\"data row18 col1\" >101</td>\n",
       "    </tr>\n",
       "    <tr>\n",
       "      <th id=\"T_bcdca_level0_row19\" class=\"row_heading level0 row19\" >19</th>\n",
       "      <td id=\"T_bcdca_row19_col0\" class=\"data row19 col0\" >POINT(-76 20.4)</td>\n",
       "      <td id=\"T_bcdca_row19_col1\" class=\"data row19 col1\" >101</td>\n",
       "    </tr>\n",
       "  </tbody>\n",
       "</table>\n"
      ],
      "text/plain": [
       "<pandas.io.formats.style.Styler at 0x7f3bcc532340>"
      ]
     },
     "execution_count": 15,
     "metadata": {},
     "output_type": "execute_result"
    }
   ],
   "source": [
    "# Identify the top 20 locations with most days of lightning.\n",
    "df.coordenadas.value_counts()[:20]\\\n",
    "    .rename_axis('valores_unicos')\\\n",
    "    .reset_index(name='cantidad')\\\n",
    "    .style.background_gradient(cmap=\"Purples\")"
   ]
  },
  {
   "cell_type": "markdown",
   "metadata": {
    "id": "eXc-04IpVoHg"
   },
   "source": []
  },
  {
   "cell_type": "markdown",
   "metadata": {
    "id": "nLUV2dPcD6Fm"
   },
   "source": [
    "### Rayos por día de la semana\n",
    "\n",
    "Una agrupación útil es categorizar los rayos por día de la semana, lo cual nos dirá si algún día en particular tuvo menos o más rayos que los demás. Para calcular esto, aprovecharemos el hecho de que los datos en nuestra columna  `fecha`  son de la clase  `datetime` . Debido a que estas entradas son objetos datetime, podemos extraer información relacionada con la fecha de ellos y crear nuevas columnas.\n",
    "\n",
    "Primero, crearemos una columna llamada  `semana`  utilizando  `dt.isocalendar()`  en la columna  `fecha` . Esta función está diseñada para ser utilizada en una serie de pandas, y devolverá un nuevo DataFrame con columnas de año, semana y día. La información se formatea numéricamente; por ejemplo, el 3 de enero de 1950 se representaría como:\n",
    "\n",
    "| Año  | Semana | Día |\n",
    "| ---- | :----: | :-: |\n",
    "| 1950 |   1    |  3  |\n",
    "\n",
    "Dado que solo queremos extraer el número de semana, agregaremos  `.week`  al final. Puedes obtener más información sobre  `dt.isocalendar()`  en la [documentación de pandas.Series.dt.isocalendar](https://pandas.pydata.org/pandas-docs/dev/reference/api/pandas.Series.dt.isocalendar.html).\n",
    "\n",
    "También agregaremos una columna  `dia`  utilizando  `dt.day_name()` . Esta es otra función de pandas diseñada para ser utilizada en una serie de pandas. Extrae el nombre del día en formato de texto para cualquier fecha datetime dada. Puedes obtener más información sobre esta función en la [documentación de pandas.Series.dt.day_name](https://pandas.pydata.org/pandas-docs/dev/reference/api/pandas.Series.dt.day_name.html).\n"
   ]
  },
  {
   "cell_type": "code",
   "execution_count": 16,
   "metadata": {
    "colab": {
     "base_uri": "https://localhost:8080/",
     "height": 206
    },
    "id": "s__i6QEYLEWM",
    "outputId": "51d7bf6e-bfc4-4c76-ad40-7e3866c3c30e"
   },
   "outputs": [
    {
     "data": {
      "text/html": [
       "<div>\n",
       "<style scoped>\n",
       "    .dataframe tbody tr th:only-of-type {\n",
       "        vertical-align: middle;\n",
       "    }\n",
       "\n",
       "    .dataframe tbody tr th {\n",
       "        vertical-align: top;\n",
       "    }\n",
       "\n",
       "    .dataframe thead th {\n",
       "        text-align: right;\n",
       "    }\n",
       "</style>\n",
       "<table border=\"1\" class=\"dataframe\">\n",
       "  <thead>\n",
       "    <tr style=\"text-align: right;\">\n",
       "      <th></th>\n",
       "      <th>fecha</th>\n",
       "      <th>rayos</th>\n",
       "      <th>coordenadas</th>\n",
       "      <th>semana</th>\n",
       "      <th>dia</th>\n",
       "    </tr>\n",
       "  </thead>\n",
       "  <tbody>\n",
       "    <tr>\n",
       "      <th>0</th>\n",
       "      <td>2018-01-03</td>\n",
       "      <td>194</td>\n",
       "      <td>POINT(-75 27)</td>\n",
       "      <td>1</td>\n",
       "      <td>Miércoles</td>\n",
       "    </tr>\n",
       "    <tr>\n",
       "      <th>1</th>\n",
       "      <td>2018-01-03</td>\n",
       "      <td>41</td>\n",
       "      <td>POINT(-78.4 29)</td>\n",
       "      <td>1</td>\n",
       "      <td>Miércoles</td>\n",
       "    </tr>\n",
       "    <tr>\n",
       "      <th>2</th>\n",
       "      <td>2018-01-03</td>\n",
       "      <td>33</td>\n",
       "      <td>POINT(-73.9 27)</td>\n",
       "      <td>1</td>\n",
       "      <td>Miércoles</td>\n",
       "    </tr>\n",
       "    <tr>\n",
       "      <th>3</th>\n",
       "      <td>2018-01-03</td>\n",
       "      <td>38</td>\n",
       "      <td>POINT(-73.8 27)</td>\n",
       "      <td>1</td>\n",
       "      <td>Miércoles</td>\n",
       "    </tr>\n",
       "    <tr>\n",
       "      <th>4</th>\n",
       "      <td>2018-01-03</td>\n",
       "      <td>92</td>\n",
       "      <td>POINT(-79 28)</td>\n",
       "      <td>1</td>\n",
       "      <td>Miércoles</td>\n",
       "    </tr>\n",
       "  </tbody>\n",
       "</table>\n",
       "</div>"
      ],
      "text/plain": [
       "       fecha  rayos      coordenadas  semana        dia\n",
       "0 2018-01-03    194    POINT(-75 27)       1  Miércoles\n",
       "1 2018-01-03     41  POINT(-78.4 29)       1  Miércoles\n",
       "2 2018-01-03     33  POINT(-73.9 27)       1  Miércoles\n",
       "3 2018-01-03     38  POINT(-73.8 27)       1  Miércoles\n",
       "4 2018-01-03     92    POINT(-79 28)       1  Miércoles"
      ]
     },
     "execution_count": 16,
     "metadata": {},
     "output_type": "execute_result"
    }
   ],
   "source": [
    "# Create two new columns.\n",
    "df['semana'] = df.fecha.dt.isocalendar().week\n",
    "df['dia'] = df.fecha.dt.day_name(locale=\"es_ES.UTF-8\")\n",
    "df.head()"
   ]
  },
  {
   "cell_type": "code",
   "execution_count": 17,
   "metadata": {},
   "outputs": [
    {
     "data": {
      "text/html": [
       "<div>\n",
       "<style scoped>\n",
       "    .dataframe tbody tr th:only-of-type {\n",
       "        vertical-align: middle;\n",
       "    }\n",
       "\n",
       "    .dataframe tbody tr th {\n",
       "        vertical-align: top;\n",
       "    }\n",
       "\n",
       "    .dataframe thead th {\n",
       "        text-align: right;\n",
       "    }\n",
       "</style>\n",
       "<table border=\"1\" class=\"dataframe\">\n",
       "  <thead>\n",
       "    <tr style=\"text-align: right;\">\n",
       "      <th></th>\n",
       "      <th>fecha</th>\n",
       "      <th>rayos</th>\n",
       "      <th>coordenadas</th>\n",
       "      <th>semana</th>\n",
       "      <th>dia</th>\n",
       "      <th>dias_catalan</th>\n",
       "    </tr>\n",
       "  </thead>\n",
       "  <tbody>\n",
       "    <tr>\n",
       "      <th>2821231</th>\n",
       "      <td>2018-08-29</td>\n",
       "      <td>9</td>\n",
       "      <td>POINT(-88.8 25.7)</td>\n",
       "      <td>35</td>\n",
       "      <td>Miércoles</td>\n",
       "      <td>Dimecres</td>\n",
       "    </tr>\n",
       "    <tr>\n",
       "      <th>3125257</th>\n",
       "      <td>2018-08-16</td>\n",
       "      <td>15</td>\n",
       "      <td>POINT(-107.7 39.9)</td>\n",
       "      <td>33</td>\n",
       "      <td>Jueves</td>\n",
       "      <td>Dijous</td>\n",
       "    </tr>\n",
       "    <tr>\n",
       "      <th>909019</th>\n",
       "      <td>2018-07-28</td>\n",
       "      <td>1</td>\n",
       "      <td>POINT(-91.1 49.7)</td>\n",
       "      <td>30</td>\n",
       "      <td>Sábado</td>\n",
       "      <td>Dissabte</td>\n",
       "    </tr>\n",
       "    <tr>\n",
       "      <th>759449</th>\n",
       "      <td>2018-07-02</td>\n",
       "      <td>1</td>\n",
       "      <td>POINT(-97.9 50.7)</td>\n",
       "      <td>27</td>\n",
       "      <td>Lunes</td>\n",
       "      <td>Dilluns</td>\n",
       "    </tr>\n",
       "    <tr>\n",
       "      <th>895414</th>\n",
       "      <td>2018-07-26</td>\n",
       "      <td>1</td>\n",
       "      <td>POINT(-111.9 36.7)</td>\n",
       "      <td>30</td>\n",
       "      <td>Jueves</td>\n",
       "      <td>Dijous</td>\n",
       "    </tr>\n",
       "    <tr>\n",
       "      <th>2504965</th>\n",
       "      <td>2018-08-22</td>\n",
       "      <td>6</td>\n",
       "      <td>POINT(-99.6 23.2)</td>\n",
       "      <td>34</td>\n",
       "      <td>Miércoles</td>\n",
       "      <td>Dimecres</td>\n",
       "    </tr>\n",
       "    <tr>\n",
       "      <th>2394657</th>\n",
       "      <td>2018-03-20</td>\n",
       "      <td>6</td>\n",
       "      <td>POINT(-80.5 34.2)</td>\n",
       "      <td>12</td>\n",
       "      <td>Martes</td>\n",
       "      <td>Dimarts</td>\n",
       "    </tr>\n",
       "    <tr>\n",
       "      <th>2194265</th>\n",
       "      <td>2018-09-01</td>\n",
       "      <td>4</td>\n",
       "      <td>POINT(-91.1 31.4)</td>\n",
       "      <td>35</td>\n",
       "      <td>Sábado</td>\n",
       "      <td>Dissabte</td>\n",
       "    </tr>\n",
       "    <tr>\n",
       "      <th>2021743</th>\n",
       "      <td>2018-10-06</td>\n",
       "      <td>3</td>\n",
       "      <td>POINT(-92 37.9)</td>\n",
       "      <td>40</td>\n",
       "      <td>Sábado</td>\n",
       "      <td>Dissabte</td>\n",
       "    </tr>\n",
       "    <tr>\n",
       "      <th>1650234</th>\n",
       "      <td>2018-10-30</td>\n",
       "      <td>2</td>\n",
       "      <td>POINT(-108.3 35.4)</td>\n",
       "      <td>44</td>\n",
       "      <td>Martes</td>\n",
       "      <td>Dimarts</td>\n",
       "    </tr>\n",
       "  </tbody>\n",
       "</table>\n",
       "</div>"
      ],
      "text/plain": [
       "             fecha  rayos         coordenadas  semana        dia dias_catalan\n",
       "2821231 2018-08-29      9   POINT(-88.8 25.7)      35  Miércoles     Dimecres\n",
       "3125257 2018-08-16     15  POINT(-107.7 39.9)      33     Jueves       Dijous\n",
       "909019  2018-07-28      1   POINT(-91.1 49.7)      30     Sábado     Dissabte\n",
       "759449  2018-07-02      1   POINT(-97.9 50.7)      27      Lunes      Dilluns\n",
       "895414  2018-07-26      1  POINT(-111.9 36.7)      30     Jueves       Dijous\n",
       "2504965 2018-08-22      6   POINT(-99.6 23.2)      34  Miércoles     Dimecres\n",
       "2394657 2018-03-20      6   POINT(-80.5 34.2)      12     Martes      Dimarts\n",
       "2194265 2018-09-01      4   POINT(-91.1 31.4)      35     Sábado     Dissabte\n",
       "2021743 2018-10-06      3     POINT(-92 37.9)      40     Sábado     Dissabte\n",
       "1650234 2018-10-30      2  POINT(-108.3 35.4)      44     Martes      Dimarts"
      ]
     },
     "execution_count": 17,
     "metadata": {},
     "output_type": "execute_result"
    }
   ],
   "source": [
    "# metodo personalizado para cambiar los dias\n",
    "def dias_catalan(st):\n",
    "    dias ={\n",
    "    \"Lunes\"     :\"Dilluns\",\n",
    "    \"Martes\"    :\"Dimarts\",\n",
    "    \"Miércoles\" :\"Dimecres\",\n",
    "    \"Jueves\"    :\"Dijous\",\n",
    "    \"Viernes\"   :\"Divendres\",\n",
    "    \"Sábado\"    :\"Dissabte\",\n",
    "    \"Domingo\"   :\"Diumenge\",\n",
    "    }\n",
    "    return dias[st]\n",
    "\n",
    "df[\"dias_catalan\"] = df.dia.apply(dias_catalan)\n",
    "df.sample(10)"
   ]
  },
  {
   "cell_type": "markdown",
   "metadata": {},
   "source": [
    "Borramos la columna que creamos con el metodo drop"
   ]
  },
  {
   "cell_type": "code",
   "execution_count": 18,
   "metadata": {},
   "outputs": [],
   "source": [
    "df.drop(\"dias_catalan\", axis = 1, inplace = True) # axis = 1 es para columnas axis = 0 para filas"
   ]
  },
  {
   "cell_type": "markdown",
   "metadata": {},
   "source": [
    "ejemplo de como borrar una fila especifica "
   ]
  },
  {
   "cell_type": "code",
   "execution_count": 19,
   "metadata": {},
   "outputs": [
    {
     "data": {
      "text/html": [
       "<div>\n",
       "<style scoped>\n",
       "    .dataframe tbody tr th:only-of-type {\n",
       "        vertical-align: middle;\n",
       "    }\n",
       "\n",
       "    .dataframe tbody tr th {\n",
       "        vertical-align: top;\n",
       "    }\n",
       "\n",
       "    .dataframe thead th {\n",
       "        text-align: right;\n",
       "    }\n",
       "</style>\n",
       "<table border=\"1\" class=\"dataframe\">\n",
       "  <thead>\n",
       "    <tr style=\"text-align: right;\">\n",
       "      <th></th>\n",
       "      <th>fecha</th>\n",
       "      <th>rayos</th>\n",
       "      <th>coordenadas</th>\n",
       "      <th>semana</th>\n",
       "      <th>dia</th>\n",
       "    </tr>\n",
       "  </thead>\n",
       "  <tbody>\n",
       "    <tr>\n",
       "      <th>1</th>\n",
       "      <td>2018-01-03</td>\n",
       "      <td>41</td>\n",
       "      <td>POINT(-78.4 29)</td>\n",
       "      <td>1</td>\n",
       "      <td>Miércoles</td>\n",
       "    </tr>\n",
       "    <tr>\n",
       "      <th>2</th>\n",
       "      <td>2018-01-03</td>\n",
       "      <td>33</td>\n",
       "      <td>POINT(-73.9 27)</td>\n",
       "      <td>1</td>\n",
       "      <td>Miércoles</td>\n",
       "    </tr>\n",
       "    <tr>\n",
       "      <th>3</th>\n",
       "      <td>2018-01-03</td>\n",
       "      <td>38</td>\n",
       "      <td>POINT(-73.8 27)</td>\n",
       "      <td>1</td>\n",
       "      <td>Miércoles</td>\n",
       "    </tr>\n",
       "    <tr>\n",
       "      <th>4</th>\n",
       "      <td>2018-01-03</td>\n",
       "      <td>92</td>\n",
       "      <td>POINT(-79 28)</td>\n",
       "      <td>1</td>\n",
       "      <td>Miércoles</td>\n",
       "    </tr>\n",
       "    <tr>\n",
       "      <th>5</th>\n",
       "      <td>2018-01-03</td>\n",
       "      <td>119</td>\n",
       "      <td>POINT(-78 28)</td>\n",
       "      <td>1</td>\n",
       "      <td>Miércoles</td>\n",
       "    </tr>\n",
       "    <tr>\n",
       "      <th>...</th>\n",
       "      <td>...</td>\n",
       "      <td>...</td>\n",
       "      <td>...</td>\n",
       "      <td>...</td>\n",
       "      <td>...</td>\n",
       "    </tr>\n",
       "    <tr>\n",
       "      <th>3401007</th>\n",
       "      <td>2018-12-28</td>\n",
       "      <td>30</td>\n",
       "      <td>POINT(-90.6 28.7)</td>\n",
       "      <td>52</td>\n",
       "      <td>Viernes</td>\n",
       "    </tr>\n",
       "    <tr>\n",
       "      <th>3401008</th>\n",
       "      <td>2018-12-28</td>\n",
       "      <td>30</td>\n",
       "      <td>POINT(-89.4 30.9)</td>\n",
       "      <td>52</td>\n",
       "      <td>Viernes</td>\n",
       "    </tr>\n",
       "    <tr>\n",
       "      <th>3401009</th>\n",
       "      <td>2018-12-28</td>\n",
       "      <td>30</td>\n",
       "      <td>POINT(-89.5 31.4)</td>\n",
       "      <td>52</td>\n",
       "      <td>Viernes</td>\n",
       "    </tr>\n",
       "    <tr>\n",
       "      <th>3401010</th>\n",
       "      <td>2018-12-28</td>\n",
       "      <td>30</td>\n",
       "      <td>POINT(-88.3 31.6)</td>\n",
       "      <td>52</td>\n",
       "      <td>Viernes</td>\n",
       "    </tr>\n",
       "    <tr>\n",
       "      <th>3401011</th>\n",
       "      <td>2018-12-28</td>\n",
       "      <td>30</td>\n",
       "      <td>POINT(-88.4 32.1)</td>\n",
       "      <td>52</td>\n",
       "      <td>Viernes</td>\n",
       "    </tr>\n",
       "  </tbody>\n",
       "</table>\n",
       "<p>3401011 rows × 5 columns</p>\n",
       "</div>"
      ],
      "text/plain": [
       "             fecha  rayos        coordenadas  semana        dia\n",
       "1       2018-01-03     41    POINT(-78.4 29)       1  Miércoles\n",
       "2       2018-01-03     33    POINT(-73.9 27)       1  Miércoles\n",
       "3       2018-01-03     38    POINT(-73.8 27)       1  Miércoles\n",
       "4       2018-01-03     92      POINT(-79 28)       1  Miércoles\n",
       "5       2018-01-03    119      POINT(-78 28)       1  Miércoles\n",
       "...            ...    ...                ...     ...        ...\n",
       "3401007 2018-12-28     30  POINT(-90.6 28.7)      52    Viernes\n",
       "3401008 2018-12-28     30  POINT(-89.4 30.9)      52    Viernes\n",
       "3401009 2018-12-28     30  POINT(-89.5 31.4)      52    Viernes\n",
       "3401010 2018-12-28     30  POINT(-88.3 31.6)      52    Viernes\n",
       "3401011 2018-12-28     30  POINT(-88.4 32.1)      52    Viernes\n",
       "\n",
       "[3401011 rows x 5 columns]"
      ]
     },
     "execution_count": 19,
     "metadata": {},
     "output_type": "execute_result"
    }
   ],
   "source": [
    "df.drop(0, axis = 0,) # se elimina la fila con indice 0 "
   ]
  },
  {
   "cell_type": "markdown",
   "metadata": {},
   "source": [
    "Ahora podemos calcular el promedio del número de rayos para cada día de la semana del año. Utilizaremos la función  `groupby()`  para hacer esto."
   ]
  },
  {
   "cell_type": "code",
   "execution_count": 20,
   "metadata": {
    "colab": {
     "base_uri": "https://localhost:8080/",
     "height": 300
    },
    "id": "PVK7sEUkP9NX",
    "outputId": "ebe445ff-0e71-43e5-caac-779ac0348a4e",
    "scrolled": true
   },
   "outputs": [
    {
     "data": {
      "text/html": [
       "<div>\n",
       "<style scoped>\n",
       "    .dataframe tbody tr th:only-of-type {\n",
       "        vertical-align: middle;\n",
       "    }\n",
       "\n",
       "    .dataframe tbody tr th {\n",
       "        vertical-align: top;\n",
       "    }\n",
       "\n",
       "    .dataframe thead th {\n",
       "        text-align: right;\n",
       "    }\n",
       "</style>\n",
       "<table border=\"1\" class=\"dataframe\">\n",
       "  <thead>\n",
       "    <tr style=\"text-align: right;\">\n",
       "      <th></th>\n",
       "      <th>rayos</th>\n",
       "    </tr>\n",
       "    <tr>\n",
       "      <th>dia</th>\n",
       "      <th></th>\n",
       "    </tr>\n",
       "  </thead>\n",
       "  <tbody>\n",
       "    <tr>\n",
       "      <th>Domingo</th>\n",
       "      <td>12.324717</td>\n",
       "    </tr>\n",
       "    <tr>\n",
       "      <th>Jueves</th>\n",
       "      <td>13.240594</td>\n",
       "    </tr>\n",
       "    <tr>\n",
       "      <th>Lunes</th>\n",
       "      <td>13.152804</td>\n",
       "    </tr>\n",
       "    <tr>\n",
       "      <th>Martes</th>\n",
       "      <td>13.813599</td>\n",
       "    </tr>\n",
       "    <tr>\n",
       "      <th>Miércoles</th>\n",
       "      <td>13.224568</td>\n",
       "    </tr>\n",
       "    <tr>\n",
       "      <th>Sábado</th>\n",
       "      <td>12.732694</td>\n",
       "    </tr>\n",
       "    <tr>\n",
       "      <th>Viernes</th>\n",
       "      <td>13.349972</td>\n",
       "    </tr>\n",
       "  </tbody>\n",
       "</table>\n",
       "</div>"
      ],
      "text/plain": [
       "               rayos\n",
       "dia                 \n",
       "Domingo    12.324717\n",
       "Jueves     13.240594\n",
       "Lunes      13.152804\n",
       "Martes     13.813599\n",
       "Miércoles  13.224568\n",
       "Sábado     12.732694\n",
       "Viernes    13.349972"
      ]
     },
     "execution_count": 20,
     "metadata": {},
     "output_type": "execute_result"
    }
   ],
   "source": [
    "# Calcula el promedio del número de rayos para cada día de la semana.\n",
    "df[['dia','rayos']].groupby(['dia']).mean()"
   ]
  },
  {
   "cell_type": "markdown",
   "metadata": {},
   "source": [
    "Parece que los sábados y domingos tienen menos rayos en promedio que los otros cinco días de la semana. Graficaremos las distribuciones del número de rayos para cada día de la semana. Queremos que cada distribución se represente como un diagrama de caja.\n",
    "\n",
    "Comenzaremos definiendo el orden de los días, comenzando con el lunes y terminando con el domingo. Así es como se ordenarán los días en el gráfico que crearemos."
   ]
  },
  {
   "cell_type": "code",
   "execution_count": 53,
   "metadata": {},
   "outputs": [
    {
     "name": "stdout",
     "output_type": "stream",
     "text": [
      "['Lunes', 'Martes', 'Miércoles', 'Jueves', 'Viernes', 'Sábado', 'Domingo']\n",
      "['Enero', 'Febrero', 'Marzo', 'Abril', 'Mayo', 'Junio', 'Julio', 'Agosto', 'Octubre', 'Septiembre', 'Noviembre', 'Diciembre']\n"
     ]
    }
   ],
   "source": [
    "# creamos una lista desde un string para ordenar el grafico\n",
    "# con title pasamos el string en formato titulo (primer caracter de cada palabra en mayuscula)\n",
    "# con split separamos por el espacio y nos devuelve una lista\n",
    "orden_dias = \"lunes martes miércoles jueves viernes sábado domingo\".title().split()\n",
    "orden_mes = \"enero febrero marzo abril mayo junio julio agosto octubre septiembre noviembre diciembre\".title().split()\n",
    "print(orden_dias)\n",
    "print(orden_mes)  \n"
   ]
  },
  {
   "cell_type": "markdown",
   "metadata": {
    "id": "9OwS_y0rD6Fo"
   },
   "source": [
    "Ahora, codificaremos el gráfico. Recuerda que  `showfliers`  es el parámetro que controla si se muestran o no los valores atípicos en el gráfico. Si ingresamos  `True` , se incluyen los valores atípicos; si ingresamos  `False` , se omiten del diagrama de caja. Ten en cuenta que no estamos *eliminando* ningún valor atípico del conjunto de datos al crear este gráfico, solo los excluimos de la visualización."
   ]
  },
  {
   "cell_type": "code",
   "execution_count": 22,
   "metadata": {
    "colab": {
     "base_uri": "https://localhost:8080/",
     "height": 295
    },
    "id": "ysCyf-TgRJay",
    "outputId": "8d9a612c-7862-4d3a-dfab-73c084fd72de"
   },
   "outputs": [
    {
     "data": {
      "image/png": "[encoded data removed]",
      "text/plain": [
       "<Figure size 640x480 with 1 Axes>"
      ]
     },
     "metadata": {},
     "output_type": "display_data"
    }
   ],
   "source": [
    "# Create boxplots of strike counts for each day of week.\n",
    "g = sns.boxplot(data=df, \n",
    "            x='dia',\n",
    "            y='rayos', \n",
    "            order=orden_dias, \n",
    "            showfliers=False \n",
    "            )\n",
    "g.set_title('Distribución de los rayos por día de la semana (2018)');"
   ]
  },
  {
   "cell_type": "markdown",
   "metadata": {
    "id": "E-m8ulpkD6Fp"
   },
   "source": [
    "Observa que la mediana se mantiene igual en todos los días de la semana. Sin embargo, en cuanto al sábado y domingo, las distribuciones son *ambas* más bajas que durante el resto de la semana. También sabemos que el número promedio de rayos que ocurrieron los sábados y domingos fue menor que en los otros días laborables. ¿Por qué podría ser esto? Tal vez las partículas de aerosol emitidas por fábricas y vehículos aumenten la probabilidad de los rayos. En los Estados Unidos, el sábado y domingo son días en los que muchas personas no trabajan, por lo que puede haber menos fábricas en funcionamiento y menos autos en la carretera. Esto es solo especulación, pero es una posible vía para una exploración adicional."
   ]
  },
  {
   "cell_type": "markdown",
   "metadata": {
    "id": "69aY2c-Y7bQT"
   },
   "source": [
    "\n",
    "\n",
    "Finalmente, examinaremos los datos mensuales de rayos ocurridos entre 2016 y 2018. Calcularemos el porcentaje del total de rayos para cada año que ocurrieron en un mes determinado. Luego representaremos estos datos en un gráfico de barras."
   ]
  },
  {
   "cell_type": "code",
   "execution_count": 23,
   "metadata": {
    "id": "UOhKa2F59YP9"
   },
   "outputs": [
    {
     "data": {
      "text/html": [
       "<div>\n",
       "<style scoped>\n",
       "    .dataframe tbody tr th:only-of-type {\n",
       "        vertical-align: middle;\n",
       "    }\n",
       "\n",
       "    .dataframe tbody tr th {\n",
       "        vertical-align: top;\n",
       "    }\n",
       "\n",
       "    .dataframe thead th {\n",
       "        text-align: right;\n",
       "    }\n",
       "</style>\n",
       "<table border=\"1\" class=\"dataframe\">\n",
       "  <thead>\n",
       "    <tr style=\"text-align: right;\">\n",
       "      <th></th>\n",
       "      <th>fecha</th>\n",
       "      <th>rayos</th>\n",
       "      <th>coordenadas</th>\n",
       "    </tr>\n",
       "  </thead>\n",
       "  <tbody>\n",
       "    <tr>\n",
       "      <th>0</th>\n",
       "      <td>2016-01-04</td>\n",
       "      <td>55</td>\n",
       "      <td>POINT(-83.2 21.1)</td>\n",
       "    </tr>\n",
       "    <tr>\n",
       "      <th>1</th>\n",
       "      <td>2016-01-04</td>\n",
       "      <td>33</td>\n",
       "      <td>POINT(-83.1 21.1)</td>\n",
       "    </tr>\n",
       "    <tr>\n",
       "      <th>2</th>\n",
       "      <td>2016-01-05</td>\n",
       "      <td>46</td>\n",
       "      <td>POINT(-77.5 22.1)</td>\n",
       "    </tr>\n",
       "    <tr>\n",
       "      <th>3</th>\n",
       "      <td>2016-01-05</td>\n",
       "      <td>28</td>\n",
       "      <td>POINT(-76.8 22.3)</td>\n",
       "    </tr>\n",
       "    <tr>\n",
       "      <th>4</th>\n",
       "      <td>2016-01-05</td>\n",
       "      <td>28</td>\n",
       "      <td>POINT(-77 22.1)</td>\n",
       "    </tr>\n",
       "  </tbody>\n",
       "</table>\n",
       "</div>"
      ],
      "text/plain": [
       "        fecha  rayos        coordenadas\n",
       "0  2016-01-04     55  POINT(-83.2 21.1)\n",
       "1  2016-01-04     33  POINT(-83.1 21.1)\n",
       "2  2016-01-05     46  POINT(-77.5 22.1)\n",
       "3  2016-01-05     28  POINT(-76.8 22.3)\n",
       "4  2016-01-05     28    POINT(-77 22.1)"
      ]
     },
     "execution_count": 23,
     "metadata": {},
     "output_type": "execute_result"
    }
   ],
   "source": [
    "df_2 = pd.read_csv('eda_structuring_with_python_dataset2.csv')\n",
    "df_2.columns = columnas\n",
    "df_2.head()"
   ]
  },
  {
   "cell_type": "code",
   "execution_count": 24,
   "metadata": {},
   "outputs": [
    {
     "data": {
      "text/plain": [
       "(7077991, 3)"
      ]
     },
     "execution_count": 24,
     "metadata": {},
     "output_type": "execute_result"
    }
   ],
   "source": [
    "df_2.shape"
   ]
  },
  {
   "cell_type": "markdown",
   "metadata": {},
   "source": [
    "Los datos están en el mismo formato que los datos de 2018 cuando los importamos anteriormente. Ahora, convertiremos la columna  `date`  a datetime."
   ]
  },
  {
   "cell_type": "code",
   "execution_count": 25,
   "metadata": {
    "colab": {
     "base_uri": "https://localhost:8080/"
    },
    "id": "7qQf2eTp9tR9",
    "outputId": "949250a0-4105-4625-ee50-4da164d964e2"
   },
   "outputs": [],
   "source": [
    "df_2['fecha'] = pd.to_datetime(df_2['fecha'])"
   ]
  },
  {
   "cell_type": "markdown",
   "metadata": {
    "id": "soitXcxq992y"
   },
   "source": [
    "Ahora podemos combinar el dataframe de 2016-2017 con el dataframe de 2018. Hay varias funciones que pueden hacer esto. Utilizaremos  `concat()` . Recuerda que los datos de 2018 tienen dos columnas adicionales:  `semana`  y  `dia` . Para simplificar los resultados de nuestro dataframe combinado, eliminaremos estas columnas adicionales durante la concatenación. Ten en cuenta que el siguiente código no modifica permanentemente  `df` . Las columnas se eliminan solo para esta operación. Puedes obtener más información sobre la función  `concat()`  en la [documentación de pandas.concat](https://pandas.pydata.org/docs/reference/api/pandas.concat.html)."
   ]
  },
  {
   "cell_type": "code",
   "execution_count": 26,
   "metadata": {
    "colab": {
     "base_uri": "https://localhost:8080/",
     "height": 206
    },
    "id": "-zBEzO3HD6Fr",
    "outputId": "68340bdf-4350-4bb9-c1c4-cedd2b80f1f2"
   },
   "outputs": [
    {
     "data": {
      "text/html": [
       "<div>\n",
       "<style scoped>\n",
       "    .dataframe tbody tr th:only-of-type {\n",
       "        vertical-align: middle;\n",
       "    }\n",
       "\n",
       "    .dataframe tbody tr th {\n",
       "        vertical-align: top;\n",
       "    }\n",
       "\n",
       "    .dataframe thead th {\n",
       "        text-align: right;\n",
       "    }\n",
       "</style>\n",
       "<table border=\"1\" class=\"dataframe\">\n",
       "  <thead>\n",
       "    <tr style=\"text-align: right;\">\n",
       "      <th></th>\n",
       "      <th>fecha</th>\n",
       "      <th>rayos</th>\n",
       "      <th>coordenadas</th>\n",
       "    </tr>\n",
       "  </thead>\n",
       "  <tbody>\n",
       "    <tr>\n",
       "      <th>0</th>\n",
       "      <td>2018-01-03</td>\n",
       "      <td>194</td>\n",
       "      <td>POINT(-75 27)</td>\n",
       "    </tr>\n",
       "    <tr>\n",
       "      <th>1</th>\n",
       "      <td>2018-01-03</td>\n",
       "      <td>41</td>\n",
       "      <td>POINT(-78.4 29)</td>\n",
       "    </tr>\n",
       "    <tr>\n",
       "      <th>2</th>\n",
       "      <td>2018-01-03</td>\n",
       "      <td>33</td>\n",
       "      <td>POINT(-73.9 27)</td>\n",
       "    </tr>\n",
       "    <tr>\n",
       "      <th>3</th>\n",
       "      <td>2018-01-03</td>\n",
       "      <td>38</td>\n",
       "      <td>POINT(-73.8 27)</td>\n",
       "    </tr>\n",
       "    <tr>\n",
       "      <th>4</th>\n",
       "      <td>2018-01-03</td>\n",
       "      <td>92</td>\n",
       "      <td>POINT(-79 28)</td>\n",
       "    </tr>\n",
       "  </tbody>\n",
       "</table>\n",
       "</div>"
      ],
      "text/plain": [
       "       fecha  rayos      coordenadas\n",
       "0 2018-01-03    194    POINT(-75 27)\n",
       "1 2018-01-03     41  POINT(-78.4 29)\n",
       "2 2018-01-03     33  POINT(-73.9 27)\n",
       "3 2018-01-03     38  POINT(-73.8 27)\n",
       "4 2018-01-03     92    POINT(-79 28)"
      ]
     },
     "execution_count": 26,
     "metadata": {},
     "output_type": "execute_result"
    }
   ],
   "source": [
    "# Create a new dataframe combining 2016–2017 data with 2018 data.\n",
    "union_df = pd.concat([df.drop(['dia','semana'],axis=1), df_2], ignore_index=True)\n",
    "union_df.head()"
   ]
  },
  {
   "cell_type": "code",
   "execution_count": 27,
   "metadata": {},
   "outputs": [
    {
     "data": {
      "text/plain": [
       "(10479003, 3)"
      ]
     },
     "execution_count": 27,
     "metadata": {},
     "output_type": "execute_result"
    }
   ],
   "source": [
    "union_df.shape"
   ]
  },
  {
   "cell_type": "markdown",
   "metadata": {},
   "source": [
    "Para ayudarnos a nombrar las barras del gráfico de barras, crearemos tres nuevas columnas que aíslen el año, el número de mes y el nombre del mes."
   ]
  },
  {
   "cell_type": "code",
   "execution_count": 30,
   "metadata": {
    "id": "cDJiVTeED6Fr"
   },
   "outputs": [
    {
     "data": {
      "text/html": [
       "<div>\n",
       "<style scoped>\n",
       "    .dataframe tbody tr th:only-of-type {\n",
       "        vertical-align: middle;\n",
       "    }\n",
       "\n",
       "    .dataframe tbody tr th {\n",
       "        vertical-align: top;\n",
       "    }\n",
       "\n",
       "    .dataframe thead th {\n",
       "        text-align: right;\n",
       "    }\n",
       "</style>\n",
       "<table border=\"1\" class=\"dataframe\">\n",
       "  <thead>\n",
       "    <tr style=\"text-align: right;\">\n",
       "      <th></th>\n",
       "      <th>fecha</th>\n",
       "      <th>rayos</th>\n",
       "      <th>coordenadas</th>\n",
       "      <th>año</th>\n",
       "      <th>mes</th>\n",
       "      <th>mes_txt</th>\n",
       "    </tr>\n",
       "  </thead>\n",
       "  <tbody>\n",
       "    <tr>\n",
       "      <th>0</th>\n",
       "      <td>2018-01-03</td>\n",
       "      <td>194</td>\n",
       "      <td>POINT(-75 27)</td>\n",
       "      <td>2018</td>\n",
       "      <td>1</td>\n",
       "      <td>Enero</td>\n",
       "    </tr>\n",
       "    <tr>\n",
       "      <th>1</th>\n",
       "      <td>2018-01-03</td>\n",
       "      <td>41</td>\n",
       "      <td>POINT(-78.4 29)</td>\n",
       "      <td>2018</td>\n",
       "      <td>1</td>\n",
       "      <td>Enero</td>\n",
       "    </tr>\n",
       "    <tr>\n",
       "      <th>2</th>\n",
       "      <td>2018-01-03</td>\n",
       "      <td>33</td>\n",
       "      <td>POINT(-73.9 27)</td>\n",
       "      <td>2018</td>\n",
       "      <td>1</td>\n",
       "      <td>Enero</td>\n",
       "    </tr>\n",
       "    <tr>\n",
       "      <th>3</th>\n",
       "      <td>2018-01-03</td>\n",
       "      <td>38</td>\n",
       "      <td>POINT(-73.8 27)</td>\n",
       "      <td>2018</td>\n",
       "      <td>1</td>\n",
       "      <td>Enero</td>\n",
       "    </tr>\n",
       "    <tr>\n",
       "      <th>4</th>\n",
       "      <td>2018-01-03</td>\n",
       "      <td>92</td>\n",
       "      <td>POINT(-79 28)</td>\n",
       "      <td>2018</td>\n",
       "      <td>1</td>\n",
       "      <td>Enero</td>\n",
       "    </tr>\n",
       "  </tbody>\n",
       "</table>\n",
       "</div>"
      ],
      "text/plain": [
       "       fecha  rayos      coordenadas   año  mes mes_txt\n",
       "0 2018-01-03    194    POINT(-75 27)  2018    1   Enero\n",
       "1 2018-01-03     41  POINT(-78.4 29)  2018    1   Enero\n",
       "2 2018-01-03     33  POINT(-73.9 27)  2018    1   Enero\n",
       "3 2018-01-03     38  POINT(-73.8 27)  2018    1   Enero\n",
       "4 2018-01-03     92    POINT(-79 28)  2018    1   Enero"
      ]
     },
     "execution_count": 30,
     "metadata": {},
     "output_type": "execute_result"
    }
   ],
   "source": [
    "# Add 3 new columns.\n",
    "union_df['año']     = union_df.fecha.dt.year\n",
    "union_df['mes']     = union_df.fecha.dt.month\n",
    "union_df['mes_txt'] = union_df.fecha.dt.month_name(locale=\"es_ES.UTF-8\")\n",
    "union_df.head()"
   ]
  },
  {
   "cell_type": "markdown",
   "metadata": {
    "id": "mZT3c0spV5lN"
   },
   "source": [
    "Verifiquemos el recuento total de rayos por año."
   ]
  },
  {
   "cell_type": "code",
   "execution_count": 31,
   "metadata": {
    "colab": {
     "base_uri": "https://localhost:8080/",
     "height": 175
    },
    "id": "LqDmxIpn_6GU",
    "outputId": "7ff3a1b5-22cf-4392-f653-ce8638255566"
   },
   "outputs": [
    {
     "data": {
      "text/html": [
       "<div>\n",
       "<style scoped>\n",
       "    .dataframe tbody tr th:only-of-type {\n",
       "        vertical-align: middle;\n",
       "    }\n",
       "\n",
       "    .dataframe tbody tr th {\n",
       "        vertical-align: top;\n",
       "    }\n",
       "\n",
       "    .dataframe thead th {\n",
       "        text-align: right;\n",
       "    }\n",
       "</style>\n",
       "<table border=\"1\" class=\"dataframe\">\n",
       "  <thead>\n",
       "    <tr style=\"text-align: right;\">\n",
       "      <th></th>\n",
       "      <th>rayos</th>\n",
       "    </tr>\n",
       "    <tr>\n",
       "      <th>año</th>\n",
       "      <th></th>\n",
       "    </tr>\n",
       "  </thead>\n",
       "  <tbody>\n",
       "    <tr>\n",
       "      <th>2016</th>\n",
       "      <td>41582229</td>\n",
       "    </tr>\n",
       "    <tr>\n",
       "      <th>2017</th>\n",
       "      <td>35095195</td>\n",
       "    </tr>\n",
       "    <tr>\n",
       "      <th>2018</th>\n",
       "      <td>44600989</td>\n",
       "    </tr>\n",
       "  </tbody>\n",
       "</table>\n",
       "</div>"
      ],
      "text/plain": [
       "         rayos\n",
       "año           \n",
       "2016  41582229\n",
       "2017  35095195\n",
       "2018  44600989"
      ]
     },
     "execution_count": 31,
     "metadata": {},
     "output_type": "execute_result"
    }
   ],
   "source": [
    "# calcula el total de rayos por año\n",
    "union_df[['año','rayos']].groupby(['año']).sum()"
   ]
  },
  {
   "cell_type": "markdown",
   "metadata": {
    "id": "kRhDor74W9t4",
    "outputId": "aad24de3-5594-4fc7-e45f-d5c9d5f2c6fd"
   },
   "source": [
    "Ahora calcularemos el porcentaje del total de rayos que ocurrieron en un mes determinado para cada año y asignaremos los resultados a un nuevo dataframe llamado  `rayos_por_meses` ."
   ]
  },
  {
   "cell_type": "code",
   "execution_count": 42,
   "metadata": {
    "colab": {
     "base_uri": "https://localhost:8080/",
     "height": 206
    },
    "id": "7F8D37DXD6Fs",
    "outputId": "aad24de3-5594-4fc7-e45f-d5c9d5f2c6fd"
   },
   "outputs": [
    {
     "name": "stdout",
     "output_type": "stream",
     "text": [
      "(36, 3)\n"
     ]
    },
    {
     "data": {
      "text/html": [
       "<div>\n",
       "<style scoped>\n",
       "    .dataframe tbody tr th:only-of-type {\n",
       "        vertical-align: middle;\n",
       "    }\n",
       "\n",
       "    .dataframe tbody tr th {\n",
       "        vertical-align: top;\n",
       "    }\n",
       "\n",
       "    .dataframe thead th {\n",
       "        text-align: right;\n",
       "    }\n",
       "</style>\n",
       "<table border=\"1\" class=\"dataframe\">\n",
       "  <thead>\n",
       "    <tr style=\"text-align: right;\">\n",
       "      <th></th>\n",
       "      <th>mes_txt</th>\n",
       "      <th>año</th>\n",
       "      <th>rayos_meses</th>\n",
       "    </tr>\n",
       "  </thead>\n",
       "  <tbody>\n",
       "    <tr>\n",
       "      <th>0</th>\n",
       "      <td>Abril</td>\n",
       "      <td>2016</td>\n",
       "      <td>2636427</td>\n",
       "    </tr>\n",
       "    <tr>\n",
       "      <th>1</th>\n",
       "      <td>Abril</td>\n",
       "      <td>2017</td>\n",
       "      <td>3819075</td>\n",
       "    </tr>\n",
       "    <tr>\n",
       "      <th>2</th>\n",
       "      <td>Abril</td>\n",
       "      <td>2018</td>\n",
       "      <td>1524339</td>\n",
       "    </tr>\n",
       "    <tr>\n",
       "      <th>3</th>\n",
       "      <td>Agosto</td>\n",
       "      <td>2016</td>\n",
       "      <td>7250442</td>\n",
       "    </tr>\n",
       "    <tr>\n",
       "      <th>4</th>\n",
       "      <td>Agosto</td>\n",
       "      <td>2017</td>\n",
       "      <td>6021702</td>\n",
       "    </tr>\n",
       "  </tbody>\n",
       "</table>\n",
       "</div>"
      ],
      "text/plain": [
       "  mes_txt   año  rayos_meses\n",
       "0   Abril  2016      2636427\n",
       "1   Abril  2017      3819075\n",
       "2   Abril  2018      1524339\n",
       "3  Agosto  2016      7250442\n",
       "4  Agosto  2017      6021702"
      ]
     },
     "execution_count": 42,
     "metadata": {},
     "output_type": "execute_result"
    }
   ],
   "source": [
    "# Calcula el total de rayos por cada mes de cada año\n",
    "rayos_por_meses = union_df.groupby(['mes_txt','año']).agg(\n",
    "    rayos_meses = pd.NamedAgg( column = 'rayos', aggfunc = sum )\n",
    "    ).reset_index()\n",
    "\n",
    "print(rayos_por_meses.shape)\n",
    "rayos_por_meses.head()"
   ]
  },
  {
   "cell_type": "markdown",
   "metadata": {},
   "source": [
    "El código calcula el total de rayos por cada mes de cada año.\n",
    "\n",
    "- En la primera línea, se crea un nuevo DataFrame llamado \"rayos_por_meses\" que agrupa los datos del DataFrame \"union_df\" por mes y año.\n",
    "- La función \"groupby\" agrupa los datos por las columnas 'mes_txt' y 'año'.\n",
    "- La función \"agg\" aplica una función de agregación a la columna 'numero_de_rayos', que en este caso es la suma de los valores.\n",
    "- La función \"pd.NamedAgg\" se utiliza para dar un nombre a la columna resultante, que se llama 'rayos_meses'.\n",
    "- Por último, se utiliza la función \"reset_index\" para reiniciar los índices del DataFrame resultante.\n"
   ]
  },
  {
   "cell_type": "markdown",
   "metadata": {
    "id": "4N_5LhDSD6Fs"
   },
   "source": [
    "We can use the `agg()` function to calculate the same yearly totals we found before, with 2017 having fewer strikes than the other two years."
   ]
  },
  {
   "cell_type": "code",
   "execution_count": 43,
   "metadata": {
    "colab": {
     "base_uri": "https://localhost:8080/",
     "height": 143
    },
    "id": "wtBWqlJP7dos",
    "outputId": "2453b84d-83c8-4396-9275-72217cc284f7"
   },
   "outputs": [
    {
     "data": {
      "text/html": [
       "<div>\n",
       "<style scoped>\n",
       "    .dataframe tbody tr th:only-of-type {\n",
       "        vertical-align: middle;\n",
       "    }\n",
       "\n",
       "    .dataframe tbody tr th {\n",
       "        vertical-align: top;\n",
       "    }\n",
       "\n",
       "    .dataframe thead th {\n",
       "        text-align: right;\n",
       "    }\n",
       "</style>\n",
       "<table border=\"1\" class=\"dataframe\">\n",
       "  <thead>\n",
       "    <tr style=\"text-align: right;\">\n",
       "      <th></th>\n",
       "      <th>año</th>\n",
       "      <th>rayos_años</th>\n",
       "    </tr>\n",
       "  </thead>\n",
       "  <tbody>\n",
       "    <tr>\n",
       "      <th>0</th>\n",
       "      <td>2016</td>\n",
       "      <td>41582229</td>\n",
       "    </tr>\n",
       "    <tr>\n",
       "      <th>1</th>\n",
       "      <td>2017</td>\n",
       "      <td>35095195</td>\n",
       "    </tr>\n",
       "    <tr>\n",
       "      <th>2</th>\n",
       "      <td>2018</td>\n",
       "      <td>44600989</td>\n",
       "    </tr>\n",
       "  </tbody>\n",
       "</table>\n",
       "</div>"
      ],
      "text/plain": [
       "    año  rayos_años\n",
       "0  2016    41582229\n",
       "1  2017    35095195\n",
       "2  2018    44600989"
      ]
     },
     "execution_count": 43,
     "metadata": {},
     "output_type": "execute_result"
    }
   ],
   "source": [
    "# Calculate total lightning strikes for each year.\n",
    "rayos_por_años = union_df.groupby(['año']).agg(\n",
    "  rayos_años = pd.NamedAgg(column='rayos',aggfunc=sum)\n",
    ").reset_index()\n",
    "\n",
    "rayos_por_años.head()"
   ]
  },
  {
   "cell_type": "markdown",
   "metadata": {
    "id": "Dox4sADKAYqH",
    "outputId": "d22b959a-026a-44af-bb9a-0ebedb4017e0"
   },
   "source": [
    "En nuestro gráfico de barras, necesitamos utilizar los totales mensuales para calcular los porcentajes. Para cada mes, necesitaremos el total mensual de rayos y el total de rayos para ese año. Creemos otro DataFrame llamado  `porcentaje_de_rayos`  que agregue una nueva columna llamada  `rayos_años` , que representa el número total de rayos para cada año. Podemos hacer esto utilizando la función  `merge()` . Vamos a combinar el DataFrame  `rayos_por_meses`  con el DataFrame  `rayos_por_años` , especificando que se combinen en la columna  `año` . Esto significa que donde las columnas  `año`  contengan el mismo valor en ambos DataFrames, se creará una fila en nuestro nuevo DataFrame con todas las demás columnas de ambos DataFrames combinadas. Para obtener más información sobre esta función, consulta la [documentación de pandas.merge](https://pandas.pydata.org/docs/reference/api/pandas.merge.html).\n",
    "\n"
   ]
  },
  {
   "cell_type": "code",
   "execution_count": 44,
   "metadata": {
    "colab": {
     "base_uri": "https://localhost:8080/",
     "height": 206
    },
    "id": "IB1y2eIQD6Ft",
    "outputId": "d22b959a-026a-44af-bb9a-0ebedb4017e0",
    "scrolled": false
   },
   "outputs": [
    {
     "data": {
      "text/html": [
       "<div>\n",
       "<style scoped>\n",
       "    .dataframe tbody tr th:only-of-type {\n",
       "        vertical-align: middle;\n",
       "    }\n",
       "\n",
       "    .dataframe tbody tr th {\n",
       "        vertical-align: top;\n",
       "    }\n",
       "\n",
       "    .dataframe thead th {\n",
       "        text-align: right;\n",
       "    }\n",
       "</style>\n",
       "<table border=\"1\" class=\"dataframe\">\n",
       "  <thead>\n",
       "    <tr style=\"text-align: right;\">\n",
       "      <th></th>\n",
       "      <th>mes_txt</th>\n",
       "      <th>año</th>\n",
       "      <th>rayos_meses</th>\n",
       "      <th>rayos_años</th>\n",
       "    </tr>\n",
       "  </thead>\n",
       "  <tbody>\n",
       "    <tr>\n",
       "      <th>0</th>\n",
       "      <td>Abril</td>\n",
       "      <td>2016</td>\n",
       "      <td>2636427</td>\n",
       "      <td>41582229</td>\n",
       "    </tr>\n",
       "    <tr>\n",
       "      <th>1</th>\n",
       "      <td>Agosto</td>\n",
       "      <td>2016</td>\n",
       "      <td>7250442</td>\n",
       "      <td>41582229</td>\n",
       "    </tr>\n",
       "    <tr>\n",
       "      <th>2</th>\n",
       "      <td>Diciembre</td>\n",
       "      <td>2016</td>\n",
       "      <td>316450</td>\n",
       "      <td>41582229</td>\n",
       "    </tr>\n",
       "    <tr>\n",
       "      <th>3</th>\n",
       "      <td>Enero</td>\n",
       "      <td>2016</td>\n",
       "      <td>313595</td>\n",
       "      <td>41582229</td>\n",
       "    </tr>\n",
       "    <tr>\n",
       "      <th>4</th>\n",
       "      <td>Febrero</td>\n",
       "      <td>2016</td>\n",
       "      <td>312676</td>\n",
       "      <td>41582229</td>\n",
       "    </tr>\n",
       "  </tbody>\n",
       "</table>\n",
       "</div>"
      ],
      "text/plain": [
       "     mes_txt   año  rayos_meses  rayos_años\n",
       "0      Abril  2016      2636427    41582229\n",
       "1     Agosto  2016      7250442    41582229\n",
       "2  Diciembre  2016       316450    41582229\n",
       "3      Enero  2016       313595    41582229\n",
       "4    Febrero  2016       312676    41582229"
      ]
     },
     "execution_count": 44,
     "metadata": {},
     "output_type": "execute_result"
    }
   ],
   "source": [
    "# Combine `lightning_by_month` and `lightning_by_year` dataframes into single dataframe.\n",
    "porcentaje_de_rayos = rayos_por_meses.merge(rayos_por_años,on='año')\n",
    "porcentaje_de_rayos.head()"
   ]
  },
  {
   "cell_type": "markdown",
   "metadata": {},
   "source": [
    "Ahora crearemos una nueva columna en nuestro nuevo dataframe que represente el porcentaje total de rayos que ocurrieron durante cada mes para cada año. Haremos esto dividiendo la columna  `rayos_meses`  por la columna  `rayos_años`  y multiplicando el resultado por 100."
   ]
  },
  {
   "cell_type": "code",
   "execution_count": 52,
   "metadata": {},
   "outputs": [
    {
     "data": {
      "text/html": [
       "<div>\n",
       "<style scoped>\n",
       "    .dataframe tbody tr th:only-of-type {\n",
       "        vertical-align: middle;\n",
       "    }\n",
       "\n",
       "    .dataframe tbody tr th {\n",
       "        vertical-align: top;\n",
       "    }\n",
       "\n",
       "    .dataframe thead th {\n",
       "        text-align: right;\n",
       "    }\n",
       "</style>\n",
       "<table border=\"1\" class=\"dataframe\">\n",
       "  <thead>\n",
       "    <tr style=\"text-align: right;\">\n",
       "      <th></th>\n",
       "      <th>mes_txt</th>\n",
       "      <th>año</th>\n",
       "      <th>rayos_meses</th>\n",
       "      <th>rayos_años</th>\n",
       "      <th>porcentaje_de_rayos_por_mes</th>\n",
       "    </tr>\n",
       "  </thead>\n",
       "  <tbody>\n",
       "    <tr>\n",
       "      <th>0</th>\n",
       "      <td>Abril</td>\n",
       "      <td>2016</td>\n",
       "      <td>2636427</td>\n",
       "      <td>41582229</td>\n",
       "      <td>6.34</td>\n",
       "    </tr>\n",
       "    <tr>\n",
       "      <th>1</th>\n",
       "      <td>Agosto</td>\n",
       "      <td>2016</td>\n",
       "      <td>7250442</td>\n",
       "      <td>41582229</td>\n",
       "      <td>17.44</td>\n",
       "    </tr>\n",
       "    <tr>\n",
       "      <th>2</th>\n",
       "      <td>Diciembre</td>\n",
       "      <td>2016</td>\n",
       "      <td>316450</td>\n",
       "      <td>41582229</td>\n",
       "      <td>0.76</td>\n",
       "    </tr>\n",
       "    <tr>\n",
       "      <th>3</th>\n",
       "      <td>Enero</td>\n",
       "      <td>2016</td>\n",
       "      <td>313595</td>\n",
       "      <td>41582229</td>\n",
       "      <td>0.75</td>\n",
       "    </tr>\n",
       "    <tr>\n",
       "      <th>4</th>\n",
       "      <td>Febrero</td>\n",
       "      <td>2016</td>\n",
       "      <td>312676</td>\n",
       "      <td>41582229</td>\n",
       "      <td>0.75</td>\n",
       "    </tr>\n",
       "  </tbody>\n",
       "</table>\n",
       "</div>"
      ],
      "text/plain": [
       "     mes_txt   año  rayos_meses  rayos_años  porcentaje_de_rayos_por_mes\n",
       "0      Abril  2016      2636427    41582229                         6.34\n",
       "1     Agosto  2016      7250442    41582229                        17.44\n",
       "2  Diciembre  2016       316450    41582229                         0.76\n",
       "3      Enero  2016       313595    41582229                         0.75\n",
       "4    Febrero  2016       312676    41582229                         0.75"
      ]
     },
     "execution_count": 52,
     "metadata": {},
     "output_type": "execute_result"
    }
   ],
   "source": [
    "# Create new `percentage_lightning_per_month` column.\n",
    "porcentaje_de_rayos['porcentaje_de_rayos_por_mes'] = round((porcentaje_de_rayos.rayos_meses /\n",
    "                                                            porcentaje_de_rayos.rayos_años * 100.0),2)\n",
    "\n",
    "porcentaje_de_rayos.head()"
   ]
  },
  {
   "cell_type": "markdown",
   "metadata": {
    "id": "HUNVriARD6Ft"
   },
   "source": [
    "Ahora podemos graficar los porcentajes por mes en un grafico de barras."
   ]
  },
  {
   "cell_type": "code",
   "execution_count": 59,
   "metadata": {
    "id": "NlHwP5a8AqmF"
   },
   "outputs": [
    {
     "data": {
      "image/png": "[encoded data removed]",
      "text/plain": [
       "<Figure size 1500x600 with 1 Axes>"
      ]
     },
     "metadata": {},
     "output_type": "display_data"
    }
   ],
   "source": [
    "plt.figure(figsize=(15,6));\n",
    "\n",
    "sns.barplot(\n",
    "    data = porcentaje_de_rayos,\n",
    "    x = 'mes_txt',\n",
    "    y = 'porcentaje_de_rayos_por_mes',\n",
    "    hue = 'año',\n",
    "    order =  orden_mes\n",
    "    )\n",
    "plt.xlabel(\"Meses\")\n",
    "plt.ylabel(\"% de rayos\")\n",
    "plt.title(\"% de rayos cada mes (2016-2018)\");"
   ]
  },
  {
   "cell_type": "markdown",
   "metadata": {
    "id": "nWnlY5i9D6Fu",
    "outputId": "328c00ad-f2b7-4fe7-ed82-1245e60449bf"
   },
   "source": [
    "Para los tres años, hay un patrón claro a lo largo de cada año. Un mes destaca: agosto. Más de un tercio de los rayos ocurrieron en agosto en 2018."
   ]
  },
  {
   "cell_type": "markdown",
   "metadata": {},
   "source": []
  },
  {
   "cell_type": "code",
   "execution_count": null,
   "metadata": {},
   "outputs": [],
   "source": []
  },
  {
   "cell_type": "code",
   "execution_count": null,
   "metadata": {},
   "outputs": [],
   "source": []
  },
  {
   "cell_type": "code",
   "execution_count": null,
   "metadata": {},
   "outputs": [],
   "source": []
  }
 ],
 "metadata": {
  "colab": {
   "collapsed_sections": [],
   "provenance": [
    {
     "file_id": "1xXQxtXSGgiy1Hf3EAZbKQ6OUN00t7y8F",
     "timestamp": 1662732959704
    }
   ]
  },
  "kernelspec": {
   "display_name": "Py_Global",
   "language": "python",
   "name": "py_global"
  },
  "language_info": {
   "codemirror_mode": {
    "name": "ipython",
    "version": 3
   },
   "file_extension": ".py",
   "mimetype": "text/x-python",
   "name": "python",
   "nbconvert_exporter": "python",
   "pygments_lexer": "ipython3",
   "version": "3.8.10"
  }
 },
 "nbformat": 4,
 "nbformat_minor": 1
}
