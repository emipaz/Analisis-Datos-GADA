{
 "cells": [
  {
   "cell_type": "markdown",
   "metadata": {
    "id": "69783gzunQEp"
   },
   "source": [
    "# Manipulacion de Datos de Strings con Python"
   ]
  },
  {
   "cell_type": "markdown",
   "metadata": {},
   "source": [
    "## Resumen\n",
    "\n",
    "En este cuaderno, trabajaremos con datos de rayos de 2016 a 2018 de la Administración Nacional Oceánica y Atmosférica (NOAA, por sus siglas en inglés) para calcular las sumas semanales de rayos y representarlos en un gráfico de barras. Luego, calcularemos los totales trimestrales de rayos y los representaremos en gráficos de barras."
   ]
  },
  {
   "cell_type": "code",
   "execution_count": 1,
   "metadata": {
    "id": "TiZxf5dvGcXB"
   },
   "outputs": [],
   "source": [
    "import matplotlib.pyplot as plt\n",
    "import pandas as pd\n",
    "import seaborn as sns"
   ]
  },
  {
   "cell_type": "code",
   "execution_count": 2,
   "metadata": {
    "id": "Bsgc4dX4BWOA"
   },
   "outputs": [
    {
     "data": {
      "text/html": [
       "<div>\n",
       "<style scoped>\n",
       "    .dataframe tbody tr th:only-of-type {\n",
       "        vertical-align: middle;\n",
       "    }\n",
       "\n",
       "    .dataframe tbody tr th {\n",
       "        vertical-align: top;\n",
       "    }\n",
       "\n",
       "    .dataframe thead th {\n",
       "        text-align: right;\n",
       "    }\n",
       "</style>\n",
       "<table border=\"1\" class=\"dataframe\">\n",
       "  <thead>\n",
       "    <tr style=\"text-align: right;\">\n",
       "      <th></th>\n",
       "      <th>date</th>\n",
       "      <th>number_of_strikes</th>\n",
       "      <th>center_point_geom</th>\n",
       "    </tr>\n",
       "  </thead>\n",
       "  <tbody>\n",
       "    <tr>\n",
       "      <th>0</th>\n",
       "      <td>2016-08-05</td>\n",
       "      <td>16</td>\n",
       "      <td>POINT(-101.5 24.7)</td>\n",
       "    </tr>\n",
       "    <tr>\n",
       "      <th>1</th>\n",
       "      <td>2016-08-05</td>\n",
       "      <td>16</td>\n",
       "      <td>POINT(-85 34.3)</td>\n",
       "    </tr>\n",
       "    <tr>\n",
       "      <th>2</th>\n",
       "      <td>2016-08-05</td>\n",
       "      <td>16</td>\n",
       "      <td>POINT(-89 41.4)</td>\n",
       "    </tr>\n",
       "    <tr>\n",
       "      <th>3</th>\n",
       "      <td>2016-08-05</td>\n",
       "      <td>16</td>\n",
       "      <td>POINT(-89.8 30.7)</td>\n",
       "    </tr>\n",
       "    <tr>\n",
       "      <th>4</th>\n",
       "      <td>2016-08-05</td>\n",
       "      <td>16</td>\n",
       "      <td>POINT(-86.2 37.9)</td>\n",
       "    </tr>\n",
       "  </tbody>\n",
       "</table>\n",
       "</div>"
      ],
      "text/plain": [
       "         date  number_of_strikes   center_point_geom\n",
       "0  2016-08-05                 16  POINT(-101.5 24.7)\n",
       "1  2016-08-05                 16     POINT(-85 34.3)\n",
       "2  2016-08-05                 16     POINT(-89 41.4)\n",
       "3  2016-08-05                 16   POINT(-89.8 30.7)\n",
       "4  2016-08-05                 16   POINT(-86.2 37.9)"
      ]
     },
     "execution_count": 2,
     "metadata": {},
     "output_type": "execute_result"
    }
   ],
   "source": [
    "df = pd.read_csv('eda_manipulate_date_strings_with_python.csv')\n",
    "df.head()"
   ]
  },
  {
   "cell_type": "code",
   "execution_count": 3,
   "metadata": {},
   "outputs": [
    {
     "name": "stdout",
     "output_type": "stream",
     "text": [
      "<class 'pandas.core.frame.DataFrame'>\n",
      "RangeIndex: 10479003 entries, 0 to 10479002\n",
      "Data columns (total 3 columns):\n",
      " #   Column             Dtype \n",
      "---  ------             ----- \n",
      " 0   date               object\n",
      " 1   number_of_strikes  int64 \n",
      " 2   center_point_geom  object\n",
      "dtypes: int64(1), object(2)\n",
      "memory usage: 239.8+ MB\n"
     ]
    }
   ],
   "source": [
    "df.info()"
   ]
  },
  {
   "cell_type": "markdown",
   "metadata": {
    "id": "iiVSolnEm6A5"
   },
   "source": [
    "## Creae una nueva columna fecha"
   ]
  },
  {
   "cell_type": "markdown",
   "metadata": {
    "id": "hKWRq_huIvEE"
   },
   "source": [
    "Al igual que con conjuntos de datos similares con los que has trabajado, el tipo de datos de la columna  `date`  es un objeto de cadena, lo cual limita lo que puedes hacer con los datos en esta columna. Convertir la columna a datetime te permitirá trabajar con estos datos de manera mucho más fácil.  "
   ]
  },
  {
   "cell_type": "code",
   "execution_count": 4,
   "metadata": {
    "id": "3Mkui6ErGNdw"
   },
   "outputs": [],
   "source": [
    "# Convert the `date` column to datetime.\n",
    "df['fecha'] = pd.to_datetime(df['date'])"
   ]
  },
  {
   "cell_type": "markdown",
   "metadata": {},
   "source": [
    "A continuación, crearemos cuatro nuevas columnas:  `week` ,  `month` ,  `quarter`  y  `year` . Podemos hacer esto utilizando el método  `datetime.strftime()`  del objeto datetime.  `strftime`  es una abreviatura de \"string format time\". Utilizaremos este método en los datos datetime de la columna  `week`  y extraerá la información que especifiquemos, formateada como una cadena.\n",
    "\n",
    "Para especificar la información a extraer, utilizaremos códigos de formato strftime. Puedes encontrar una lista completa de los códigos disponibles para usar en la [documentación de códigos de formato strftime](https://docs.python.org/3/library/datetime.html#strftime-and-strptime-behavior). En este caso, utilizaremos  `%Y`  para el año,  `%V`  para el número de semana,  `%q`  para el trimestre.\n",
    "\n",
    "**NOTA:** El siguiente proceso podría tardar uno o dos minutos en completarse."
   ]
  },
  {
   "cell_type": "code",
   "execution_count": 5,
   "metadata": {
    "id": "zdJrDykiBlt2"
   },
   "outputs": [],
   "source": [
    "# Create four new columns.\n",
    "df['semana']        = df.fecha.dt.strftime('%Y-W%V')\n",
    "df['mes']           = df.fecha.dt.strftime('%Y-%m')\n",
    "df['cuatrimestre']  = df.fecha.dt.to_period('Q').dt.strftime('%Y-Q%q')\n",
    "df['año']           = df.fecha.dt.strftime('%Y')\n"
   ]
  },
  {
   "cell_type": "code",
   "execution_count": 6,
   "metadata": {
    "colab": {
     "base_uri": "https://localhost:8080/",
     "height": 363
    },
    "id": "33mC6vcg-_5W",
    "outputId": "2060fc81-9764-4bd6-9407-51960329e657"
   },
   "outputs": [
    {
     "data": {
      "text/html": [
       "<div>\n",
       "<style scoped>\n",
       "    .dataframe tbody tr th:only-of-type {\n",
       "        vertical-align: middle;\n",
       "    }\n",
       "\n",
       "    .dataframe tbody tr th {\n",
       "        vertical-align: top;\n",
       "    }\n",
       "\n",
       "    .dataframe thead th {\n",
       "        text-align: right;\n",
       "    }\n",
       "</style>\n",
       "<table border=\"1\" class=\"dataframe\">\n",
       "  <thead>\n",
       "    <tr style=\"text-align: right;\">\n",
       "      <th></th>\n",
       "      <th>date</th>\n",
       "      <th>number_of_strikes</th>\n",
       "      <th>center_point_geom</th>\n",
       "      <th>fecha</th>\n",
       "      <th>semana</th>\n",
       "      <th>mes</th>\n",
       "      <th>cuatrimestre</th>\n",
       "      <th>año</th>\n",
       "    </tr>\n",
       "  </thead>\n",
       "  <tbody>\n",
       "    <tr>\n",
       "      <th>0</th>\n",
       "      <td>2016-08-05</td>\n",
       "      <td>16</td>\n",
       "      <td>POINT(-101.5 24.7)</td>\n",
       "      <td>2016-08-05</td>\n",
       "      <td>2016-W31</td>\n",
       "      <td>2016-08</td>\n",
       "      <td>2016-Q3</td>\n",
       "      <td>2016</td>\n",
       "    </tr>\n",
       "    <tr>\n",
       "      <th>1</th>\n",
       "      <td>2016-08-05</td>\n",
       "      <td>16</td>\n",
       "      <td>POINT(-85 34.3)</td>\n",
       "      <td>2016-08-05</td>\n",
       "      <td>2016-W31</td>\n",
       "      <td>2016-08</td>\n",
       "      <td>2016-Q3</td>\n",
       "      <td>2016</td>\n",
       "    </tr>\n",
       "    <tr>\n",
       "      <th>2</th>\n",
       "      <td>2016-08-05</td>\n",
       "      <td>16</td>\n",
       "      <td>POINT(-89 41.4)</td>\n",
       "      <td>2016-08-05</td>\n",
       "      <td>2016-W31</td>\n",
       "      <td>2016-08</td>\n",
       "      <td>2016-Q3</td>\n",
       "      <td>2016</td>\n",
       "    </tr>\n",
       "    <tr>\n",
       "      <th>3</th>\n",
       "      <td>2016-08-05</td>\n",
       "      <td>16</td>\n",
       "      <td>POINT(-89.8 30.7)</td>\n",
       "      <td>2016-08-05</td>\n",
       "      <td>2016-W31</td>\n",
       "      <td>2016-08</td>\n",
       "      <td>2016-Q3</td>\n",
       "      <td>2016</td>\n",
       "    </tr>\n",
       "    <tr>\n",
       "      <th>4</th>\n",
       "      <td>2016-08-05</td>\n",
       "      <td>16</td>\n",
       "      <td>POINT(-86.2 37.9)</td>\n",
       "      <td>2016-08-05</td>\n",
       "      <td>2016-W31</td>\n",
       "      <td>2016-08</td>\n",
       "      <td>2016-Q3</td>\n",
       "      <td>2016</td>\n",
       "    </tr>\n",
       "    <tr>\n",
       "      <th>5</th>\n",
       "      <td>2016-08-05</td>\n",
       "      <td>16</td>\n",
       "      <td>POINT(-97.8 38.9)</td>\n",
       "      <td>2016-08-05</td>\n",
       "      <td>2016-W31</td>\n",
       "      <td>2016-08</td>\n",
       "      <td>2016-Q3</td>\n",
       "      <td>2016</td>\n",
       "    </tr>\n",
       "    <tr>\n",
       "      <th>6</th>\n",
       "      <td>2016-08-05</td>\n",
       "      <td>16</td>\n",
       "      <td>POINT(-81.9 36)</td>\n",
       "      <td>2016-08-05</td>\n",
       "      <td>2016-W31</td>\n",
       "      <td>2016-08</td>\n",
       "      <td>2016-Q3</td>\n",
       "      <td>2016</td>\n",
       "    </tr>\n",
       "    <tr>\n",
       "      <th>7</th>\n",
       "      <td>2016-08-05</td>\n",
       "      <td>16</td>\n",
       "      <td>POINT(-90.9 36.7)</td>\n",
       "      <td>2016-08-05</td>\n",
       "      <td>2016-W31</td>\n",
       "      <td>2016-08</td>\n",
       "      <td>2016-Q3</td>\n",
       "      <td>2016</td>\n",
       "    </tr>\n",
       "    <tr>\n",
       "      <th>8</th>\n",
       "      <td>2016-08-05</td>\n",
       "      <td>16</td>\n",
       "      <td>POINT(-106.6 26.1)</td>\n",
       "      <td>2016-08-05</td>\n",
       "      <td>2016-W31</td>\n",
       "      <td>2016-08</td>\n",
       "      <td>2016-Q3</td>\n",
       "      <td>2016</td>\n",
       "    </tr>\n",
       "    <tr>\n",
       "      <th>9</th>\n",
       "      <td>2016-08-05</td>\n",
       "      <td>16</td>\n",
       "      <td>POINT(-108 31.6)</td>\n",
       "      <td>2016-08-05</td>\n",
       "      <td>2016-W31</td>\n",
       "      <td>2016-08</td>\n",
       "      <td>2016-Q3</td>\n",
       "      <td>2016</td>\n",
       "    </tr>\n",
       "  </tbody>\n",
       "</table>\n",
       "</div>"
      ],
      "text/plain": [
       "         date  number_of_strikes   center_point_geom      fecha    semana  \\\n",
       "0  2016-08-05                 16  POINT(-101.5 24.7) 2016-08-05  2016-W31   \n",
       "1  2016-08-05                 16     POINT(-85 34.3) 2016-08-05  2016-W31   \n",
       "2  2016-08-05                 16     POINT(-89 41.4) 2016-08-05  2016-W31   \n",
       "3  2016-08-05                 16   POINT(-89.8 30.7) 2016-08-05  2016-W31   \n",
       "4  2016-08-05                 16   POINT(-86.2 37.9) 2016-08-05  2016-W31   \n",
       "5  2016-08-05                 16   POINT(-97.8 38.9) 2016-08-05  2016-W31   \n",
       "6  2016-08-05                 16     POINT(-81.9 36) 2016-08-05  2016-W31   \n",
       "7  2016-08-05                 16   POINT(-90.9 36.7) 2016-08-05  2016-W31   \n",
       "8  2016-08-05                 16  POINT(-106.6 26.1) 2016-08-05  2016-W31   \n",
       "9  2016-08-05                 16    POINT(-108 31.6) 2016-08-05  2016-W31   \n",
       "\n",
       "       mes cuatrimestre   año  \n",
       "0  2016-08      2016-Q3  2016  \n",
       "1  2016-08      2016-Q3  2016  \n",
       "2  2016-08      2016-Q3  2016  \n",
       "3  2016-08      2016-Q3  2016  \n",
       "4  2016-08      2016-Q3  2016  \n",
       "5  2016-08      2016-Q3  2016  \n",
       "6  2016-08      2016-Q3  2016  \n",
       "7  2016-08      2016-Q3  2016  \n",
       "8  2016-08      2016-Q3  2016  \n",
       "9  2016-08      2016-Q3  2016  "
      ]
     },
     "execution_count": 6,
     "metadata": {},
     "output_type": "execute_result"
    }
   ],
   "source": [
    "df.head(10)"
   ]
  },
  {
   "cell_type": "markdown",
   "metadata": {
    "id": "6I5Qur7bnIXd"
   },
   "source": [
    "## Gráfica el número de rayos semanales en 2018."
   ]
  },
  {
   "cell_type": "markdown",
   "metadata": {
    "id": "slxEJjRRIxi5"
   },
   "source": [
    "A continuación, vamos a trazar el número de rayos semanales. Comencemos filtrando el conjunto de datos original para el año 2018. Utilizaremos las funciones  `groupby()`  y  `sum()`  para obtener el número de rayos por semana."
   ]
  },
  {
   "cell_type": "code",
   "execution_count": 9,
   "metadata": {
    "colab": {
     "base_uri": "https://localhost:8080/",
     "height": 339
    },
    "id": "XgmO4n-dNOr6",
    "outputId": "0df2cfad-fa1c-475b-99a8-86e135578853"
   },
   "outputs": [
    {
     "data": {
      "text/html": [
       "<div>\n",
       "<style scoped>\n",
       "    .dataframe tbody tr th:only-of-type {\n",
       "        vertical-align: middle;\n",
       "    }\n",
       "\n",
       "    .dataframe tbody tr th {\n",
       "        vertical-align: top;\n",
       "    }\n",
       "\n",
       "    .dataframe thead th {\n",
       "        text-align: right;\n",
       "    }\n",
       "</style>\n",
       "<table border=\"1\" class=\"dataframe\">\n",
       "  <thead>\n",
       "    <tr style=\"text-align: right;\">\n",
       "      <th></th>\n",
       "      <th>semana</th>\n",
       "      <th>number_of_strikes</th>\n",
       "    </tr>\n",
       "  </thead>\n",
       "  <tbody>\n",
       "    <tr>\n",
       "      <th>0</th>\n",
       "      <td>2018-W01</td>\n",
       "      <td>34843</td>\n",
       "    </tr>\n",
       "    <tr>\n",
       "      <th>1</th>\n",
       "      <td>2018-W02</td>\n",
       "      <td>353425</td>\n",
       "    </tr>\n",
       "    <tr>\n",
       "      <th>2</th>\n",
       "      <td>2018-W03</td>\n",
       "      <td>37132</td>\n",
       "    </tr>\n",
       "    <tr>\n",
       "      <th>3</th>\n",
       "      <td>2018-W04</td>\n",
       "      <td>412772</td>\n",
       "    </tr>\n",
       "    <tr>\n",
       "      <th>4</th>\n",
       "      <td>2018-W05</td>\n",
       "      <td>34972</td>\n",
       "    </tr>\n",
       "  </tbody>\n",
       "</table>\n",
       "</div>"
      ],
      "text/plain": [
       "     semana  number_of_strikes\n",
       "0  2018-W01              34843\n",
       "1  2018-W02             353425\n",
       "2  2018-W03              37132\n",
       "3  2018-W04             412772\n",
       "4  2018-W05              34972"
      ]
     },
     "execution_count": 9,
     "metadata": {},
     "output_type": "execute_result"
    }
   ],
   "source": [
    "# Create a new dataframe view of just 2018 data, summed by week.\n",
    "df_por_semana_2018 = df[df['año'] == '2018'].groupby(['semana']).sum(numeric_only=True).reset_index()\n",
    "df_por_semana_2018.head()"
   ]
  },
  {
   "cell_type": "markdown",
   "metadata": {
    "id": "_Dxh2L5AFJF4"
   },
   "source": [
    "Ahora tenemos una tabla con exactamente lo que necesitamos para graficar el total de rayos semanales en 2018. Utilizaremos la función  `plt.bar()`  para trazar el gráfico de barras. Dentro del campo de argumentos, ingresaremos el eje x (la columna  `week` ), luego ingresaremos el eje y (o altura) como la columna  `number_of_strikes` .\n",
    "\n",
    "Utilizaremos  `plt.xlabel()` ,  `plt.ylabel()`  y  `plt.title()`  para agregar texto apropiado al gráfico."
   ]
  },
  {
   "cell_type": "code",
   "execution_count": 10,
   "metadata": {
    "id": "6JJAlQorFJF5"
   },
   "outputs": [
    {
     "data": {
      "image/png": "[encoded data removed]",
      "text/plain": [
       "<Figure size 640x480 with 1 Axes>"
      ]
     },
     "metadata": {},
     "output_type": "display_data"
    }
   ],
   "source": [
    "# Plot a bar graph of weekly strike totals in 2018.\n",
    "plt.bar(x = df_por_semana_2018['semana'], height = df_por_semana_2018['number_of_strikes'])\n",
    "plt.plot()\n",
    "plt.xlabel(\"Semana Numero\")\n",
    "plt.ylabel(\"Numero de rayos\")\n",
    "plt.title(\"Numero de rayos por semana (2018)\");"
   ]
  },
  {
   "cell_type": "markdown",
   "metadata": {},
   "source": [
    "### Adjustar el tamaño deñ grafico"
   ]
  },
  {
   "cell_type": "markdown",
   "metadata": {
    "id": "fusGHYwHFJF5"
   },
   "source": [
    "Ahora tenemos un gráfico, pero no podemos leer las etiquetas del eje x. Para solucionar este problema, primero lo haremos más grande utilizando  `plt.figure(figsize=(20, 5))` . Esto cambiará el tamaño a 20 pulgadas de ancho por 5 pulgadas de alto.\n",
    "\n",
    "A continuación, utilizaremos la función  `plt.xticks()`  para acceder a las etiquetas de las marcas en el eje x. Utilizando los argumentos de palabras clave  `rotation`  y  `fontsize` , rota las etiquetas y reduce el tamaño de la fuente."
   ]
  },
  {
   "cell_type": "code",
   "execution_count": 11,
   "metadata": {
    "id": "aX3V8u2WFJF6"
   },
   "outputs": [
    {
     "data": {
      "image/png": "[encoded data removed]",
      "text/plain": [
       "<Figure size 2000x500 with 1 Axes>"
      ]
     },
     "metadata": {},
     "output_type": "display_data"
    }
   ],
   "source": [
    "plt.figure(figsize = (20, 5)) # Increase output size.\n",
    "plt.bar(x = df_por_semana_2018['semana'], height = df_por_semana_2018['number_of_strikes'])\n",
    "plt.plot()\n",
    "plt.xlabel(\"Semana Numero\")\n",
    "plt.ylabel(\"Numero de rayos\")\n",
    "plt.title(\"Numero de rayos por semana (2018)\");\n",
    "plt.xticks(rotation = 45, fontsize = 8) # Rotate x-axis labels and decrease font size.\n",
    "\n",
    "plt.show()"
   ]
  },
  {
   "cell_type": "markdown",
   "metadata": {},
   "source": [
    "## Gráfica el número de rayos trimestrales de 2016 a 2018."
   ]
  },
  {
   "cell_type": "markdown",
   "metadata": {
    "id": "w4DYsd7HFJF6"
   },
   "source": [
    "A continuación, vamos a graficar los rayos por trimestre para el rango completo de fechas de los datos disponibles. Para una visualización, será más fácil trabajar con números en millones, como por ejemplo 25,2 millones. Como ejemplo, el siguiente código dividirá la columna  `number_of_strikes`  entre un millón."
   ]
  },
  {
   "cell_type": "code",
   "execution_count": 12,
   "metadata": {
    "colab": {
     "base_uri": "https://localhost:8080/"
    },
    "id": "TczH3W_DsVF9",
    "outputId": "e0e4e8e5-d419-42e1-a31b-c5bb0f5a3966"
   },
   "outputs": [
    {
     "data": {
      "text/plain": [
       "0    0.000016\n",
       "1    0.000016\n",
       "2    0.000016\n",
       "3    0.000016\n",
       "4    0.000016\n",
       "Name: number_of_strikes, dtype: float64"
      ]
     },
     "execution_count": 12,
     "metadata": {},
     "output_type": "execute_result"
    }
   ],
   "source": [
    "df_by_quarter = df['number_of_strikes'].div(1000000)\n",
    "df_by_quarter.head()"
   ]
  },
  {
   "cell_type": "markdown",
   "metadata": {},
   "source": [
    "### Formatear los números\n",
    "\n",
    "Esto por sí solo no ayuda mucho, ya que solo movió el decimal hacia la izquierda. También tendremos que formatear los números. Comencemos agrupando los datos por trimestre y sumándolos.\n",
    "\n",
    "Luego, crearemos una columna  `number_of_strikes_formatted`  en el dataframe resultante dividiendo entre un millón, redondeando a un dígito después del punto decimal, convirtiéndolo en una cadena de texto y agregando \"M\" al final para representar millones."
   ]
  },
  {
   "cell_type": "code",
   "execution_count": 21,
   "metadata": {
    "id": "v8yYcby_FJF9"
   },
   "outputs": [
    {
     "data": {
      "text/html": [
       "<div>\n",
       "<style scoped>\n",
       "    .dataframe tbody tr th:only-of-type {\n",
       "        vertical-align: middle;\n",
       "    }\n",
       "\n",
       "    .dataframe tbody tr th {\n",
       "        vertical-align: top;\n",
       "    }\n",
       "\n",
       "    .dataframe thead th {\n",
       "        text-align: right;\n",
       "    }\n",
       "</style>\n",
       "<table border=\"1\" class=\"dataframe\">\n",
       "  <thead>\n",
       "    <tr style=\"text-align: right;\">\n",
       "      <th></th>\n",
       "      <th>cuatrimestre</th>\n",
       "      <th>number_of_strikes</th>\n",
       "      <th>number_of_strikes_formatted</th>\n",
       "    </tr>\n",
       "  </thead>\n",
       "  <tbody>\n",
       "    <tr>\n",
       "      <th>0</th>\n",
       "      <td>2016-Q1</td>\n",
       "      <td>2683798</td>\n",
       "      <td>2.7M</td>\n",
       "    </tr>\n",
       "    <tr>\n",
       "      <th>1</th>\n",
       "      <td>2016-Q2</td>\n",
       "      <td>15084857</td>\n",
       "      <td>15.1M</td>\n",
       "    </tr>\n",
       "    <tr>\n",
       "      <th>2</th>\n",
       "      <td>2016-Q3</td>\n",
       "      <td>21843820</td>\n",
       "      <td>21.8M</td>\n",
       "    </tr>\n",
       "    <tr>\n",
       "      <th>3</th>\n",
       "      <td>2016-Q4</td>\n",
       "      <td>1969754</td>\n",
       "      <td>2.0M</td>\n",
       "    </tr>\n",
       "    <tr>\n",
       "      <th>4</th>\n",
       "      <td>2017-Q1</td>\n",
       "      <td>2444279</td>\n",
       "      <td>2.4M</td>\n",
       "    </tr>\n",
       "  </tbody>\n",
       "</table>\n",
       "</div>"
      ],
      "text/plain": [
       "  cuatrimestre  number_of_strikes number_of_strikes_formatted\n",
       "0      2016-Q1            2683798                        2.7M\n",
       "1      2016-Q2           15084857                       15.1M\n",
       "2      2016-Q3           21843820                       21.8M\n",
       "3      2016-Q4            1969754                        2.0M\n",
       "4      2017-Q1            2444279                        2.4M"
      ]
     },
     "execution_count": 21,
     "metadata": {},
     "output_type": "execute_result"
    }
   ],
   "source": [
    "df_por_cuatimestre = df.groupby(['cuatrimestre']).sum(numeric_only=True).reset_index()\n",
    "\n",
    "\n",
    "df_por_cuatimestre['number_of_strikes_formatted'] = df_por_cuastimestre['number_of_strikes']\\\n",
    "                                                    .div(1000000).round(1).astype(str) + 'M'\n",
    "\n",
    "df_por_cuatimestre.head()"
   ]
  },
  {
   "cell_type": "markdown",
   "metadata": {},
   "source": [
    "### Agregar Etiquetas"
   ]
  },
  {
   "cell_type": "markdown",
   "metadata": {
    "id": "B1rrBgeAFJF8"
   },
   "source": [
    "Antes de comenzar a trazar, escribamos una función que nos ayudará a etiquetar cada barra en el gráfico con su correspondiente texto de  `number_of_strikes_formatted` . La función utiliza  `plt.text()` , que es una función de pyplot cuyos argumentos posicionales son  `x` ,  `y`  y  `s` .  `x`  representa las coordenadas del eje x,  `y`  representa las coordenadas del eje y y  `s`  representa el texto que queremos que aparezca en estas coordenadas.\n",
    "\n",
    "**Referencia:** [documentación de pyplot](https://matplotlib.org/stable/api/_as_gen/matplotlib.pyplot.text.html)."
   ]
  },
  {
   "cell_type": "code",
   "execution_count": 22,
   "metadata": {
    "id": "zm3CnH9sFJF8"
   },
   "outputs": [],
   "source": [
    "def agrega_etiquetas(x, y, labels):\n",
    "    '''\n",
    "    Itera sobre los datos y coloca etiquetas de texto encima de cada barra del gráfico de barras.\n",
    "    '''\n",
    "    for i in range(len(x)):\n",
    "        plt.text(i, y[i], labels[i], ha='center', va='bottom')\n"
   ]
  },
  {
   "cell_type": "markdown",
   "metadata": {},
   "source": [
    "### Plot the bar graph"
   ]
  },
  {
   "cell_type": "markdown",
   "metadata": {
    "id": "Kzr3D8O7FJF-"
   },
   "source": [
    "Next, let's plot the bar graph. "
   ]
  },
  {
   "cell_type": "code",
   "execution_count": 23,
   "metadata": {
    "colab": {
     "base_uri": "https://localhost:8080/",
     "height": 350
    },
    "id": "PEnfe0iCFJF-",
    "outputId": "9d96ed7c-fe51-40a1-f0e5-4971d4188458"
   },
   "outputs": [
    {
     "data": {
      "image/png": "[encoded data removed]",
      "text/plain": [
       "<Figure size 1500x500 with 1 Axes>"
      ]
     },
     "metadata": {},
     "output_type": "display_data"
    }
   ],
   "source": [
    "plt.figure(figsize = (15, 5))\n",
    "plt.bar(x = df_por_cuastimestre.cuatrimestre, height = df_por_cuastimestre['number_of_strikes'])\n",
    "agrega_etiquetas(df_por_cuastimestre['cuatrimestre'], \n",
    "                 df_por_cuastimestre['number_of_strikes'], \n",
    "                 df_por_cuastimestre['number_of_strikes_formatted'])\n",
    "plt.plot()\n",
    "plt.xlabel('Cuatrimestre')\n",
    "plt.ylabel('Numero de Rayos')\n",
    "plt.title('Numero de Rayos por cuastrimestre (2016-2018)')\n",
    "plt.show()"
   ]
  },
  {
   "cell_type": "markdown",
   "metadata": {},
   "source": [
    "### Crear un grafico de barras agrupadas"
   ]
  },
  {
   "cell_type": "markdown",
   "metadata": {
    "id": "-oPhwEBUUJVm",
    "outputId": "deeef78d-718f-47cb-a45b-74d1de19f43f"
   },
   "source": [
    "Ahora, crearemos un gráfico de barras agrupadas para comparar mejor los cambios interanuales en cada trimestre. Podemos hacer esto creando dos nuevas columnas que desglosen el trimestre y el año a partir de la columna  `quarter` . Utilizaremos la columna  `quarter`  y tomaremos los últimos dos caracteres para obtener  `quarter_number` , y tomaremos los primeros cuatro caracteres para obtener  `year` ."
   ]
  },
  {
   "cell_type": "code",
   "execution_count": 25,
   "metadata": {
    "id": "M_jVUZIbFJF_"
   },
   "outputs": [
    {
     "data": {
      "text/html": [
       "<div>\n",
       "<style scoped>\n",
       "    .dataframe tbody tr th:only-of-type {\n",
       "        vertical-align: middle;\n",
       "    }\n",
       "\n",
       "    .dataframe tbody tr th {\n",
       "        vertical-align: top;\n",
       "    }\n",
       "\n",
       "    .dataframe thead th {\n",
       "        text-align: right;\n",
       "    }\n",
       "</style>\n",
       "<table border=\"1\" class=\"dataframe\">\n",
       "  <thead>\n",
       "    <tr style=\"text-align: right;\">\n",
       "      <th></th>\n",
       "      <th>cuatrimestre</th>\n",
       "      <th>number_of_strikes</th>\n",
       "      <th>number_of_strikes_formatted</th>\n",
       "      <th>numero_cuatrimestre</th>\n",
       "      <th>year</th>\n",
       "      <th>año</th>\n",
       "    </tr>\n",
       "  </thead>\n",
       "  <tbody>\n",
       "    <tr>\n",
       "      <th>0</th>\n",
       "      <td>2016-Q1</td>\n",
       "      <td>2683798</td>\n",
       "      <td>2.7M</td>\n",
       "      <td>Q1</td>\n",
       "      <td>2016</td>\n",
       "      <td>2016</td>\n",
       "    </tr>\n",
       "    <tr>\n",
       "      <th>1</th>\n",
       "      <td>2016-Q2</td>\n",
       "      <td>15084857</td>\n",
       "      <td>15.1M</td>\n",
       "      <td>Q2</td>\n",
       "      <td>2016</td>\n",
       "      <td>2016</td>\n",
       "    </tr>\n",
       "    <tr>\n",
       "      <th>2</th>\n",
       "      <td>2016-Q3</td>\n",
       "      <td>21843820</td>\n",
       "      <td>21.8M</td>\n",
       "      <td>Q3</td>\n",
       "      <td>2016</td>\n",
       "      <td>2016</td>\n",
       "    </tr>\n",
       "    <tr>\n",
       "      <th>3</th>\n",
       "      <td>2016-Q4</td>\n",
       "      <td>1969754</td>\n",
       "      <td>2.0M</td>\n",
       "      <td>Q4</td>\n",
       "      <td>2016</td>\n",
       "      <td>2016</td>\n",
       "    </tr>\n",
       "    <tr>\n",
       "      <th>4</th>\n",
       "      <td>2017-Q1</td>\n",
       "      <td>2444279</td>\n",
       "      <td>2.4M</td>\n",
       "      <td>Q1</td>\n",
       "      <td>2017</td>\n",
       "      <td>2017</td>\n",
       "    </tr>\n",
       "  </tbody>\n",
       "</table>\n",
       "</div>"
      ],
      "text/plain": [
       "  cuatrimestre  number_of_strikes number_of_strikes_formatted  \\\n",
       "0      2016-Q1            2683798                        2.7M   \n",
       "1      2016-Q2           15084857                       15.1M   \n",
       "2      2016-Q3           21843820                       21.8M   \n",
       "3      2016-Q4            1969754                        2.0M   \n",
       "4      2017-Q1            2444279                        2.4M   \n",
       "\n",
       "  numero_cuatrimestre  year   año  \n",
       "0                  Q1  2016  2016  \n",
       "1                  Q2  2016  2016  \n",
       "2                  Q3  2016  2016  \n",
       "3                  Q4  2016  2016  \n",
       "4                  Q1  2017  2017  "
      ]
     },
     "execution_count": 25,
     "metadata": {},
     "output_type": "execute_result"
    }
   ],
   "source": [
    "# Create two new columns.\n",
    "df_por_cuatimestre['numero_cuatrimestre'] = df_por_cuatimestre.cuatrimestre.str[-2:]\n",
    "df_por_cuatimestre['año'] = df_por_cuatimestre['cuatrimestre'].str[:4]\n",
    "df_por_cuatimestre.head()"
   ]
  },
  {
   "cell_type": "code",
   "execution_count": null,
   "metadata": {},
   "outputs": [],
   "source": []
  },
  {
   "cell_type": "code",
   "execution_count": null,
   "metadata": {},
   "outputs": [],
   "source": []
  },
  {
   "cell_type": "code",
   "execution_count": 26,
   "metadata": {
    "colab": {
     "base_uri": "https://localhost:8080/",
     "height": 350
    },
    "id": "EVL75ZRpFJF_",
    "outputId": "deeef78d-718f-47cb-a45b-74d1de19f43f",
    "scrolled": true
   },
   "outputs": [
    {
     "data": {
      "image/png": "[encoded data removed]",
      "text/plain": [
       "<Figure size 1500x500 with 1 Axes>"
      ]
     },
     "metadata": {},
     "output_type": "display_data"
    }
   ],
   "source": [
    "plt.figure(figsize = (15, 5))\n",
    "p = sns.barplot(\n",
    "    data = df_por_cuatimestre,\n",
    "    x = 'numero_cuatrimestre',\n",
    "    y = 'number_of_strikes',\n",
    "    hue = \"año\")\n",
    "for b in p.patches:\n",
    "    p.annotate(str(round(b.get_height()/1000000, 1))+'M', \n",
    "                   (b.get_x() + b.get_width() / 2., b.get_height() + 1.2e6), \n",
    "                   ha = 'center', va = 'bottom', \n",
    "                   xytext = (0, -12), \n",
    "                   textcoords = 'offset points')\n",
    "plt.xlabel(\"Quarter\")\n",
    "plt.ylabel(\"Number of lightning strikes\")\n",
    "plt.title(\"Number of lightning strikes per quarter (2016-2018)\")\n",
    "plt.show()"
   ]
  }
 ],
 "metadata": {
  "colab": {
   "collapsed_sections": [],
   "provenance": [
    {
     "file_id": "19IGrrvzEh7nvoXs9nBFIrNwEvWd_KyUa",
     "timestamp": 1662732384657
    }
   ]
  },
  "kernelspec": {
   "display_name": "Py_Global",
   "language": "python",
   "name": "py_global"
  },
  "language_info": {
   "codemirror_mode": {
    "name": "ipython",
    "version": 3
   },
   "file_extension": ".py",
   "mimetype": "text/x-python",
   "name": "python",
   "nbconvert_exporter": "python",
   "pygments_lexer": "ipython3",
   "version": "3.8.10"
  }
 },
 "nbformat": 4,
 "nbformat_minor": 1
}
