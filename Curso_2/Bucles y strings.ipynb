{
 "cells": [
  {
   "cell_type": "markdown",
   "metadata": {},
   "source": [
    "# Bucles "
   ]
  },
  {
   "cell_type": "markdown",
   "metadata": {
    "id": "0bJcw_KyfZmH"
   },
   "source": [
    "## 1. Introduccion al bucle while."
   ]
  },
  {
   "cell_type": "code",
   "execution_count": 2,
   "metadata": {
    "colab": {
     "base_uri": "https://localhost:8080/"
    },
    "executionInfo": {
     "elapsed": 11,
     "status": "ok",
     "timestamp": 1676069128052,
     "user": {
      "displayName": "Matteo Riotto",
      "userId": "15211004813978485634"
     },
     "user_tz": 480
    },
    "id": "u66DKwYmfRbt",
    "outputId": "601c2e5c-bf08-4f45-e4dd-b39cf7e38521"
   },
   "outputs": [
    {
     "name": "stdout",
     "output_type": "stream",
     "text": [
      "Aún no está allí, x= 0\n",
      "x= 1\n",
      "Aún no está allí, x= 1\n",
      "x= 2\n",
      "Aún no está allí, x= 2\n",
      "x= 3\n",
      "Aún no está allí, x= 3\n",
      "x= 4\n",
      "Aún no está allí, x= 4\n",
      "x= 5\n"
     ]
    }
   ],
   "source": [
    "# Instancia un contador.\n",
    "\n",
    "x = 0\n",
    "\n",
    "# Crea un bucle while que imprime \"aún no está allí\", incrementa x en 1,\n",
    "# e imprime x hasta que x alcance 5.\n",
    "while x < 5:\n",
    "    print('Aún no está allí, x= ' + str(x))\n",
    "    x = x + 1\n",
    "    print('x= ' + str(x))"
   ]
  },
  {
   "cell_type": "code",
   "execution_count": 8,
   "metadata": {
    "colab": {
     "base_uri": "https://localhost:8080/"
    },
    "executionInfo": {
     "elapsed": 3462,
     "status": "ok",
     "timestamp": 1677518101416,
     "user": {
      "displayName": "Matteo Riotto",
      "userId": "15211004813978485634"
     },
     "user_tz": 480
    },
    "id": "pwYQO1GOftF1",
    "outputId": "a652242c-06c0-4c9f-c2e5-37528307c910"
   },
   "outputs": [
    {
     "name": "stdout",
     "output_type": "stream",
     "text": [
      "Adivina un número entre 1 y 100: \n",
      "¡Incorrecto! Intenta de nuevo. pista el numero es mayor al que elejiste\n",
      "Adivina un número entre 1 y 100: \n",
      "¡Incorrecto! Intenta de nuevo. pista el numero es menor al que elejiste\n",
      "Adivina un número entre 1 y 100: \n",
      "¡Incorrecto! Intenta de nuevo. pista el numero es mayor al que elejiste\n",
      "Adivina un número entre 1 y 100: \n",
      "¡Incorrecto! Intenta de nuevo. pista el numero es mayor al que elejiste\n",
      "Adivina un número entre 1 y 100: \n",
      "¡Incorrecto! Intenta de nuevo. pista el numero es mayor al que elejiste\n",
      "Adivina un número entre 1 y 100: \n",
      "¡Correcto! ¡Adivinaste el número en 6 intentos!\n"
     ]
    }
   ],
   "source": [
    "# Importa el módulo random para poder crear un número (pseudo) aleatorio.\n",
    "import random\n",
    "numero = random.randint(1,100)                     # Genera un número aleatorio\n",
    "numero_de_intentos = 0                            # Instancia el contador de intentos\n",
    "\n",
    "while numero_de_intentos < 7:\n",
    "    print('Adivina un número entre 1 y 100: ')     # Indica al usuario que adivine el número\n",
    "    intento = input()                             # Genera el campo de entrada del usuario\n",
    "    intento = int(intento)                        # Convierte el intento en un número entero\n",
    "    numero_de_intentos += 1                       # Incrementa el contador de intentos en 1\n",
    "    if intento == numero:                         # Rompe el bucle while si el intento es correcto\n",
    "        break\n",
    "    elif numero_de_intentos == 7:                 # Rompe el bucle while si se alcanza el límite de intentos\n",
    "        break\n",
    "    elif intento < numero:\n",
    "        print('¡Incorrecto! Intenta de nuevo. pista el numero es mayor al que elejiste')\n",
    "    else:                                         \n",
    "        print('¡Incorrecto! Intenta de nuevo. pista el numero es menor al que elejiste')\n",
    "\n",
    "# Mensaje para mostrar si es correcto\n",
    "if intento == numero:\n",
    "    print('¡Correcto! ¡Adivinaste el número en ' + str(numero_de_intentos) + ' intentos!')\n",
    "\n",
    "# Mensaje para mostrar después de 7 intentos fallidos\n",
    "else:\n",
    "    print('No adivinaste el número. El número era ' + str(numero) + '.')"
   ]
  },
  {
   "cell_type": "markdown",
   "metadata": {
    "id": "AKONxz-4s1mt"
   },
   "source": [
    "\n",
    "## Bucles For"
   ]
  },
  {
   "cell_type": "code",
   "execution_count": 3,
   "metadata": {
    "colab": {
     "base_uri": "https://localhost:8080/"
    },
    "executionInfo": {
     "elapsed": 5,
     "status": "ok",
     "timestamp": 1677505350654,
     "user": {
      "displayName": "Arwen Shackelford",
      "userId": "14614635049532489764"
     },
     "user_tz": 360
    },
    "id": "pl5cH63jeqdk",
    "outputId": "668e1795-b66e-4df2-c7b0-02e7c11487dd"
   },
   "outputs": [
    {
     "name": "stdout",
     "output_type": "stream",
     "text": [
      "0\n",
      "1\n",
      "2\n",
      "3\n",
      "4\n"
     ]
    }
   ],
   "source": [
    "# Example of for loop with range() function\n",
    "for x in range(5):\n",
    "    print(x)"
   ]
  },
  {
   "cell_type": "code",
   "execution_count": 9,
   "metadata": {},
   "outputs": [
    {
     "name": "stdout",
     "output_type": "stream",
     "text": [
      "Help on class range in module builtins:\n",
      "\n",
      "class range(object)\n",
      " |  range(stop) -> range object\n",
      " |  range(start, stop[, step]) -> range object\n",
      " |  \n",
      " |  Return an object that produces a sequence of integers from start (inclusive)\n",
      " |  to stop (exclusive) by step.  range(i, j) produces i, i+1, i+2, ..., j-1.\n",
      " |  start defaults to 0, and stop is omitted!  range(4) produces 0, 1, 2, 3.\n",
      " |  These are exactly the valid indices for a list of 4 elements.\n",
      " |  When step is given, it specifies the increment (or decrement).\n",
      " |  \n",
      " |  Methods defined here:\n",
      " |  \n",
      " |  __bool__(self, /)\n",
      " |      self != 0\n",
      " |  \n",
      " |  __contains__(self, key, /)\n",
      " |      Return key in self.\n",
      " |  \n",
      " |  __eq__(self, value, /)\n",
      " |      Return self==value.\n",
      " |  \n",
      " |  __ge__(self, value, /)\n",
      " |      Return self>=value.\n",
      " |  \n",
      " |  __getattribute__(self, name, /)\n",
      " |      Return getattr(self, name).\n",
      " |  \n",
      " |  __getitem__(self, key, /)\n",
      " |      Return self[key].\n",
      " |  \n",
      " |  __gt__(self, value, /)\n",
      " |      Return self>value.\n",
      " |  \n",
      " |  __hash__(self, /)\n",
      " |      Return hash(self).\n",
      " |  \n",
      " |  __iter__(self, /)\n",
      " |      Implement iter(self).\n",
      " |  \n",
      " |  __le__(self, value, /)\n",
      " |      Return self<=value.\n",
      " |  \n",
      " |  __len__(self, /)\n",
      " |      Return len(self).\n",
      " |  \n",
      " |  __lt__(self, value, /)\n",
      " |      Return self<value.\n",
      " |  \n",
      " |  __ne__(self, value, /)\n",
      " |      Return self!=value.\n",
      " |  \n",
      " |  __reduce__(...)\n",
      " |      Helper for pickle.\n",
      " |  \n",
      " |  __repr__(self, /)\n",
      " |      Return repr(self).\n",
      " |  \n",
      " |  __reversed__(...)\n",
      " |      Return a reverse iterator.\n",
      " |  \n",
      " |  count(...)\n",
      " |      rangeobject.count(value) -> integer -- return number of occurrences of value\n",
      " |  \n",
      " |  index(...)\n",
      " |      rangeobject.index(value) -> integer -- return index of value.\n",
      " |      Raise ValueError if the value is not present.\n",
      " |  \n",
      " |  ----------------------------------------------------------------------\n",
      " |  Static methods defined here:\n",
      " |  \n",
      " |  __new__(*args, **kwargs) from builtins.type\n",
      " |      Create and return a new object.  See help(type) for accurate signature.\n",
      " |  \n",
      " |  ----------------------------------------------------------------------\n",
      " |  Data descriptors defined here:\n",
      " |  \n",
      " |  start\n",
      " |  \n",
      " |  step\n",
      " |  \n",
      " |  stop\n",
      "\n"
     ]
    }
   ],
   "source": [
    "help(range)"
   ]
  },
  {
   "cell_type": "markdown",
   "metadata": {},
   "source": [
    "### Aquí tienes algunos ejemplos de uso de la función  `range` :\n"
   ]
  },
  {
   "cell_type": "code",
   "execution_count": 11,
   "metadata": {},
   "outputs": [
    {
     "name": "stdout",
     "output_type": "stream",
     "text": [
      "0\n",
      "1\n",
      "2\n",
      "3\n",
      "4\n",
      "5\n",
      "6\n",
      "7\n",
      "8\n",
      "9\n"
     ]
    }
   ],
   "source": [
    "\n",
    "# 1. Imprimir números del 0 al 9:\n",
    "for i in range(10):\n",
    "    print(i)\n",
    "    \n"
   ]
  },
  {
   "cell_type": "code",
   "execution_count": 12,
   "metadata": {},
   "outputs": [
    {
     "name": "stdout",
     "output_type": "stream",
     "text": [
      "1\n",
      "2\n",
      "3\n",
      "4\n",
      "5\n",
      "6\n",
      "7\n",
      "8\n",
      "9\n",
      "10\n"
     ]
    }
   ],
   "source": [
    "# 2. Imprimir números del 1 al 10:\n",
    "for i in range(1, 11):\n",
    "    print(i)\n"
   ]
  },
  {
   "cell_type": "code",
   "execution_count": 13,
   "metadata": {},
   "outputs": [
    {
     "name": "stdout",
     "output_type": "stream",
     "text": [
      "0\n",
      "2\n",
      "4\n",
      "6\n",
      "8\n",
      "10\n"
     ]
    }
   ],
   "source": [
    "# 3. Imprimir números pares del 0 al 10:\n",
    "for i in range(0, 11, 2):\n",
    "    print(i)\n"
   ]
  },
  {
   "cell_type": "code",
   "execution_count": 14,
   "metadata": {},
   "outputs": [
    {
     "name": "stdout",
     "output_type": "stream",
     "text": [
      "[1, 2, 3, 4, 5]\n"
     ]
    }
   ],
   "source": [
    "# 4. Crear una lista de números del 1 al 5:\n",
    "numbers = list(range(1, 6))\n",
    "print(numbers)\n"
   ]
  },
  {
   "cell_type": "code",
   "execution_count": 15,
   "metadata": {},
   "outputs": [
    {
     "name": "stdout",
     "output_type": "stream",
     "text": [
      "[10, 9, 8, 7, 6, 5, 4, 3, 2, 1]\n"
     ]
    }
   ],
   "source": [
    "numbers = list(range(10, 0, -1))\n",
    "print(numbers)"
   ]
  },
  {
   "cell_type": "code",
   "execution_count": 28,
   "metadata": {},
   "outputs": [
    {
     "data": {
      "text/plain": [
       "10"
      ]
     },
     "execution_count": 28,
     "metadata": {},
     "output_type": "execute_result"
    }
   ],
   "source": [
    "my_rango = range(10, 0, -1)\n",
    "len(my_rango)"
   ]
  },
  {
   "cell_type": "code",
   "execution_count": 26,
   "metadata": {},
   "outputs": [
    {
     "data": {
      "text/plain": [
       "6"
      ]
     },
     "execution_count": 26,
     "metadata": {},
     "output_type": "execute_result"
    }
   ],
   "source": [
    "my_rango.index(4)"
   ]
  },
  {
   "cell_type": "code",
   "execution_count": 25,
   "metadata": {},
   "outputs": [
    {
     "data": {
      "text/plain": [
       "4"
      ]
     },
     "execution_count": 25,
     "metadata": {},
     "output_type": "execute_result"
    }
   ],
   "source": [
    "my_rango[6]"
   ]
  },
  {
   "cell_type": "code",
   "execution_count": 27,
   "metadata": {},
   "outputs": [
    {
     "name": "stdout",
     "output_type": "stream",
     "text": [
      "10\n",
      "9\n",
      "8\n",
      "7\n",
      "6\n",
      "5\n",
      "4\n",
      "3\n",
      "2\n",
      "1\n"
     ]
    }
   ],
   "source": [
    "for i in my_rango:\n",
    "    print(i)"
   ]
  },
  {
   "cell_type": "code",
   "execution_count": 31,
   "metadata": {
    "id": "ag5ggcLQpRhT"
   },
   "outputs": [
    {
     "name": "stdout",
     "output_type": "stream",
     "text": [
      "#import this\n",
      "\n",
      "The Zen of Python, by Tim Peters\n",
      "\n",
      "\n",
      "\n",
      "Beautiful is better than ugly.\n",
      "\n",
      "Explicit is better than implicit.\n",
      "\n",
      "Simple is better than complex.\n",
      "\n",
      "Complex is better than complicated.\n",
      "\n",
      "Flat is better than nested.\n",
      "\n",
      "Sparse is better than dense.\n",
      "\n",
      "Readability counts.\n",
      "\n",
      "Special cases aren't special enough to break the rules.\n",
      "\n",
      "Although practicality beats purity.\n",
      "\n",
      "Errors should never pass silently.\n",
      "\n",
      "Unless explicitly silenced.\n",
      "\n",
      "In the face of ambiguity, refuse the temptation to guess.\n",
      "\n",
      "There should be one-- and preferably only one --obvious way to do it.\n",
      "\n",
      "Although that way may not be obvious at first unless you're Dutch.\n",
      "\n",
      "Now is better than never.\n",
      "\n",
      "Although never is often better than *right* now.\n",
      "\n",
      "If the implementation is hard to explain, it's a bad idea.\n",
      "\n",
      "If the implementation is easy to explain, it may be a good idea.\n",
      "\n",
      "Namespaces are one honking great idea -- let's do more of those!\n",
      "\n",
      "I'm done.\n"
     ]
    }
   ],
   "source": [
    "# Ejemplo de lectura de un archivo .txt línea por línea con un bucle for\n",
    "with open('zen_of_python.txt') as f:\n",
    "    for line in f:\n",
    "        print(line)\n",
    "print('\\nI\\'m done.')"
   ]
  },
  {
   "cell_type": "code",
   "execution_count": 32,
   "metadata": {
    "colab": {
     "base_uri": "https://localhost:8080/"
    },
    "executionInfo": {
     "elapsed": 467,
     "status": "ok",
     "timestamp": 1677516494423,
     "user": {
      "displayName": "Arwen Shackelford",
      "userId": "14614635049532489764"
     },
     "user_tz": 360
    },
    "id": "UeIe1Zclxa1a",
    "outputId": "63eedce1-0db8-427f-f7ca-4860672b42e9"
   },
   "outputs": [
    {
     "name": "stdout",
     "output_type": "stream",
     "text": [
      "362880\n"
     ]
    }
   ],
   "source": [
    "# Use a for loop to calculate 9!\n",
    "product = 1\n",
    "for n in range(1, 10):\n",
    "    product = product * n\n",
    "\n",
    "print(product)"
   ]
  },
  {
   "cell_type": "code",
   "execution_count": 33,
   "metadata": {
    "colab": {
     "base_uri": "https://localhost:8080/"
    },
    "executionInfo": {
     "elapsed": 4,
     "status": "ok",
     "timestamp": 1677516505660,
     "user": {
      "displayName": "Arwen Shackelford",
      "userId": "14614635049532489764"
     },
     "user_tz": 360
    },
    "id": "QbYGl8V4xlO2",
    "outputId": "c84614f9-2b10-4b21-9bac-eeada620aec1"
   },
   "outputs": [
    {
     "name": "stdout",
     "output_type": "stream",
     "text": [
      "0 -17.77777777777778\n",
      "10 -12.222222222222221\n",
      "20 -6.666666666666667\n",
      "30 -1.1111111111111112\n",
      "40 4.444444444444445\n",
      "50 10.0\n",
      "60 15.555555555555555\n",
      "70 21.11111111111111\n",
      "80 26.666666666666668\n",
      "90 32.22222222222222\n",
      "100 37.77777777777778\n"
     ]
    }
   ],
   "source": [
    "# Define una función que convierte de Fahrenheit a Celsius.\n",
    "def a_celsius(x):\n",
    "     return (x-32) * 5/9\n",
    "\n",
    "# Crea una tabla de conversiones de Celsius a Fahrenheit cada 10 grados, de 0 a 100\n",
    "for x in range(0, 101, 10):\n",
    "     print(x, a_celsius(x))"
   ]
  },
  {
   "cell_type": "markdown",
   "metadata": {
    "id": "HAiuvbu_Dmcs"
   },
   "source": [
    "## Trabajar con strings"
   ]
  },
  {
   "cell_type": "code",
   "execution_count": 7,
   "metadata": {
    "colab": {
     "base_uri": "https://localhost:8080/",
     "height": 35
    },
    "executionInfo": {
     "elapsed": 11,
     "status": "ok",
     "timestamp": 1676404141416,
     "user": {
      "displayName": "Matteo Riotto",
      "userId": "15211004813978485634"
     },
     "user_tz": 480
    },
    "id": "bjAKCWcpDlDc",
    "outputId": "61c591d3-08fe-4c3c-a885-17c3ec727a62"
   },
   "outputs": [
    {
     "data": {
      "text/plain": [
       "'Helloworld'"
      ]
     },
     "execution_count": 7,
     "metadata": {},
     "output_type": "execute_result"
    }
   ],
   "source": [
    "# Concateanndo los strings\n",
    "'Hello' + 'world'"
   ]
  },
  {
   "cell_type": "code",
   "execution_count": 35,
   "metadata": {
    "colab": {
     "base_uri": "https://localhost:8080/",
     "height": 35
    },
    "executionInfo": {
     "elapsed": 254,
     "status": "ok",
     "timestamp": 1676404141663,
     "user": {
      "displayName": "Matteo Riotto",
      "userId": "15211004813978485634"
     },
     "user_tz": 480
    },
    "id": "FJmzpOnGEz4c",
    "outputId": "cb532135-b2b5-4c76-8bc0-11d0c785da8b"
   },
   "outputs": [
    {
     "data": {
      "text/plain": [
       "'Hello world'"
      ]
     },
     "execution_count": 35,
     "metadata": {},
     "output_type": "execute_result"
    }
   ],
   "source": [
    "'Hello' + ' ' + 'world'"
   ]
  },
  {
   "cell_type": "code",
   "execution_count": 36,
   "metadata": {
    "colab": {
     "base_uri": "https://localhost:8080/",
     "height": 35
    },
    "executionInfo": {
     "elapsed": 21,
     "status": "ok",
     "timestamp": 1676404141664,
     "user": {
      "displayName": "Matteo Riotto",
      "userId": "15211004813978485634"
     },
     "user_tz": 480
    },
    "id": "FnSaQ_bIE7Ry",
    "outputId": "45eeae18-4e52-4d8e-cde4-f5025792ee88"
   },
   "outputs": [
    {
     "data": {
      "text/plain": [
       "'Hello world'"
      ]
     },
     "execution_count": 36,
     "metadata": {},
     "output_type": "execute_result"
    }
   ],
   "source": [
    "greeting_1 = 'Hello '\n",
    "greeting_2 = 'world'\n",
    "greeting_1 + greeting_2"
   ]
  },
  {
   "cell_type": "code",
   "execution_count": 39,
   "metadata": {
    "colab": {
     "base_uri": "https://localhost:8080/",
     "height": 166
    },
    "executionInfo": {
     "elapsed": 19,
     "status": "error",
     "timestamp": 1676404141665,
     "user": {
      "displayName": "Matteo Riotto",
      "userId": "15211004813978485634"
     },
     "user_tz": 480
    },
    "id": "X26Vh-40GZW-",
    "outputId": "644fdc15-45d7-4cc7-ea78-f9aa5eedcce6"
   },
   "outputs": [
    {
     "ename": "TypeError",
     "evalue": "unsupported operand type(s) for -: 'str' and 'int'",
     "output_type": "error",
     "traceback": [
      "\u001b[0;31m---------------------------------------------------------------------------\u001b[0m",
      "\u001b[0;31mTypeError\u001b[0m                                 Traceback (most recent call last)",
      "Cell \u001b[0;32mIn[39], line 1\u001b[0m\n\u001b[0;32m----> 1\u001b[0m \u001b[39m\"\u001b[39;49m\u001b[39mdanger\u001b[39;49m\u001b[39m\"\u001b[39;49m \u001b[39m-\u001b[39;49m \u001b[39m2\u001b[39;49m\n",
      "\u001b[0;31mTypeError\u001b[0m: unsupported operand type(s) for -: 'str' and 'int'"
     ]
    }
   ],
   "source": [
    "\"danger\" - 2"
   ]
  },
  {
   "cell_type": "code",
   "execution_count": 40,
   "metadata": {
    "colab": {
     "base_uri": "https://localhost:8080/"
    },
    "executionInfo": {
     "elapsed": 10,
     "status": "ok",
     "timestamp": 1677521057588,
     "user": {
      "displayName": "Matteo Riotto",
      "userId": "15211004813978485634"
     },
     "user_tz": 480
    },
    "id": "fsQwb9qpGkRv",
    "outputId": "5f5f1d72-8c78-4f01-d80c-865b4c794b9d"
   },
   "outputs": [
    {
     "name": "stdout",
     "output_type": "stream",
     "text": [
      "\"Thank you for pressing the self-destruct button.\"\n"
     ]
    }
   ],
   "source": [
    "# Alterna comillas simples y dobles para incluir una u otra en tu cadena de texto.\n",
    "quote = '\"Thank you for pressing the self-destruct button.\"'\n",
    "print(quote)"
   ]
  },
  {
   "cell_type": "code",
   "execution_count": 41,
   "metadata": {
    "colab": {
     "base_uri": "https://localhost:8080/"
    },
    "executionInfo": {
     "elapsed": 5,
     "status": "ok",
     "timestamp": 1677522175983,
     "user": {
      "displayName": "Matteo Riotto",
      "userId": "15211004813978485634"
     },
     "user_tz": 480
    },
    "id": "K1CSRLHxIFDS",
    "outputId": "5fe7be9c-bebe-457f-c660-933be13c06f4"
   },
   "outputs": [
    {
     "name": "stdout",
     "output_type": "stream",
     "text": [
      "\"¡Es peligroso ir solo!\"\n"
     ]
    }
   ],
   "source": [
    "# \\ es un carácter de escape que modifica el carácter que le sigue.\n",
    "cita = \"\\\"¡Es peligroso ir solo!\\\"\"\n",
    "print(cita)"
   ]
  },
  {
   "cell_type": "code",
   "execution_count": 42,
   "metadata": {
    "colab": {
     "base_uri": "https://localhost:8080/"
    },
    "executionInfo": {
     "elapsed": 205,
     "status": "ok",
     "timestamp": 1676404147650,
     "user": {
      "displayName": "Matteo Riotto",
      "userId": "15211004813978485634"
     },
     "user_tz": 480
    },
    "id": "n4BlMXtPPaSt",
    "outputId": "7f6ba0a4-679c-458a-81b9-d6b38f69b457"
   },
   "outputs": [
    {
     "name": "stdout",
     "output_type": "stream",
     "text": [
      "Buen día,\n",
      "senor.\n"
     ]
    }
   ],
   "source": [
    "# \\n crea un salto de línea.\n",
    "saludo = \"Buen día,\\nsenor.\"\n",
    "print(saludo)"
   ]
  },
  {
   "cell_type": "code",
   "execution_count": 43,
   "metadata": {
    "colab": {
     "base_uri": "https://localhost:8080/"
    },
    "executionInfo": {
     "elapsed": 228,
     "status": "ok",
     "timestamp": 1676404148663,
     "user": {
      "displayName": "Matteo Riotto",
      "userId": "15211004813978485634"
     },
     "user_tz": 480
    },
    "id": "HQfjf-_aPvA1",
    "outputId": "828dc395-1edf-40cb-887a-690a5527b685"
   },
   "outputs": [
    {
     "name": "stdout",
     "output_type": "stream",
     "text": [
      "\\n representa un salto de línea en Python.\n"
     ]
    }
   ],
   "source": [
    "# Usando el carácter de escape (\\) puedes expresar el símbolo de salto de línea dentro de una cadena de texto.\n",
    "salto_linea = \"\\\\n representa un salto de línea en Python.\"\n",
    "print(salto_linea)"
   ]
  },
  {
   "cell_type": "code",
   "execution_count": 46,
   "metadata": {
    "colab": {
     "base_uri": "https://localhost:8080/"
    },
    "executionInfo": {
     "elapsed": 203,
     "status": "ok",
     "timestamp": 1676404149714,
     "user": {
      "displayName": "Matteo Riotto",
      "userId": "15211004813978485634"
     },
     "user_tz": 480
    },
    "id": "tnsy0s_DQChv",
    "outputId": "1525a3f4-a860-42a6-b060-4523a98116fa"
   },
   "outputs": [
    {
     "name": "stdout",
     "output_type": "stream",
     "text": [
      "-P-\n",
      "-y-\n",
      "-t-\n",
      "-h-\n",
      "-o-\n",
      "-n-\n"
     ]
    }
   ],
   "source": [
    "# Puedes recorrer las letras de una cadena de texto.\n",
    "python = 'Python'\n",
    "for letra in python:\n",
    "    print(\"-\" + letra + \"-\")"
   ]
  },
  {
   "cell_type": "markdown",
   "metadata": {
    "id": "rCq-bqo_Wzbf"
   },
   "source": [
    "## String slicing"
   ]
  },
  {
   "cell_type": "code",
   "execution_count": 47,
   "metadata": {
    "colab": {
     "base_uri": "https://localhost:8080/"
    },
    "executionInfo": {
     "elapsed": 222,
     "status": "ok",
     "timestamp": 1676404153434,
     "user": {
      "displayName": "Matteo Riotto",
      "userId": "15211004813978485634"
     },
     "user_tz": 480
    },
    "id": "KaNPq8dVRd8a",
    "outputId": "c5fe6eee-f8c1-463a-b435-c709c5bb7c27"
   },
   "outputs": [
    {
     "data": {
      "text/plain": [
       "4"
      ]
     },
     "execution_count": 47,
     "metadata": {},
     "output_type": "execute_result"
    }
   ],
   "source": [
    "# El método index() devuelve el índice de la primera aparición del carácter en la cadena de texto.\n",
    "mascotas = 'gatos y perros'\n",
    "mascotas.index('s')"
   ]
  },
  {
   "cell_type": "code",
   "execution_count": 48,
   "metadata": {
    "colab": {
     "base_uri": "https://localhost:8080/",
     "height": 166
    },
    "executionInfo": {
     "elapsed": 6,
     "status": "error",
     "timestamp": 1676404154165,
     "user": {
      "displayName": "Matteo Riotto",
      "userId": "15211004813978485634"
     },
     "user_tz": 480
    },
    "id": "XWo14zgC-lJ_",
    "outputId": "2c426184-b86d-48a0-908a-6e5a47691ea7"
   },
   "outputs": [
    {
     "ename": "ValueError",
     "evalue": "substring not found",
     "output_type": "error",
     "traceback": [
      "\u001b[0;31m---------------------------------------------------------------------------\u001b[0m",
      "\u001b[0;31mValueError\u001b[0m                                Traceback (most recent call last)",
      "Cell \u001b[0;32mIn[48], line 2\u001b[0m\n\u001b[1;32m      1\u001b[0m \u001b[39m# El método index() lanzará un error si el carácter no está en la cadena de texto.\u001b[39;00m\n\u001b[0;32m----> 2\u001b[0m mascotas\u001b[39m.\u001b[39;49mindex(\u001b[39m'\u001b[39;49m\u001b[39mz\u001b[39;49m\u001b[39m'\u001b[39;49m)\n",
      "\u001b[0;31mValueError\u001b[0m: substring not found"
     ]
    }
   ],
   "source": [
    "# El método index() lanzará un error si el carácter no está en la cadena de texto.\n",
    "mascotas.index('z')"
   ]
  },
  {
   "cell_type": "code",
   "execution_count": 51,
   "metadata": {
    "colab": {
     "base_uri": "https://localhost:8080/",
     "height": 35
    },
    "executionInfo": {
     "elapsed": 360,
     "status": "ok",
     "timestamp": 1676404156415,
     "user": {
      "displayName": "Matteo Riotto",
      "userId": "15211004813978485634"
     },
     "user_tz": 480
    },
    "id": "SCmozq1M-ylG",
    "outputId": "4a7223a9-0c57-4f37-ca6f-d0fadd069f43"
   },
   "outputs": [
    {
     "data": {
      "text/plain": [
       "'J'"
      ]
     },
     "execution_count": 51,
     "metadata": {},
     "output_type": "execute_result"
    }
   ],
   "source": [
    "# Accede al carácter en un índice dado de una cadena de texto.\n",
    "nombre = 'Jolene'\n",
    "nombre[0]"
   ]
  },
  {
   "cell_type": "code",
   "execution_count": 52,
   "metadata": {
    "colab": {
     "base_uri": "https://localhost:8080/",
     "height": 35
    },
    "executionInfo": {
     "elapsed": 241,
     "status": "ok",
     "timestamp": 1676404157559,
     "user": {
      "displayName": "Matteo Riotto",
      "userId": "15211004813978485634"
     },
     "user_tz": 480
    },
    "id": "1l0p0JVy_BWY",
    "outputId": "00df6520-842e-454b-f56e-52c63e0608f1"
   },
   "outputs": [
    {
     "data": {
      "text/plain": [
       "'e'"
      ]
     },
     "execution_count": 52,
     "metadata": {},
     "output_type": "execute_result"
    }
   ],
   "source": [
    "nombre[5]"
   ]
  },
  {
   "cell_type": "code",
   "execution_count": 55,
   "metadata": {
    "colab": {
     "base_uri": "https://localhost:8080/",
     "height": 166
    },
    "executionInfo": {
     "elapsed": 202,
     "status": "error",
     "timestamp": 1676404158659,
     "user": {
      "displayName": "Matteo Riotto",
      "userId": "15211004813978485634"
     },
     "user_tz": 480
    },
    "id": "FsRuU9p5_M9W",
    "outputId": "3d97da08-e452-47b4-e587-538ed48ec9a6"
   },
   "outputs": [
    {
     "ename": "IndexError",
     "evalue": "string index out of range",
     "output_type": "error",
     "traceback": [
      "\u001b[0;31m---------------------------------------------------------------------------\u001b[0m",
      "\u001b[0;31mIndexError\u001b[0m                                Traceback (most recent call last)",
      "Cell \u001b[0;32mIn[55], line 2\u001b[0m\n\u001b[1;32m      1\u001b[0m \u001b[39m# Los índices que están fuera del rango devolverán un IndexError.\u001b[39;00m\n\u001b[0;32m----> 2\u001b[0m nombre[\u001b[39m6\u001b[39;49m]\n",
      "\u001b[0;31mIndexError\u001b[0m: string index out of range"
     ]
    }
   ],
   "source": [
    "# Los índices que están fuera del rango devolverán un IndexError.\n",
    "nombre[6]"
   ]
  },
  {
   "cell_type": "code",
   "execution_count": 23,
   "metadata": {
    "colab": {
     "base_uri": "https://localhost:8080/",
     "height": 35
    },
    "executionInfo": {
     "elapsed": 18,
     "status": "ok",
     "timestamp": 1677527598594,
     "user": {
      "displayName": "Matteo Riotto",
      "userId": "15211004813978485634"
     },
     "user_tz": 480
    },
    "id": "kda2UXyY_RHg",
    "outputId": "30bb85e8-669d-4eb4-853f-fd869600bb35"
   },
   "outputs": [
    {
     "data": {
      "text/plain": [
       "'!'"
      ]
     },
     "execution_count": 23,
     "metadata": {},
     "output_type": "execute_result"
    }
   ],
   "source": [
    "# La indexación negativa comienza desde el final de la cadena de texto.\n",
    "frase = '¡Un hombre, un plan, un canal, Panamá!'\n",
    "frase[-1]"
   ]
  },
  {
   "cell_type": "code",
   "execution_count": 56,
   "metadata": {
    "colab": {
     "base_uri": "https://localhost:8080/",
     "height": 35
    },
    "executionInfo": {
     "elapsed": 194,
     "status": "ok",
     "timestamp": 1677527604484,
     "user": {
      "displayName": "Matteo Riotto",
      "userId": "15211004813978485634"
     },
     "user_tz": 480
    },
    "id": "3MuZKO9o_8Pt",
    "outputId": "4c34a874-0c1e-4ed1-9495-2541efcb4bee"
   },
   "outputs": [
    {
     "data": {
      "text/plain": [
       "'á'"
      ]
     },
     "execution_count": 56,
     "metadata": {},
     "output_type": "execute_result"
    }
   ],
   "source": [
    "# La indexación negativa comienza desde el final de la cadena de texto.\n",
    "frase = '¡Un hombre, un plan, un canal, Panamá!'\n",
    "frase[-2]"
   ]
  },
  {
   "cell_type": "code",
   "execution_count": 57,
   "metadata": {
    "colab": {
     "base_uri": "https://localhost:8080/",
     "height": 35
    },
    "executionInfo": {
     "elapsed": 8,
     "status": "ok",
     "timestamp": 1676404163554,
     "user": {
      "displayName": "Matteo Riotto",
      "userId": "15211004813978485634"
     },
     "user_tz": 480
    },
    "id": "YLHgT9tsAATV",
    "outputId": "95fcc18c-f69e-4db0-ae08-e181321bbe6c"
   },
   "outputs": [
    {
     "data": {
      "text/plain": [
       "'ara'"
      ]
     },
     "execution_count": 57,
     "metadata": {},
     "output_type": "execute_result"
    }
   ],
   "source": [
    "# Accede a una subcadena utilizando un segmento.\n",
    "color = 'naranja'\n",
    "color[1:4]"
   ]
  },
  {
   "cell_type": "code",
   "execution_count": 59,
   "metadata": {
    "colab": {
     "base_uri": "https://localhost:8080/",
     "height": 35
    },
    "executionInfo": {
     "elapsed": 187,
     "status": "ok",
     "timestamp": 1679521086982,
     "user": {
      "displayName": "Matteo Riotto",
      "userId": "15211004813978485634"
     },
     "user_tz": 420
    },
    "id": "96SwIyx0BA5r",
    "outputId": "22dbf46b-86f6-47a4-a8d2-8830485a2fef"
   },
   "outputs": [
    {
     "data": {
      "text/plain": [
       "'pine'"
      ]
     },
     "execution_count": 59,
     "metadata": {},
     "output_type": "execute_result"
    }
   ],
   "source": [
    "# Omitir el primer valor del segmento implica un valor de 0.\n",
    "fruta = 'pineapple'\n",
    "fruta[:4]"
   ]
  },
  {
   "cell_type": "code",
   "execution_count": 61,
   "metadata": {
    "colab": {
     "base_uri": "https://localhost:8080/",
     "height": 35
    },
    "executionInfo": {
     "elapsed": 172,
     "status": "ok",
     "timestamp": 1679521087865,
     "user": {
      "displayName": "Matteo Riotto",
      "userId": "15211004813978485634"
     },
     "user_tz": 420
    },
    "id": "CYDMgvHrBfLA",
    "outputId": "31587223-e876-4a55-85d4-4d83bd9f1128"
   },
   "outputs": [
    {
     "data": {
      "text/plain": [
       "'apple'"
      ]
     },
     "execution_count": 61,
     "metadata": {},
     "output_type": "execute_result"
    }
   ],
   "source": [
    "# Omitting the last value of the slice implies a value of len(string).\n",
    "fruta[4:]"
   ]
  },
  {
   "cell_type": "code",
   "execution_count": 62,
   "metadata": {
    "colab": {
     "base_uri": "https://localhost:8080/"
    },
    "executionInfo": {
     "elapsed": 4,
     "status": "ok",
     "timestamp": 1676404166614,
     "user": {
      "displayName": "Matteo Riotto",
      "userId": "15211004813978485634"
     },
     "user_tz": 480
    },
    "id": "yi1sAB37BgdD",
    "outputId": "d5fad41e-712c-45b0-d18c-7b8a0e91a1c7"
   },
   "outputs": [
    {
     "data": {
      "text/plain": [
       "False"
      ]
     },
     "execution_count": 62,
     "metadata": {},
     "output_type": "execute_result"
    }
   ],
   "source": [
    "# La palabra clave  `in`  devuelve un booleano que indica si una subcadena está en una cadena de texto.\n",
    "'banana' in fruta"
   ]
  },
  {
   "cell_type": "code",
   "execution_count": 64,
   "metadata": {
    "colab": {
     "base_uri": "https://localhost:8080/"
    },
    "executionInfo": {
     "elapsed": 190,
     "status": "ok",
     "timestamp": 1676404167529,
     "user": {
      "displayName": "Matteo Riotto",
      "userId": "15211004813978485634"
     },
     "user_tz": 480
    },
    "id": "Pn3sJr3jCS01",
    "outputId": "3a73fc15-aadd-4c62-9b15-a388443c9457"
   },
   "outputs": [
    {
     "data": {
      "text/plain": [
       "True"
      ]
     },
     "execution_count": 64,
     "metadata": {},
     "output_type": "execute_result"
    }
   ],
   "source": [
    "# La palabra clave  `in`  devuelve un booleano que indica si una subcadena está en una cadena de texto.\n",
    "'apple' in fruta"
   ]
  },
  {
   "cell_type": "markdown",
   "metadata": {
    "id": "z8R-rFH187wC"
   },
   "source": [
    "## Formateo de strings"
   ]
  },
  {
   "cell_type": "code",
   "execution_count": 65,
   "metadata": {
    "colab": {
     "base_uri": "https://localhost:8080/"
    },
    "executionInfo": {
     "elapsed": 5,
     "status": "ok",
     "timestamp": 1676404169827,
     "user": {
      "displayName": "Matteo Riotto",
      "userId": "15211004813978485634"
     },
     "user_tz": 480
    },
    "id": "wgsrbPBtCesr",
    "outputId": "33ad0e16-cc50-4754-f59f-80d5403f2c90"
   },
   "outputs": [
    {
     "name": "stdout",
     "output_type": "stream",
     "text": [
      "Hola Manuel, tu número de la suerte es 3.\n"
     ]
    }
   ],
   "source": [
    "# Usa el método format() para insertar valores en tu cadena de texto, indicados por llaves.\n",
    "nombre = 'Manuel'\n",
    "numero = 3\n",
    "print('Hola {}, tu número de la suerte es {}.'.format(nombre, numero))"
   ]
  },
  {
   "cell_type": "code",
   "execution_count": 66,
   "metadata": {
    "colab": {
     "base_uri": "https://localhost:8080/"
    },
    "executionInfo": {
     "elapsed": 5,
     "status": "ok",
     "timestamp": 1676404171111,
     "user": {
      "displayName": "Matteo Riotto",
      "userId": "15211004813978485634"
     },
     "user_tz": 480
    },
    "id": "abvkAr_a9kUC",
    "outputId": "af679f8b-bae0-42f1-af85-3c82d3fa2c50"
   },
   "outputs": [
    {
     "name": "stdout",
     "output_type": "stream",
     "text": [
      "Hola Manuel, tu número de la suerte es 3.\n"
     ]
    }
   ],
   "source": [
    "# Puedes asignar nombres para indicar cómo quieres que se inserten los valores.\n",
    "nombre = 'Manuel'\n",
    "numero = 3\n",
    "print('Hola {nombre}, tu número de la suerte es {num}.'.format(num=numero, nombre=nombre))"
   ]
  },
  {
   "cell_type": "code",
   "execution_count": 32,
   "metadata": {
    "colab": {
     "base_uri": "https://localhost:8080/"
    },
    "executionInfo": {
     "elapsed": 4,
     "status": "ok",
     "timestamp": 1676404172624,
     "user": {
      "displayName": "Matteo Riotto",
      "userId": "15211004813978485634"
     },
     "user_tz": 480
    },
    "id": "UvYUC622bAeT",
    "outputId": "6be00105-c6c9-4265-c207-459a2d24d626"
   },
   "outputs": [
    {
     "name": "stdout",
     "output_type": "stream",
     "text": [
      "Hello Manuel, your lucky number is 3.\n"
     ]
    }
   ],
   "source": [
    "# Puedes usar índices de argumento para indicar cómo quieres que se inserten los valores.\n",
    "print('Hola {1}, tu número de la suerte es {0}.'.format(numero, nombre))"
   ]
  },
  {
   "cell_type": "code",
   "execution_count": 68,
   "metadata": {
    "colab": {
     "base_uri": "https://localhost:8080/"
    },
    "executionInfo": {
     "elapsed": 224,
     "status": "ok",
     "timestamp": 1676406002340,
     "user": {
      "displayName": "Matteo Riotto",
      "userId": "15211004813978485634"
     },
     "user_tz": 480
    },
    "id": "9NQohRSBDT8M",
    "outputId": "26257612-8e18-406f-c1e9-9b80ef8c7390"
   },
   "outputs": [
    {
     "name": "stdout",
     "output_type": "stream",
     "text": [
      "Precio base: $7.75  \n",
      "Con impuesto: $9.3775 \n"
     ]
    }
   ],
   "source": [
    "# Ejemplo de inserción de precios en una cadena de texto\n",
    "precio = 7.75\n",
    "con_impuesto = precio * 1.21\n",
    "print('Precio base: ${}  \\nCon impuesto: ${} '.format(precio, con_impuesto))"
   ]
  },
  {
   "cell_type": "code",
   "execution_count": 70,
   "metadata": {
    "colab": {
     "base_uri": "https://localhost:8080/"
    },
    "executionInfo": {
     "elapsed": 4,
     "status": "ok",
     "timestamp": 1676406002547,
     "user": {
      "displayName": "Matteo Riotto",
      "userId": "15211004813978485634"
     },
     "user_tz": 480
    },
    "id": "AZAwYBM-OhxF",
    "outputId": "fdb4f5ad-a642-4abf-8985-0c1e43ceecaa"
   },
   "outputs": [
    {
     "name": "stdout",
     "output_type": "stream",
     "text": [
      "Precio base: $7.75. \n",
      "Con impuesto: $9.38.\n"
     ]
    }
   ],
   "source": [
    "# Usa :.2f para redondear un valor decimal a dos lugares después del punto.\n",
    "print('Precio base: ${:.2f}. \\nCon impuesto: ${:.2f}.'.format(precio, con_impuesto))"
   ]
  },
  {
   "cell_type": "code",
   "execution_count": 71,
   "metadata": {
    "colab": {
     "base_uri": "https://localhost:8080/"
    },
    "executionInfo": {
     "elapsed": 4,
     "status": "ok",
     "timestamp": 1676406003412,
     "user": {
      "displayName": "Matteo Riotto",
      "userId": "15211004813978485634"
     },
     "user_tz": 480
    },
    "id": "TES_E7CkSFhw",
    "outputId": "8705504a-090e-46aa-df03-2ae1a65c4abe"
   },
   "outputs": [
    {
     "name": "stdout",
     "output_type": "stream",
     "text": [
      "  0 F | -17.78 C\n",
      " 10 F | -12.22 C\n",
      " 20 F |  -6.67 C\n",
      " 30 F |  -1.11 C\n",
      " 40 F |   4.44 C\n",
      " 50 F |  10.00 C\n",
      " 60 F |  15.56 C\n",
      " 70 F |  21.11 C\n",
      " 80 F |  26.67 C\n",
      " 90 F |  32.22 C\n",
      "100 F |  37.78 C\n"
     ]
    }
   ],
   "source": [
    "    # Define una función que convierte de Fahrenheit a Celsius.\n",
    "def a_celsius(x):\n",
    "    return (x-32) * 5/9\n",
    " # Crea una tabla de conversión de temperaturas usando formato de cadena\n",
    "for x in range(0, 101, 10):\n",
    "    print(\"{:>3} F | {:>6.2f} C\".format(x, a_celsius(x)))"
   ]
  }
 ],
 "metadata": {
  "colab": {
   "provenance": []
  },
  "kernelspec": {
   "display_name": "Py_Global",
   "language": "python",
   "name": "py_global"
  },
  "language_info": {
   "codemirror_mode": {
    "name": "ipython",
    "version": 3
   },
   "file_extension": ".py",
   "mimetype": "text/x-python",
   "name": "python",
   "nbconvert_exporter": "python",
   "pygments_lexer": "ipython3",
   "version": "3.8.10"
  }
 },
 "nbformat": 4,
 "nbformat_minor": 1
}
