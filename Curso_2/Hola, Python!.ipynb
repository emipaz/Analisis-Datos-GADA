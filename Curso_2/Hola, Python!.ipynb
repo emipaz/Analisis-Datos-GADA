{
 "cells": [
  {
   "cell_type": "markdown",
   "metadata": {
    "id": "818BuMHfxk9n"
   },
   "source": [
    "# Guía de seguimiento anotada: ¡Hola, Python!"
   ]
  },
  {
   "cell_type": "markdown",
   "metadata": {},
   "source": [
    "## Introduction\n",
    "\n",
    "Esta guía de seguimiento es un cuaderno Jupyter anotado y organizado para que coincida con el contenido de cada semana. Contiene el mismo código que se muestra en los vídeos de la semana. Además del contenido idéntico al de los vídeos, encontrarás información adicional a lo largo de la guía para explicar el propósito de cada concepto tratado, por qué el código está escrito de una determinada manera y consejos para ejecutar el código.\n",
    "\n",
    "Cuando veas cada uno de los siguientes vídeos, aparecerá un mensaje para avisarte de que el vídeo que estás viendo contiene instrucciones y ejemplos de codificación. El mensaje del vídeo te dirigirá a la sección correspondiente del cuaderno para el vídeo que estás viendo. Siga en el cuaderno las explicaciones del profesor sobre el código.\n",
    "\n"
   ]
  },
  {
   "cell_type": "markdown",
   "metadata": {
    "id": "mcqdtonYCqET"
   },
   "source": [
    "## 1. Descubriendo Python\n"
   ]
  },
  {
   "cell_type": "code",
   "execution_count": 66,
   "metadata": {
    "colab": {
     "base_uri": "https://localhost:8080/"
    },
    "executionInfo": {
     "elapsed": 304,
     "status": "ok",
     "timestamp": 1675736124196,
     "user": {
      "displayName": "Matteo Riotto",
      "userId": "15211004813978485634"
     },
     "user_tz": 480
    },
    "id": "5sMF3TK9Cktb",
    "outputId": "83f46b5d-8066-40cc-ccb3-dbb36ff190fc"
   },
   "outputs": [
    {
     "name": "stdout",
     "output_type": "stream",
     "text": [
      "Hello, world!\n"
     ]
    }
   ],
   "source": [
    "# Imprimimos en la cosola\n",
    "print(\"Hello, world!\")"
   ]
  },
  {
   "cell_type": "code",
   "execution_count": 67,
   "metadata": {
    "colab": {
     "base_uri": "https://localhost:8080/"
    },
    "executionInfo": {
     "elapsed": 22,
     "status": "ok",
     "timestamp": 1675736124531,
     "user": {
      "displayName": "Matteo Riotto",
      "userId": "15211004813978485634"
     },
     "user_tz": 480
    },
    "id": "gJeu3xlXL2v_",
    "outputId": "06dcd1aa-a7f2-4442-9b97-82f55da18982"
   },
   "outputs": [
    {
     "name": "stdout",
     "output_type": "stream",
     "text": [
      "22\n"
     ]
    }
   ],
   "source": [
    "print(22)"
   ]
  },
  {
   "cell_type": "markdown",
   "metadata": {},
   "source": [
    "### Operadores aritmeticos\n"
   ]
  },
  {
   "cell_type": "markdown",
   "metadata": {},
   "source": [
    "\n",
    " | Operador | Descripción                  |\n",
    "|----------|------------------------------|\n",
    "| +        | Suma                         |\n",
    "| -        | Resta                        |\n",
    "| *        | Multiplicación               |\n",
    "| /        | División                     |\n",
    "| %        | Módulo (resto de la división)|\n",
    "| **       | Exponente                    |\n",
    "| //       | División entera              |\n",
    "\n"
   ]
  },
  {
   "cell_type": "code",
   "execution_count": 68,
   "metadata": {
    "colab": {
     "base_uri": "https://localhost:8080/"
    },
    "executionInfo": {
     "elapsed": 20,
     "status": "ok",
     "timestamp": 1675736124532,
     "user": {
      "displayName": "Matteo Riotto",
      "userId": "15211004813978485634"
     },
     "user_tz": 480
    },
    "id": "hES5Pl57D1ey",
    "outputId": "2acea199-fc6d-425e-f4c9-52e6e391c576"
   },
   "outputs": [
    {
     "data": {
      "text/plain": [
       "3.0"
      ]
     },
     "execution_count": 68,
     "metadata": {},
     "output_type": "execute_result"
    }
   ],
   "source": [
    "# Operadores aritmeticos\n",
    "(5 + 4) / 3"
   ]
  },
  {
   "cell_type": "code",
   "execution_count": 69,
   "metadata": {},
   "outputs": [
    {
     "data": {
      "text/plain": [
       "3.3333333333333335"
      ]
     },
     "execution_count": 69,
     "metadata": {},
     "output_type": "execute_result"
    }
   ],
   "source": [
    "10 / 3  # division comun"
   ]
  },
  {
   "cell_type": "code",
   "execution_count": 70,
   "metadata": {},
   "outputs": [
    {
     "data": {
      "text/plain": [
       "3"
      ]
     },
     "execution_count": 70,
     "metadata": {},
     "output_type": "execute_result"
    }
   ],
   "source": [
    "10 // 3 # division exacta"
   ]
  },
  {
   "cell_type": "code",
   "execution_count": 71,
   "metadata": {},
   "outputs": [
    {
     "data": {
      "text/plain": [
       "1"
      ]
     },
     "execution_count": 71,
     "metadata": {},
     "output_type": "execute_result"
    }
   ],
   "source": [
    "10 % 3 # Devuelve el Resto de la division exacta"
   ]
  },
  {
   "cell_type": "code",
   "execution_count": 72,
   "metadata": {},
   "outputs": [
    {
     "data": {
      "text/plain": [
       "(3, 1)"
      ]
     },
     "execution_count": 72,
     "metadata": {},
     "output_type": "execute_result"
    }
   ],
   "source": [
    "#funcion divmod(numero, divisor) -->  tupla con  (division exacta, resto o modulo) \n",
    "divmod(10,3)"
   ]
  },
  {
   "cell_type": "code",
   "execution_count": null,
   "metadata": {},
   "outputs": [],
   "source": []
  },
  {
   "cell_type": "code",
   "execution_count": 73,
   "metadata": {
    "colab": {
     "base_uri": "https://localhost:8080/"
    },
    "executionInfo": {
     "elapsed": 18,
     "status": "ok",
     "timestamp": 1675736124532,
     "user": {
      "displayName": "Matteo Riotto",
      "userId": "15211004813978485634"
     },
     "user_tz": 480
    },
    "id": "p27cA_crF7tN",
    "outputId": "f45c73b0-1000-416d-d2ff-8e8dc14707fa"
   },
   "outputs": [
    {
     "name": "stdout",
     "output_type": "stream",
     "text": [
      "Argentina\n",
      "48\n"
     ]
    }
   ],
   "source": [
    "# Assignacion de variables \n",
    "pais = 'Argentina'\n",
    "edad = 48\n",
    "\n",
    "print(pais)\n",
    "print(edad)"
   ]
  },
  {
   "cell_type": "code",
   "execution_count": 74,
   "metadata": {},
   "outputs": [
    {
     "name": "stdout",
     "output_type": "stream",
     "text": [
      "1000 entre 30 es : 33 y queda un resto : 10\n"
     ]
    }
   ],
   "source": [
    "# Asignacion Multiple\n",
    "\n",
    "division , resto = divmod(1000, 30)\n",
    "\n",
    "print(\"1000 entre 30 es :\", division , \"y queda un resto :\", resto)"
   ]
  },
  {
   "cell_type": "code",
   "execution_count": 75,
   "metadata": {},
   "outputs": [
    {
     "ename": "SyntaxError",
     "evalue": "cannot assign to operator (254457259.py, line 3)",
     "output_type": "error",
     "traceback": [
      "\u001b[0;36m  Cell \u001b[0;32mIn[75], line 3\u001b[0;36m\u001b[0m\n\u001b[0;31m    10 ** 3 = 1000\u001b[0m\n\u001b[0m    ^\u001b[0m\n\u001b[0;31mSyntaxError\u001b[0m\u001b[0;31m:\u001b[0m cannot assign to operator\n"
     ]
    }
   ],
   "source": [
    "# Evaluations\n",
    "# Se reserva un solo signo igual para las sentencias de asignación.\n",
    "10 ** 3 = 1000"
   ]
  },
  {
   "cell_type": "code",
   "execution_count": null,
   "metadata": {
    "colab": {
     "base_uri": "https://localhost:8080/"
    },
    "executionInfo": {
     "elapsed": 15,
     "status": "ok",
     "timestamp": 1675736124532,
     "user": {
      "displayName": "Matteo Riotto",
      "userId": "15211004813978485634"
     },
     "user_tz": 480
    },
    "id": "r6n08ZCiEKdi",
    "outputId": "0720531d-02ab-4ba2-a307-b63dad7f3bba"
   },
   "outputs": [
    {
     "data": {
      "text/plain": [
       "True"
      ]
     },
     "execution_count": 5,
     "metadata": {},
     "output_type": "execute_result"
    }
   ],
   "source": [
    "# Evaluaciones \n",
    "# Se utilizan signos de igual doble para comprobar la equivalencia.\n",
    "10**3 == 1000"
   ]
  },
  {
   "cell_type": "markdown",
   "metadata": {},
   "source": [
    "### Operadores de comparación en Python:\n"
   ]
  },
  {
   "cell_type": "markdown",
   "metadata": {},
   "source": [
    "\n",
    " | Operador | Descripción                  |\n",
    " |----------|------------------------------|\n",
    "| ==       | Igual a                      |\n",
    "| !=       | Diferente de                 |\n",
    "| >        | Mayor que                    |\n",
    "| <        | Menor que                    |\n",
    "| >=       | Mayor o igual que            |\n",
    "| <=       | Menor o igual que            |"
   ]
  },
  {
   "cell_type": "code",
   "execution_count": null,
   "metadata": {
    "colab": {
     "base_uri": "https://localhost:8080/"
    },
    "executionInfo": {
     "elapsed": 245,
     "status": "ok",
     "timestamp": 1675736125950,
     "user": {
      "displayName": "Matteo Riotto",
      "userId": "15211004813978485634"
     },
     "user_tz": 480
    },
    "id": "yvMdyxd-FEq6",
    "outputId": "97a64756-e618-4a07-8791-87231dd6fb19"
   },
   "outputs": [
    {
     "data": {
      "text/plain": [
       "False"
      ]
     },
     "execution_count": 7,
     "metadata": {},
     "output_type": "execute_result"
    }
   ],
   "source": [
    "# Evaluaciones \n",
    "# Se utilizan signos de igual doble para comprobar la equivalencia.\n",
    "10 * 3 == 40"
   ]
  },
  {
   "cell_type": "code",
   "execution_count": null,
   "metadata": {
    "colab": {
     "base_uri": "https://localhost:8080/"
    },
    "executionInfo": {
     "elapsed": 10,
     "status": "ok",
     "timestamp": 1675736126210,
     "user": {
      "displayName": "Matteo Riotto",
      "userId": "15211004813978485634"
     },
     "user_tz": 480
    },
    "id": "h-YOjdKnGe12",
    "outputId": "2fc324c0-eec8-4c83-93a6-4c31124d30d6"
   },
   "outputs": [
    {
     "data": {
      "text/plain": [
       "False"
      ]
     },
     "execution_count": 54,
     "metadata": {},
     "output_type": "execute_result"
    }
   ],
   "source": [
    "10 * 3 == edad"
   ]
  },
  {
   "cell_type": "code",
   "execution_count": null,
   "metadata": {
    "colab": {
     "base_uri": "https://localhost:8080/"
    },
    "executionInfo": {
     "elapsed": 7,
     "status": "ok",
     "timestamp": 1675736126211,
     "user": {
      "displayName": "Matteo Riotto",
      "userId": "15211004813978485634"
     },
     "user_tz": 480
    },
    "id": "ftY6MD7qG5dw",
    "outputId": "a4ad7039-f201-4214-be2f-8dfe84d1d3be"
   },
   "outputs": [
    {
     "name": "stdout",
     "output_type": "stream",
     "text": [
      "adulto\n"
     ]
    }
   ],
   "source": [
    "# Condidionales \n",
    "if edad >= 18:\n",
    "    print('adulto')\n",
    "else:\n",
    "    print('menor')"
   ]
  },
  {
   "cell_type": "code",
   "execution_count": null,
   "metadata": {
    "colab": {
     "base_uri": "https://localhost:8080/"
    },
    "executionInfo": {
     "elapsed": 7,
     "status": "ok",
     "timestamp": 1675736126678,
     "user": {
      "displayName": "Matteo Riotto",
      "userId": "15211004813978485634"
     },
     "user_tz": 480
    },
    "id": "osXZv2Z3Ir5f",
    "outputId": "85f326b8-d81e-4645-ac7b-01f99303a4b3"
   },
   "outputs": [
    {
     "name": "stdout",
     "output_type": "stream",
     "text": [
      "1\n",
      "4\n",
      "9\n",
      "16\n",
      "25\n"
     ]
    }
   ],
   "source": [
    "# Bucles\n",
    "for numero in [1, 2, 3, 4, 5]:\n",
    "    print(numero ** 2)"
   ]
  },
  {
   "cell_type": "code",
   "execution_count": null,
   "metadata": {
    "colab": {
     "base_uri": "https://localhost:8080/"
    },
    "executionInfo": {
     "elapsed": 6,
     "status": "ok",
     "timestamp": 1675736126679,
     "user": {
      "displayName": "Matteo Riotto",
      "userId": "15211004813978485634"
     },
     "user_tz": 480
    },
    "id": "ooFaKQKmI1JG",
    "outputId": "aede7c87-2d72-4131-d246-71683a9cf179"
   },
   "outputs": [
    {
     "name": "stdout",
     "output_type": "stream",
     "text": [
      "3.0\n",
      "2.0\n",
      "1.0\n"
     ]
    }
   ],
   "source": [
    "# Loops\n",
    "my_list = [3, 6, 9]\n",
    "\n",
    "for x in my_list[::-1]:\n",
    "    print(x / 3)"
   ]
  },
  {
   "cell_type": "code",
   "execution_count": null,
   "metadata": {
    "id": "Y4WB1X7qJZ-B"
   },
   "outputs": [],
   "source": [
    "# Funciones\n",
    "def es_adulto(edad):\n",
    "\n",
    "    if edad >= 18:\n",
    "        print('adulto')\n",
    "    else:\n",
    "        print('menor')"
   ]
  },
  {
   "cell_type": "code",
   "execution_count": null,
   "metadata": {
    "colab": {
     "base_uri": "https://localhost:8080/"
    },
    "executionInfo": {
     "elapsed": 6,
     "status": "ok",
     "timestamp": 1675736126930,
     "user": {
      "displayName": "Matteo Riotto",
      "userId": "15211004813978485634"
     },
     "user_tz": 480
    },
    "id": "7WLu8M3YJ5JK",
    "outputId": "23cb6465-2306-4c17-f0c3-543ec30395c0"
   },
   "outputs": [
    {
     "name": "stdout",
     "output_type": "stream",
     "text": [
      "menor\n"
     ]
    }
   ],
   "source": [
    "# la funcion se llama pasando el argumento entre parentesis\n",
    "es_adulto(14)"
   ]
  },
  {
   "cell_type": "code",
   "execution_count": null,
   "metadata": {
    "colab": {
     "base_uri": "https://localhost:8080/"
    },
    "executionInfo": {
     "elapsed": 3,
     "status": "ok",
     "timestamp": 1675736127163,
     "user": {
      "displayName": "Matteo Riotto",
      "userId": "15211004813978485634"
     },
     "user_tz": 480
    },
    "id": "1EAHtCadKYJC",
    "outputId": "d92c5287-f4d3-4dbe-ae37-c364f13ce80c"
   },
   "outputs": [
    {
     "data": {
      "text/plain": [
       "[5, 10, 20, 25]"
      ]
     },
     "execution_count": 7,
     "metadata": {},
     "output_type": "execute_result"
    }
   ],
   "source": [
    "# Usa la función integrada sorted(). Devuelve una lista nueva ordenada\n",
    "new_list = [20, 25, 10, 5]\n",
    "\n",
    "sorted(new_list)"
   ]
  },
  {
   "cell_type": "markdown",
   "metadata": {
    "id": "ph8jKhMwscpk"
   },
   "source": [
    "## 2. Jupyter Notebooks"
   ]
  },
  {
   "cell_type": "markdown",
   "metadata": {
    "id": "hIcjattNs4cF"
   },
   "source": [
    "**NOTA:** La celda de declaraciones de importación debe ejecutarse antes de ejecutar algunas de las siguientes celdas. Este paso de configuración no se mostró en el video instructivo, pero aprenderá sobre las declaraciones de importación más adelante en este curso.\n"
   ]
  },
  {
   "cell_type": "code",
   "execution_count": null,
   "metadata": {
    "id": "SMuQ2GpoKcZF"
   },
   "outputs": [],
   "source": [
    "import numpy as np\n",
    "import pandas as pd\n",
    "import matplotlib.pyplot as plt\n",
    "from mpl_toolkits.mplot3d import Axes3D\n",
    "import seaborn as sns"
   ]
  },
  {
   "cell_type": "code",
   "execution_count": null,
   "metadata": {
    "id": "QwGnd7_tiBsa"
   },
   "outputs": [],
   "source": [
    "# creamos una lista\n",
    "my_lista = [10, 'oro', 'dolar']"
   ]
  },
  {
   "cell_type": "code",
   "execution_count": null,
   "metadata": {
    "id": "B8iaVsg_KeEq"
   },
   "outputs": [],
   "source": [
    "# Utiliza la función auxiliar para calcular la puntuación F1 utilizada en las siguientes gráficas.\n",
    "def f1_score(precision, recall):\n",
    "    # \"Recall\" en español se traduce como \"recuperación\" o \"tasa de verdaderos positivos\".\n",
    "    puntuacion = 2 * precision * recall / (precision + recall)\n",
    "    puntuacion = np.nan_to_num(puntuacion)\n",
    "    return puntuacion"
   ]
  },
  {
   "cell_type": "code",
   "execution_count": null,
   "metadata": {
    "colab": {
     "base_uri": "https://localhost:8080/",
     "height": 575
    },
    "executionInfo": {
     "elapsed": 1129,
     "status": "ok",
     "timestamp": 1675802214077,
     "user": {
      "displayName": "Matteo Riotto",
      "userId": "15211004813978485634"
     },
     "user_tz": 480
    },
    "id": "3x8mCn-GKlnV",
    "outputId": "16b1be41-a134-49a1-ad6e-4b83c3afe3ce"
   },
   "outputs": [
    {
     "data": {
      "image/png": "[encoded data removed]",
      "text/plain": [
       "<Figure size 1000x1000 with 1 Axes>"
      ]
     },
     "metadata": {},
     "output_type": "display_data"
    }
   ],
   "source": [
    "# Generate a graph of F1 score for different precision and recall scores.\n",
    "x = np.linspace(0.1, 1, 101)\n",
    "y = np.linspace(0.1, 1, 101)\n",
    "X, Y = np.meshgrid(x, y)\n",
    "Z = f1_score(X, Y)\n",
    "fig = plt.figure()\n",
    "fig.set_size_inches(10, 10)\n",
    "ax = plt.axes(projection='3d')\n",
    "ax.plot_surface(X, Y, Z, rstride=2, cstride=3, cmap='plasma')\n",
    "\n",
    "ax.set_title('$F_{1}$ of precision, recall', size=18)\n",
    "ax.set_xlabel('x')\n",
    "ax.set_ylabel('y')\n",
    "ax.set_zlabel('z')\n",
    "ax.view_init(35, -65)"
   ]
  },
  {
   "cell_type": "markdown",
   "metadata": {
    "id": "m0OFMuQKtwG8"
   },
   "source": [
    "**NOTA:** Las siguientes celdas utilizan markdown (como esta celda) para crear texto con formato como encabezados, viñetas, tablas y ecuaciones matemáticas. Puede seleccionar cualquier celda y entrar en modo de edición para ver el texto en markdown. Luego ejecute la celda para ver la salida renderizada."
   ]
  },
  {
   "cell_type": "markdown",
   "metadata": {
    "id": "KxoyQh6lmTco"
   },
   "source": [
    "### **Seccion 2**\n",
    "\n",
    "* Parte 1:\n",
    "* Parte 2:"
   ]
  },
  {
   "cell_type": "markdown",
   "metadata": {
    "id": "si90CAMZmpeR"
   },
   "source": [
    "```markdown\n",
    "\n",
    " |Título|Autor|Fecha|\n",
    "|:--|:--|:-:|\n",
    "|El Arte de la Guerra|Sun Tzu|Siglo V a.C.|\n",
    "|Don Quijote de la Mancha|Miguel de Cervantes Saavedra|1605|\n",
    "|Orgullo y Prejuicio|Jane Austen|1813|\n",
    "\n",
    "\n",
    "```\n",
    "\n",
    " |Título|Autor|Fecha|\n",
    "|:--|:--|:-:|\n",
    "|El Arte de la Guerra|Sun Tzu|Siglo V a.C.|\n",
    "|Don Quijote de la Mancha|Miguel de Cervantes Saavedra|1605|\n",
    "|Orgullo y Prejuicio|Jane Austen|1813|\n"
   ]
  },
  {
   "cell_type": "markdown",
   "metadata": {
    "id": "9h88IBlXtAwI"
   },
   "source": [
    "```markdown\n",
    "$$\n",
    "  \\int_0^\\infty \\frac{x^3}{e^x-1}\\,dx = \\frac{\\pi^4}{15}\n",
    "$$\n",
    "```\n",
    "\n",
    "\n",
    "$$\n",
    "  \\int_0^\\infty \\frac{x^3}{e^x-1}\\,dx = \\frac{\\pi^4}{15}\n",
    "$$"
   ]
  },
  {
   "cell_type": "markdown",
   "metadata": {},
   "source": []
  },
  {
   "cell_type": "markdown",
   "metadata": {
    "id": "eMDQonzy95-R"
   },
   "source": [
    "## 3. Programacion Orientada a Objetos"
   ]
  },
  {
   "cell_type": "code",
   "execution_count": null,
   "metadata": {
    "colab": {
     "base_uri": "https://localhost:8080/"
    },
    "executionInfo": {
     "elapsed": 238,
     "status": "ok",
     "timestamp": 1676666706335,
     "user": {
      "displayName": "Matteo Riotto",
      "userId": "15211004813978485634"
     },
     "user_tz": 480
    },
    "id": "d9v_vvwvBdRF",
    "outputId": "74bf7216-c556-4361-ddec-442ff432a76f"
   },
   "outputs": [
    {
     "name": "stdout",
     "output_type": "stream",
     "text": [
      "<class 'str'>\n"
     ]
    }
   ],
   "source": [
    "# Assigna un string  a una  variable y comprueba su tipo o clase.\n",
    "magic = 'HOCUS POCUS'\n",
    "print(type(magic))"
   ]
  },
  {
   "cell_type": "code",
   "execution_count": null,
   "metadata": {
    "colab": {
     "base_uri": "https://localhost:8080/",
     "height": 35
    },
    "executionInfo": {
     "elapsed": 9,
     "status": "ok",
     "timestamp": 1676666706802,
     "user": {
      "displayName": "Matteo Riotto",
      "userId": "15211004813978485634"
     },
     "user_tz": 480
    },
    "id": "38v6rsUbk_M-",
    "outputId": "04d22e54-2f73-4716-e185-4196cb18ceb1"
   },
   "outputs": [
    {
     "data": {
      "text/plain": [
       "'hocus pocus'"
      ]
     },
     "execution_count": 21,
     "metadata": {},
     "output_type": "execute_result"
    }
   ],
   "source": [
    "# Usa el metodo de la clase str lower() para convertir a minusculas.\n",
    "magic = 'HOCUS POCUS'\n",
    "magic = magic.lower()\n",
    "magic"
   ]
  },
  {
   "cell_type": "code",
   "execution_count": null,
   "metadata": {
    "colab": {
     "base_uri": "https://localhost:8080/",
     "height": 35
    },
    "executionInfo": {
     "elapsed": 10,
     "status": "ok",
     "timestamp": 1676666707543,
     "user": {
      "displayName": "Matteo Riotto",
      "userId": "15211004813978485634"
     },
     "user_tz": 480
    },
    "id": "QG-RN_IkAGAG",
    "outputId": "7909a3a2-847f-489f-a6be-4ed768cf7786"
   },
   "outputs": [
    {
     "data": {
      "text/plain": [
       "'hokey pokey'"
      ]
     },
     "execution_count": 21,
     "metadata": {},
     "output_type": "execute_result"
    }
   ],
   "source": [
    "# Use the replace() string method to replace some letters with other letters.\n",
    "magic = magic.replace('cus', 'key')\n",
    "magic"
   ]
  },
  {
   "cell_type": "code",
   "execution_count": null,
   "metadata": {
    "colab": {
     "base_uri": "https://localhost:8080/"
    },
    "executionInfo": {
     "elapsed": 6,
     "status": "ok",
     "timestamp": 1676666709870,
     "user": {
      "displayName": "Matteo Riotto",
      "userId": "15211004813978485634"
     },
     "user_tz": 480
    },
    "id": "i8UDnzMNAVt5",
    "outputId": "246e5a42-55d7-4732-e746-4d85bd6cf120"
   },
   "outputs": [
    {
     "data": {
      "text/plain": [
       "['hocus', 'pocus']"
      ]
     },
     "execution_count": 22,
     "metadata": {},
     "output_type": "execute_result"
    }
   ],
   "source": [
    "#Usa el metodo de la clase str split() para convertir en una lista con los substring \n",
    "# separados por un espacio\n",
    "magic = magic.split()\n",
    "magic"
   ]
  },
  {
   "cell_type": "code",
   "execution_count": null,
   "metadata": {},
   "outputs": [
    {
     "data": {
      "text/plain": [
       "['Analitica', 'ciencia', 'datos', 'del', 'negocio']"
      ]
     },
     "execution_count": 23,
     "metadata": {},
     "output_type": "execute_result"
    }
   ],
   "source": [
    "# ejemplo de split con otro separador\n",
    "text = \"Analitica_ciencia_datos_del_negocio\".split(\"_\")\n",
    "\n",
    "text\n",
    "\n"
   ]
  },
  {
   "cell_type": "code",
   "execution_count": null,
   "metadata": {
    "id": "ydBUn9DNAhAu"
   },
   "outputs": [],
   "source": [
    "# Set up the cell to create the `planets` dataframe.\n",
    "# (This cell was not shown in the instructional video.)\n",
    "import pandas as pd\n",
    "data = [['Mercurio', 2440, 0], \n",
    "        ['Venus',    6052, 0,], \n",
    "        ['Tierra',   6371, 1],\n",
    "        ['Marte',    3390, 2], \n",
    "        ['Jupiter', 69911, 80], \n",
    "        ['Saturno', 58232, 83],\n",
    "        ['Urano',   25362, 27], \n",
    "        ['Neptuno', 24622, 14]\n",
    "]\n",
    "\n",
    "cols = ['Planeta', 'radio_km', 'lunas']\n",
    "\n",
    "planets = pd.DataFrame(data, columns=cols)"
   ]
  },
  {
   "cell_type": "code",
   "execution_count": null,
   "metadata": {
    "colab": {
     "base_uri": "https://localhost:8080/",
     "height": 300
    },
    "executionInfo": {
     "elapsed": 8,
     "status": "ok",
     "timestamp": 1676665979783,
     "user": {
      "displayName": "Matteo Riotto",
      "userId": "15211004813978485634"
     },
     "user_tz": 480
    },
    "id": "yVX80zdzE9TY",
    "outputId": "cb35b6ed-c035-475b-a266-72218c5903d6"
   },
   "outputs": [
    {
     "data": {
      "text/html": [
       "<div>\n",
       "<style scoped>\n",
       "    .dataframe tbody tr th:only-of-type {\n",
       "        vertical-align: middle;\n",
       "    }\n",
       "\n",
       "    .dataframe tbody tr th {\n",
       "        vertical-align: top;\n",
       "    }\n",
       "\n",
       "    .dataframe thead th {\n",
       "        text-align: right;\n",
       "    }\n",
       "</style>\n",
       "<table border=\"1\" class=\"dataframe\">\n",
       "  <thead>\n",
       "    <tr style=\"text-align: right;\">\n",
       "      <th></th>\n",
       "      <th>Planeta</th>\n",
       "      <th>radio_km</th>\n",
       "      <th>lunas</th>\n",
       "    </tr>\n",
       "  </thead>\n",
       "  <tbody>\n",
       "    <tr>\n",
       "      <th>0</th>\n",
       "      <td>Mercurio</td>\n",
       "      <td>2440</td>\n",
       "      <td>0</td>\n",
       "    </tr>\n",
       "    <tr>\n",
       "      <th>1</th>\n",
       "      <td>Venus</td>\n",
       "      <td>6052</td>\n",
       "      <td>0</td>\n",
       "    </tr>\n",
       "    <tr>\n",
       "      <th>2</th>\n",
       "      <td>Tierra</td>\n",
       "      <td>6371</td>\n",
       "      <td>1</td>\n",
       "    </tr>\n",
       "    <tr>\n",
       "      <th>3</th>\n",
       "      <td>Marte</td>\n",
       "      <td>3390</td>\n",
       "      <td>2</td>\n",
       "    </tr>\n",
       "    <tr>\n",
       "      <th>4</th>\n",
       "      <td>Jupiter</td>\n",
       "      <td>69911</td>\n",
       "      <td>80</td>\n",
       "    </tr>\n",
       "    <tr>\n",
       "      <th>5</th>\n",
       "      <td>Saturno</td>\n",
       "      <td>58232</td>\n",
       "      <td>83</td>\n",
       "    </tr>\n",
       "    <tr>\n",
       "      <th>6</th>\n",
       "      <td>Urano</td>\n",
       "      <td>25362</td>\n",
       "      <td>27</td>\n",
       "    </tr>\n",
       "    <tr>\n",
       "      <th>7</th>\n",
       "      <td>Neptuno</td>\n",
       "      <td>24622</td>\n",
       "      <td>14</td>\n",
       "    </tr>\n",
       "  </tbody>\n",
       "</table>\n",
       "</div>"
      ],
      "text/plain": [
       "    Planeta  radio_km  lunas\n",
       "0  Mercurio      2440      0\n",
       "1     Venus      6052      0\n",
       "2    Tierra      6371      1\n",
       "3     Marte      3390      2\n",
       "4   Jupiter     69911     80\n",
       "5   Saturno     58232     83\n",
       "6     Urano     25362     27\n",
       "7   Neptuno     24622     14"
      ]
     },
     "execution_count": 25,
     "metadata": {},
     "output_type": "execute_result"
    }
   ],
   "source": [
    "# Display the `planets` dataframe.\n",
    "planets"
   ]
  },
  {
   "cell_type": "code",
   "execution_count": null,
   "metadata": {
    "colab": {
     "base_uri": "https://localhost:8080/"
    },
    "executionInfo": {
     "elapsed": 209,
     "status": "ok",
     "timestamp": 1676667225653,
     "user": {
      "displayName": "Matteo Riotto",
      "userId": "15211004813978485634"
     },
     "user_tz": 480
    },
    "id": "Kjm_3B5RFIDX",
    "outputId": "b24fc1b2-19fd-4731-f674-05dcde0bdec6"
   },
   "outputs": [
    {
     "data": {
      "text/plain": [
       "(8, 3)"
      ]
     },
     "execution_count": 25,
     "metadata": {},
     "output_type": "execute_result"
    }
   ],
   "source": [
    "# ver la forma de un dataframe\n",
    "planets.shape"
   ]
  },
  {
   "cell_type": "code",
   "execution_count": null,
   "metadata": {
    "colab": {
     "base_uri": "https://localhost:8080/"
    },
    "executionInfo": {
     "elapsed": 5,
     "status": "ok",
     "timestamp": 1676667290513,
     "user": {
      "displayName": "Matteo Riotto",
      "userId": "15211004813978485634"
     },
     "user_tz": 480
    },
    "id": "ZS0U3IA-F_p3",
    "outputId": "108a4691-c9a8-4b29-9f4c-0818cf2f9b33"
   },
   "outputs": [
    {
     "data": {
      "text/plain": [
       "Index(['Planeta', 'radio_km', 'lunas'], dtype='object')"
      ]
     },
     "execution_count": 26,
     "metadata": {},
     "output_type": "execute_result"
    }
   ],
   "source": [
    "# Use el atributo  columns del dataframe para ver los nombres de las columnas.\n",
    "planets.columns"
   ]
  },
  {
   "cell_type": "markdown",
   "metadata": {
    "id": "lt5itAQsvOoK"
   },
   "source": [
    "<a name=\"4\"></a>\n",
    "## 4. Variables "
   ]
  },
  {
   "cell_type": "code",
   "execution_count": null,
   "metadata": {
    "id": "BGEiZrllq1D-"
   },
   "outputs": [],
   "source": [
    "# Assignamos una lista conteniendo la edad de los participantes.\n",
    "lista_edades = [34, 25, 23, 19, 29]"
   ]
  },
  {
   "cell_type": "code",
   "execution_count": null,
   "metadata": {
    "colab": {
     "base_uri": "https://localhost:8080/"
    },
    "executionInfo": {
     "elapsed": 192,
     "status": "ok",
     "timestamp": 1675827748975,
     "user": {
      "displayName": "Matteo Riotto",
      "userId": "15211004813978485634"
     },
     "user_tz": 480
    },
    "id": "m-3D5eTYtOzl",
    "outputId": "54791b86-c402-4651-819e-f428fb8a34c6"
   },
   "outputs": [
    {
     "data": {
      "text/plain": [
       "34"
      ]
     },
     "execution_count": 28,
     "metadata": {},
     "output_type": "execute_result"
    }
   ],
   "source": [
    "# Busmamos la edad maxima y assignamos  a la variable `max_edad`.\n",
    "max_edad = max(lista_edades)\n",
    "max_edad"
   ]
  },
  {
   "cell_type": "code",
   "execution_count": null,
   "metadata": {
    "colab": {
     "base_uri": "https://localhost:8080/",
     "height": 35
    },
    "executionInfo": {
     "elapsed": 261,
     "status": "ok",
     "timestamp": 1675825819149,
     "user": {
      "displayName": "Matteo Riotto",
      "userId": "15211004813978485634"
     },
     "user_tz": 480
    },
    "id": "qha0MC1W0pf-",
    "outputId": "ef2d2f00-bbc3-44c8-af01-c18f8011618c"
   },
   "outputs": [
    {
     "data": {
      "text/plain": [
       "'34'"
      ]
     },
     "execution_count": 29,
     "metadata": {},
     "output_type": "execute_result"
    }
   ],
   "source": [
    "# Convertimos `max_edad`  a un  string.\n",
    "max_edad = str(max_edad)\n",
    "max_edad"
   ]
  },
  {
   "cell_type": "code",
   "execution_count": null,
   "metadata": {
    "colab": {
     "base_uri": "https://localhost:8080/",
     "height": 35
    },
    "executionInfo": {
     "elapsed": 21,
     "status": "ok",
     "timestamp": 1675825819150,
     "user": {
      "displayName": "Matteo Riotto",
      "userId": "15211004813978485634"
     },
     "user_tz": 480
    },
    "id": "BLdS_auT0qQp",
    "outputId": "1e669938-c4ef-470b-ee39-afba8d80238a"
   },
   "outputs": [
    {
     "data": {
      "text/plain": [
       "'treinta y cuatro'"
      ]
     },
     "execution_count": 30,
     "metadata": {},
     "output_type": "execute_result"
    }
   ],
   "source": [
    "# Reasignamos el valor de `max_edad`.\n",
    "max_edad = 'treinta y cuatro'\n",
    "max_edad"
   ]
  },
  {
   "cell_type": "code",
   "execution_count": null,
   "metadata": {
    "colab": {
     "base_uri": "https://localhost:8080/"
    },
    "executionInfo": {
     "elapsed": 183,
     "status": "ok",
     "timestamp": 1675827961363,
     "user": {
      "displayName": "Matteo Riotto",
      "userId": "15211004813978485634"
     },
     "user_tz": 480
    },
    "id": "2BiVcYOv0uqh",
    "outputId": "de794512-17f5-4ed9-e813-09287931f063"
   },
   "outputs": [
    {
     "ename": "TypeError",
     "evalue": "unsupported operand type(s) for -: 'str' and 'int'",
     "output_type": "error",
     "traceback": [
      "\u001b[0;31m---------------------------------------------------------------------------\u001b[0m",
      "\u001b[0;31mTypeError\u001b[0m                                 Traceback (most recent call last)",
      "Cell \u001b[0;32mIn[31], line 5\u001b[0m\n\u001b[1;32m      2\u001b[0m min_edad \u001b[39m=\u001b[39m \u001b[39mmin\u001b[39m(lista_edades)\n\u001b[1;32m      4\u001b[0m \u001b[39m# Tratamos de hacer la diferencia\u001b[39;00m\n\u001b[0;32m----> 5\u001b[0m max_edad \u001b[39m-\u001b[39;49m min_edad\n",
      "\u001b[0;31mTypeError\u001b[0m: unsupported operand type(s) for -: 'str' and 'int'"
     ]
    }
   ],
   "source": [
    "# Busmamos la edad minima y assignamos  a la variable `min_edad`.\n",
    "min_edad = min(lista_edades)\n",
    "\n",
    "# Tratamos de hacer la diferencia\n",
    "max_edad - min_edad"
   ]
  },
  {
   "cell_type": "markdown",
   "metadata": {},
   "source": [
    "leemos en el error \"unsupported operand type(s) for -: 'str' and 'int'\" , no se puede usar el operador - entre `str` e `int``"
   ]
  },
  {
   "cell_type": "code",
   "execution_count": null,
   "metadata": {},
   "outputs": [
    {
     "data": {
      "text/plain": [
       "15"
      ]
     },
     "execution_count": 34,
     "metadata": {},
     "output_type": "execute_result"
    }
   ],
   "source": [
    "# Busmamos la edad minima y assignamos  a la variable `min_edad`.\n",
    "min_edad = min(lista_edades)\n",
    "max_edad = max(lista_edades)\n",
    "# Tratamos de hacer la diferencia\n",
    "rango_de_edad = max_edad - min_edad\n",
    "rango_de_edad"
   ]
  },
  {
   "cell_type": "code",
   "execution_count": null,
   "metadata": {},
   "outputs": [
    {
     "name": "stdout",
     "output_type": "stream",
     "text": [
      "De la lista de participantes:\n",
      "Hay un total de 5 las edades van entre 19 y 34\n",
      "con un promedio de edad de : 26.0\n",
      "\n"
     ]
    }
   ],
   "source": [
    "# Buscamos la cantidad de datos en la lista \n",
    "cantidad = len(lista_edades)\n",
    "# Tambien podemos usar la funcion sum que nos suma los elementos de una lista si es factible\n",
    "suma = sum(lista_edades)\n",
    "promedio = suma/cantidad\n",
    "\n",
    "print(\"\"\"De la lista de participantes:\n",
    "Hay un total de {} las edades van entre {} y {}\n",
    "con un promedio de edad de : {}\n",
    "\"\"\".format(cantidad,min_edad, max_edad,promedio))"
   ]
  },
  {
   "cell_type": "code",
   "execution_count": null,
   "metadata": {
    "colab": {
     "base_uri": "https://localhost:8080/",
     "height": 131
    },
    "executionInfo": {
     "elapsed": 11,
     "status": "error",
     "timestamp": 1675886997230,
     "user": {
      "displayName": "Matteo Riotto",
      "userId": "15211004813978485634"
     },
     "user_tz": 480
    },
    "id": "cpZehk3ndHH-",
    "outputId": "18247e87-78e5-4fd7-eff5-ad60bba2e5ad"
   },
   "outputs": [
    {
     "ename": "SyntaxError",
     "evalue": "invalid syntax (<ipython-input-33-08508b40f0c8>, line 2)",
     "output_type": "error",
     "traceback": [
      "\u001b[0;36m  File \u001b[0;32m\"<ipython-input-33-08508b40f0c8>\"\u001b[0;36m, line \u001b[0;32m2\u001b[0m\n\u001b[0;31m    else = 'everyone loves some esparagus'\u001b[0m\n\u001b[0m       ^\u001b[0m\n\u001b[0;31mSyntaxError\u001b[0m\u001b[0;31m:\u001b[0m invalid syntax\n"
     ]
    }
   ],
   "source": [
    "# Es imposible asignar un valor a palabras claves del idioma como if, else, for. def ...\n",
    "else = 'everyone loves some esparagus'"
   ]
  },
  {
   "cell_type": "markdown",
   "metadata": {},
   "source": [
    "> Ojo que si se puede usar los nombres de funciónes integradas como print, input, type, max, min, sum, .... **Algo siempre altamente NO RECOMENDABLE** "
   ]
  },
  {
   "cell_type": "markdown",
   "metadata": {},
   "source": [
    "## Define funciones y retorna valores\n"
   ]
  },
  {
   "cell_type": "code",
   "execution_count": null,
   "metadata": {},
   "outputs": [
    {
     "name": "stdout",
     "output_type": "stream",
     "text": [
      "Buen dia\n"
     ]
    }
   ],
   "source": [
    "\n",
    "# La funcion print() imprime texto en la pantalla.\n",
    "print('Buen dia')\n"
   ]
  },
  {
   "cell_type": "code",
   "execution_count": null,
   "metadata": {},
   "outputs": [
    {
     "name": "stdout",
     "output_type": "stream",
     "text": [
      "Buen Dia, Rebecca!\n",
      "Ya sos parte del equipo\n"
     ]
    }
   ],
   "source": [
    "\n",
    "# Define a function.\n",
    "def saludo(parametro):\n",
    "\n",
    "    print('Buen Dia, ' + parametro + '!')\n",
    "    print('Ya sos parte del equipo')\n",
    "\n",
    "saludo('Rebecca')\n",
    "\n"
   ]
  },
  {
   "cell_type": "code",
   "execution_count": null,
   "metadata": {},
   "outputs": [
    {
     "data": {
      "text/plain": [
       "20.5"
      ]
     },
     "execution_count": 48,
     "metadata": {},
     "output_type": "execute_result"
    }
   ],
   "source": [
    "\n",
    "def area_triangulo(base, altura):\n",
    "    return base * altura / 2\n",
    "\n",
    "\n",
    "area_a = area_triangulo(5, 4)\n",
    "area_b = area_triangulo(7, 3)\n",
    "total_area = area_a + area_b\n",
    "total_area\n"
   ]
  },
  {
   "cell_type": "code",
   "execution_count": null,
   "metadata": {},
   "outputs": [
    {
     "data": {
      "text/plain": [
       "60320"
      ]
     },
     "execution_count": 49,
     "metadata": {},
     "output_type": "execute_result"
    }
   ],
   "source": [
    "# Define una funcion que convierte horas, minutos, y segundos a un total de segundos.\n",
    "def total_segundos(horas, minutos, segundos):\n",
    "    total = 3600 * horas + 60 * minutos + segundos\n",
    "    return total\n",
    "\n",
    "\n",
    "total_segundos(16, 45, 20)\n"
   ]
  },
  {
   "cell_type": "code",
   "execution_count": null,
   "metadata": {},
   "outputs": [
    {
     "name": "stdout",
     "output_type": "stream",
     "text": [
      "Hola Marisol. Tu número de la suerte es 63\n",
      "Hola Ardashir. Tu número de la suerte es 72\n"
     ]
    }
   ],
   "source": [
    "# Este código hace lo mismo para dos personas diferentes.\n",
    "\n",
    "nombre = \"Marisol\"\n",
    "numero = len(nombre)*9\n",
    "print(\"Hola \" + nombre + \". Tu número de la suerte es \" + str(numero))\n",
    "\n",
    "nombre = \"Ardashir\"\n",
    "numero = len(nombre)*9\n",
    "print(\"Hola \" + nombre + \". Tu número de la suerte es \" + str(numero))"
   ]
  },
  {
   "cell_type": "code",
   "execution_count": null,
   "metadata": {},
   "outputs": [
    {
     "name": "stdout",
     "output_type": "stream",
     "text": [
      "Hola Marisol. Tu número de la suerte es 63\n",
      "Hola Ardashir. Tu número de la suerte es 72\n"
     ]
    }
   ],
   "source": [
    "# Define a function that simplifies the above code and makes it reusable.\n",
    "def num_suerte(parametro):\n",
    "    numero = len(parametro)*9\n",
    "    print(\"Hola \" + parametro + \". Tu número de la suerte es \" + str(numero))\n",
    "\n",
    "num_suerte(\"Marisol\")\n",
    "num_suerte(\"Ardashir\")\n"
   ]
  },
  {
   "cell_type": "code",
   "execution_count": null,
   "metadata": {},
   "outputs": [
    {
     "name": "stdout",
     "output_type": "stream",
     "text": [
      "1\n",
      "2\n",
      "6\n",
      "24\n",
      "120\n"
     ]
    }
   ],
   "source": [
    "# Este código solicita un número al usuario y devuelve su factorial,\n",
    "# imprimiendo cada iteración de la multiplicación.\n",
    "a = input() \n",
    "y = 1\n",
    "\n",
    "for i in range(int(a)):\n",
    "    y = y * (i+1)\n",
    "    print(y)\n"
   ]
  },
  {
   "cell_type": "code",
   "execution_count": null,
   "metadata": {},
   "outputs": [
    {
     "name": "stdout",
     "output_type": "stream",
     "text": [
      "120\n"
     ]
    }
   ],
   "source": [
    "\n",
    "# Esta función toma un número entero como entrada y devuelve su factorial.\n",
    "def factorial(n):\n",
    "    # Excluye 0 como producto, comienza con 1\n",
    "    y = 1\n",
    "    for i in range(int(n)):\n",
    "        y = y*(i+1)\n",
    "    return y\n",
    "\n",
    "\n",
    "# Ingresa un valor numérico entre 1 y 9 en la línea de comandos que aparece.\n",
    "\n",
    "input_num = input()\n",
    "\n",
    "# Aplica la función factorial a la entrada entera\n",
    "\n",
    "print(factorial(input_num))\n",
    "\n"
   ]
  },
  {
   "cell_type": "markdown",
   "metadata": {},
   "source": [
    "## Uso de DocsStrings"
   ]
  },
  {
   "cell_type": "code",
   "execution_count": null,
   "metadata": {},
   "outputs": [],
   "source": [
    "def seed_calculator(lado_fuente, ancho_cesped):\n",
    "    \"\"\"\n",
    "    Calcula la cantidad de kilogramos de semilla de césped necesarios para\n",
    "    un borde alrededor de una fuente cuadrada.\n",
    "         \n",
    "    Parámetros:\n",
    "            lado_fuente (num): longitud de un lado de la fuente en metros\n",
    "            ancho_cesped (num): ancho del borde de césped en metros\n",
    "    \n",
    "    Retorna:\n",
    "            semilla (float): cantidad de semilla (kg) necesaria para el borde de césped\n",
    "    \"\"\"\n",
    "    \n",
    "    # Área de la fuente\n",
    "    area_fuente = lado_fuente**2\n",
    "    \n",
    "    # Área total\n",
    "    area_total = (lado_fuente + 2 * ancho_cesped)**2\n",
    "    \n",
    "    # Área del borde de césped\n",
    "    area_cesped = area_total - area_fuente\n",
    "    \n",
    "    # Cantidad de semilla necesaria (35 g/m²)\n",
    "    semilla = area_cesped * 35\n",
    "    \n",
    "    # Convertir a kg\n",
    "    semilla = semilla / 1000\n",
    "     \n",
    "    return semilla\n"
   ]
  },
  {
   "cell_type": "code",
   "execution_count": null,
   "metadata": {},
   "outputs": [
    {
     "name": "stdout",
     "output_type": "stream",
     "text": [
      "\u001b[0;31mSignature:\u001b[0m \u001b[0mseed_calculator\u001b[0m\u001b[0;34m(\u001b[0m\u001b[0mlado_fuente\u001b[0m\u001b[0;34m,\u001b[0m \u001b[0mancho_cesped\u001b[0m\u001b[0;34m)\u001b[0m\u001b[0;34m\u001b[0m\u001b[0;34m\u001b[0m\u001b[0m\n",
      "\u001b[0;31mDocstring:\u001b[0m\n",
      "Calcula la cantidad de kilogramos de semilla de césped necesarios para\n",
      "un borde alrededor de una fuente cuadrada.\n",
      "     \n",
      "Parámetros:\n",
      "        lado_fuente (num): longitud de un lado de la fuente en metros\n",
      "        ancho_cesped (num): ancho del borde de césped en metros\n",
      "\n",
      "Retorna:\n",
      "        semilla (float): cantidad de semilla (kg) necesaria para el borde de césped\n",
      "\u001b[0;31mFile:\u001b[0m      /tmp/ipykernel_262224/774812736.py\n",
      "\u001b[0;31mType:\u001b[0m      function"
     ]
    }
   ],
   "source": [
    "seed_calculator?   # solo para el uso en jupyters"
   ]
  },
  {
   "cell_type": "code",
   "execution_count": null,
   "metadata": {},
   "outputs": [
    {
     "name": "stdout",
     "output_type": "stream",
     "text": [
      "Help on function seed_calculator in module __main__:\n",
      "\n",
      "seed_calculator(lado_fuente, ancho_cesped)\n",
      "    Calcula la cantidad de kilogramos de semilla de césped necesarios para\n",
      "    un borde alrededor de una fuente cuadrada.\n",
      "         \n",
      "    Parámetros:\n",
      "            lado_fuente (num): longitud de un lado de la fuente en metros\n",
      "            ancho_cesped (num): ancho del borde de césped en metros\n",
      "    \n",
      "    Retorna:\n",
      "            semilla (float): cantidad de semilla (kg) necesaria para el borde de césped\n",
      "\n"
     ]
    }
   ],
   "source": [
    "help(seed_calculator) #help es una funcion que nos trae la documentacion de la funcion"
   ]
  },
  {
   "cell_type": "code",
   "execution_count": null,
   "metadata": {},
   "outputs": [
    {
     "data": {
      "text/plain": [
       "3.92"
      ]
     },
     "execution_count": 58,
     "metadata": {},
     "output_type": "execute_result"
    }
   ],
   "source": [
    "seed_calculator(12, 2)\n"
   ]
  },
  {
   "cell_type": "markdown",
   "metadata": {},
   "source": [
    "## Operadores lógicos AND (Y), OR (O) y NOT (NO)\n",
    "\n",
    "\n",
    "| A   | B   | A AND B | A OR B | NOT A |\n",
    "|-----|-----|---------|--------|-------|\n",
    "| False | False |  False     |   False   |   True   |\n",
    "| False | True  |  False     |   True    |   True   |\n",
    "| True  | False |  False     |   True    |   False  |\n",
    "| True  | True  |  True      |   True    |   False  |"
   ]
  },
  {
   "cell_type": "code",
   "execution_count": null,
   "metadata": {},
   "outputs": [
    {
     "name": "stdout",
     "output_type": "stream",
     "text": [
      "False\n"
     ]
    }
   ],
   "source": [
    "# Las letras que ocurren antes en el alfabeto se evalúan \n",
    "# como menores que las letras que están más adelante en el alfabeto.\n",
    "# AMBOS lados de una declaración  `and`  deben ser verdaderos para devolver True.\n",
    "\n",
    "print(\"Yellow\" > \"Cyan\" and \"Brown\" > \"Magenta\")\n"
   ]
  },
  {
   "cell_type": "code",
   "execution_count": null,
   "metadata": {},
   "outputs": [
    {
     "name": "stdout",
     "output_type": "stream",
     "text": [
      "True\n"
     ]
    }
   ],
   "source": [
    "\n",
    "# Una declaración  `or`  devolverá True si CUALQUIERA de los dos lados se evalúa como True.\n",
    "print(25 > 50 or 1 != 2)\n"
   ]
  },
  {
   "cell_type": "code",
   "execution_count": null,
   "metadata": {},
   "outputs": [
    {
     "name": "stdout",
     "output_type": "stream",
     "text": [
      "True\n"
     ]
    }
   ],
   "source": [
    "#  `not`  invierte la evaluación booleana de lo que le sigue.\n",
    "print(not 42 == \"Answer\")\n"
   ]
  },
  {
   "cell_type": "code",
   "execution_count": null,
   "metadata": {},
   "outputs": [
    {
     "name": "stdout",
     "output_type": "stream",
     "text": [
      "Nombre de usuario válido.\n"
     ]
    }
   ],
   "source": [
    "# Define una función que verifica la validez de un nombre de usuario basándose en su longitud.\n",
    "def hint_username(username):\n",
    "    if len(username) < 8:\n",
    "        print(\"Nombre de usuario inválido. Debe tener al menos 8 caracteres.\")\n",
    "    else:\n",
    "        print(\"Nombre de usuario válido.\")\n",
    "\n",
    "hint_username(\"ljñkljfñklasdjflkñadjglk{a\")\n"
   ]
  },
  {
   "cell_type": "code",
   "execution_count": null,
   "metadata": {},
   "outputs": [
    {
     "data": {
      "text/plain": [
       "False"
      ]
     },
     "execution_count": 64,
     "metadata": {},
     "output_type": "execute_result"
    }
   ],
   "source": [
    "\n",
    "# Define una función que utiliza el módulo para verificar si un número es par.\n",
    "def is_even(number):\n",
    "    if number % 2 == 0:\n",
    "        return True\n",
    "    return False\n",
    "\n",
    "is_even(19)\n"
   ]
  },
  {
   "cell_type": "code",
   "execution_count": 78,
   "metadata": {},
   "outputs": [],
   "source": [
    "\n",
    "# Define una función que verifica la validez de un nombre de usuario basándose en su longitud.\n",
    "# El elif es una manera de else if y se pueden usar todos los necesarios\n",
    "def hint_username(username):\n",
    "    if len(username) < 8:\n",
    "        print(\"Nombre de usuario inválido. Debe tener al menos 8 caracteres.\")\n",
    "    elif len(username) > 15:\n",
    "        print(\"Nombre de usuario inválido. No puede exceder los 15 caracteres.\")\n",
    "    else:\n",
    "        print(\"Nombre de usuario válido.\")\n",
    "\n",
    "hint_username(\"ljñkljfñklasdjflkñadjglk{a\")\n"
   ]
  }
 ],
 "metadata": {
  "colab": {
   "provenance": [],
   "toc_visible": true
  },
  "kernelspec": {
   "display_name": "Py_Global",
   "language": "python",
   "name": "py_global"
  },
  "language_info": {
   "codemirror_mode": {
    "name": "ipython",
    "version": 3
   },
   "file_extension": ".py",
   "mimetype": "text/x-python",
   "name": "python",
   "nbconvert_exporter": "python",
   "pygments_lexer": "ipython3",
   "version": "3.8.10"
  }
 },
 "nbformat": 4,
 "nbformat_minor": 1
}
